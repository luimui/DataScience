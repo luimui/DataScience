{
 "cells": [
  {
   "cell_type": "markdown",
   "id": "d2019575-8123-44a0-8cda-6ef7187e1ae1",
   "metadata": {},
   "source": [
    "# Exercise 1: Introduction to Python and Jupyter Lab"
   ]
  },
  {
   "cell_type": "markdown",
   "id": "20f726eb-1d25-4a7c-a00b-c0f490538421",
   "metadata": {
    "tags": []
   },
   "source": [
    "## Basic Python"
   ]
  },
  {
   "cell_type": "markdown",
   "id": "b7215a40-ffb1-4397-b6ae-e660731c0055",
   "metadata": {},
   "source": [
    "Check the tutorial `exercise_01_intro-python_tutorial.ipynb` before you start working on these exercises."
   ]
  },
  {
   "cell_type": "markdown",
   "id": "8549d49e-cd70-4291-8890-08b1ba1821bd",
   "metadata": {},
   "source": [
    "### Use Python as a calculator to compute 256²"
   ]
  },
  {
   "cell_type": "code",
   "execution_count": null,
   "id": "65548a5d-87f6-4c37-a2e5-28387d05eee6",
   "metadata": {},
   "outputs": [],
   "source": []
  },
  {
   "cell_type": "code",
   "execution_count": 1,
   "id": "13c2fc94-90af-4ef2-ad2a-598b51a110b5",
   "metadata": {
    "tags": [
     "solution"
    ]
   },
   "outputs": [
    {
     "data": {
      "text/plain": [
       "65536"
      ]
     },
     "execution_count": 1,
     "metadata": {},
     "output_type": "execute_result"
    }
   ],
   "source": [
    "256 * 256"
   ]
  },
  {
   "cell_type": "code",
   "execution_count": 2,
   "id": "8124842b-5be8-4ed4-b86b-413c7ba4dc0f",
   "metadata": {
    "tags": [
     "solution"
    ]
   },
   "outputs": [
    {
     "name": "stdout",
     "output_type": "stream",
     "text": [
      "HelloWorld!\n",
      "Hello World!\n"
     ]
    }
   ],
   "source": [
    "hello = \"Hello\"\n",
    "world = \"World!\"\n",
    "print(hello + world)\n",
    "print(hello + \" \" + world)"
   ]
  },
  {
   "cell_type": "markdown",
   "id": "796e67f6-add2-400f-915c-37255b0e35a9",
   "metadata": {},
   "source": [
    "### Create a list that contains the 4 strings \"alpha\", \"beta\", \"gamma\", and \"delta\". Add \"epsilon\" to the end of this list"
   ]
  },
  {
   "cell_type": "code",
   "execution_count": null,
   "id": "718837d8-264f-4332-b22a-9987324cefb1",
   "metadata": {},
   "outputs": [],
   "source": []
  },
  {
   "cell_type": "code",
   "execution_count": 2,
   "id": "99558a11-26db-4f79-b5b9-8b3925f747d0",
   "metadata": {
    "tags": [
     "solution"
    ]
   },
   "outputs": [
    {
     "data": {
      "text/plain": [
       "['alpha', 'beta', 'gamma', 'delta', 'epsilon']"
      ]
     },
     "execution_count": 2,
     "metadata": {},
     "output_type": "execute_result"
    }
   ],
   "source": [
    "l = [\"alpha\", \"beta\", \"gamma\", \"delta\"]\n",
    "l.append(\"epsilon\")\n",
    "l"
   ]
  },
  {
   "cell_type": "code",
   "execution_count": 3,
   "id": "f470e617-be2c-4743-9428-1172a2f31bfd",
   "metadata": {
    "tags": [
     "solution"
    ]
   },
   "outputs": [
    {
     "data": {
      "text/plain": [
       "['alpha', 'beta', 'gamma', 'delta', 'epsilon', 'omega']"
      ]
     },
     "execution_count": 3,
     "metadata": {},
     "output_type": "execute_result"
    }
   ],
   "source": [
    "# appending via overloaded '+' operator\n",
    "l = l + [\"omega\"]\n",
    "l"
   ]
  },
  {
   "cell_type": "markdown",
   "id": "22f2ad0e-c11c-46e3-8050-fe312bbf9097",
   "metadata": {},
   "source": [
    "### Create a sublist with the first three elements of this list\n"
   ]
  },
  {
   "cell_type": "code",
   "execution_count": null,
   "id": "0b89085b-b045-41e2-8c83-caf67b6290ba",
   "metadata": {},
   "outputs": [],
   "source": []
  },
  {
   "cell_type": "code",
   "execution_count": null,
   "id": "848c3c53-e516-415b-9f66-671496fe1e0f",
   "metadata": {
    "tags": [
     "solution"
    ]
   },
   "outputs": [],
   "source": [
    "# note: index on the left side of column is index After the final element we want to include\n",
    "l2 = l[:3] # -> this returns elements at indices 0,1,2\n",
    "l2"
   ]
  },
  {
   "cell_type": "markdown",
   "id": "8b2b8421-fbfc-49df-8307-f42a274291ba",
   "metadata": {},
   "source": [
    "### Write a Python program to construct the following pattern using for loops"
   ]
  },
  {
   "cell_type": "code",
   "execution_count": null,
   "id": "51f32eaa-9883-44c0-bf2a-6ef56edb82e8",
   "metadata": {},
   "outputs": [],
   "source": [
    "* \n",
    "* * \n",
    "* * * \n",
    "* * * * \n",
    "* * * * * \n",
    "* * * * \n",
    "* * * \n",
    "* * \n",
    "*"
   ]
  },
  {
   "cell_type": "code",
   "execution_count": null,
   "id": "ed48f57d-d7c8-4e91-8e2a-e0f151bbeece",
   "metadata": {},
   "outputs": [],
   "source": []
  },
  {
   "cell_type": "code",
   "execution_count": 5,
   "id": "0d8221ff-4e73-4722-9b26-a3386235d37c",
   "metadata": {
    "tags": [
     "solution"
    ]
   },
   "outputs": [
    {
     "data": {
      "text/plain": [
       "'*****'"
      ]
     },
     "execution_count": 5,
     "metadata": {},
     "output_type": "execute_result"
    }
   ],
   "source": [
    "\"*\" * 5"
   ]
  },
  {
   "cell_type": "code",
   "execution_count": 5,
   "id": "be90035b-ef77-43b7-86f1-ab6fb0e1ae92",
   "metadata": {
    "tags": [
     "solution"
    ]
   },
   "outputs": [
    {
     "name": "stdout",
     "output_type": "stream",
     "text": [
      "[1, 2, 3, 4, 5, 4, 3, 2, 1]\n",
      "* \n",
      "* * \n",
      "* * * \n",
      "* * * * \n",
      "* * * * * \n",
      "* * * * \n",
      "* * * \n",
      "* * \n",
      "* \n"
     ]
    }
   ],
   "source": [
    "ll = list(range(1,5)) + list (range (5,0,-1))\n",
    "print(ll)\n",
    "\n",
    "# for loop syntax, indentation indicates what is inside of the loop\n",
    "for i in ll:\n",
    "    print(\"* \" * i)"
   ]
  },
  {
   "cell_type": "markdown",
   "id": "70312636-b1ff-41d6-889d-873e9d048471",
   "metadata": {},
   "source": [
    "### Write a function that takes 3 input parameters and returns the product of these values"
   ]
  },
  {
   "cell_type": "code",
   "execution_count": null,
   "id": "4863bfd6-95fe-42aa-a680-136c962a7a45",
   "metadata": {},
   "outputs": [],
   "source": []
  },
  {
   "cell_type": "code",
   "execution_count": 7,
   "id": "30682c80-77fb-4ff8-b23d-c4fd435adbca",
   "metadata": {
    "tags": [
     "solution"
    ]
   },
   "outputs": [
    {
     "data": {
      "text/plain": [
       "24"
      ]
     },
     "execution_count": 7,
     "metadata": {},
     "output_type": "execute_result"
    }
   ],
   "source": [
    "def my_product(x,y,z):\n",
    "    return x*y*z\n",
    "\n",
    "my_product(2,3,4)"
   ]
  },
  {
   "cell_type": "code",
   "execution_count": 8,
   "id": "802e3671-1df8-4301-9a70-760fbbbf4240",
   "metadata": {
    "tags": [
     "solution"
    ]
   },
   "outputs": [],
   "source": [
    "# * operator actually allows arbitrary number of arguments\n",
    "# function definition, again, structure determined via indentation\n",
    "def my_product (*x):\n",
    "    result = 1\n",
    "    for elem in x:\n",
    "        result = result * elem\n",
    "    return result"
   ]
  },
  {
   "cell_type": "code",
   "execution_count": 10,
   "id": "ce80cde4-2dd8-4679-af09-26a9bc057c92",
   "metadata": {
    "tags": [
     "solution"
    ]
   },
   "outputs": [
    {
     "data": {
      "text/plain": [
       "7200"
      ]
     },
     "execution_count": 10,
     "metadata": {},
     "output_type": "execute_result"
    }
   ],
   "source": [
    "my_product(2,3,4,5,6,10)"
   ]
  },
  {
   "cell_type": "markdown",
   "id": "56d39b56-d594-44f3-ada8-51d422263d26",
   "metadata": {},
   "source": [
    "### Write a Python function that takes an int as a parameter and checks if the number is prime or not."
   ]
  },
  {
   "cell_type": "code",
   "execution_count": null,
   "id": "98883f70-686d-4831-8e1f-681caf5efcda",
   "metadata": {},
   "outputs": [],
   "source": []
  },
  {
   "cell_type": "code",
   "execution_count": 12,
   "id": "6e55d3ff-ecf9-4640-9ef2-7a9d0cfb82d4",
   "metadata": {
    "tags": [
     "solution"
    ]
   },
   "outputs": [
    {
     "data": {
      "text/plain": [
       "False"
      ]
     },
     "execution_count": 12,
     "metadata": {},
     "output_type": "execute_result"
    }
   ],
   "source": [
    "x = 20\n",
    "y = 6\n",
    "x % y == 0"
   ]
  },
  {
   "cell_type": "code",
   "execution_count": 13,
   "id": "36a07ccd-875a-4a41-bb23-37c8662f3ce0",
   "metadata": {
    "tags": [
     "solution"
    ]
   },
   "outputs": [],
   "source": [
    "from math import sqrt"
   ]
  },
  {
   "cell_type": "code",
   "execution_count": 33,
   "id": "be344e5a-e955-4d4f-9348-6c94b0ece2db",
   "metadata": {
    "tags": [
     "solution"
    ]
   },
   "outputs": [],
   "source": [
    "def is_prime(x):\n",
    "    for y in range(2,int(x**0.5) + 1):\n",
    "        if x % y == 0:\n",
    "            return False\n",
    "    return True"
   ]
  },
  {
   "cell_type": "code",
   "execution_count": 34,
   "id": "cdc06215-189a-4a17-b220-9fec67dee3d3",
   "metadata": {
    "tags": [
     "solution"
    ]
   },
   "outputs": [
    {
     "data": {
      "text/plain": [
       "2"
      ]
     },
     "execution_count": 34,
     "metadata": {},
     "output_type": "execute_result"
    }
   ],
   "source": [
    "x= 2\n",
    "int(x**0.5) + 1"
   ]
  },
  {
   "cell_type": "code",
   "execution_count": 35,
   "id": "09e81418-221a-42e2-bd57-eefb5a1052b3",
   "metadata": {
    "tags": [
     "solution"
    ]
   },
   "outputs": [
    {
     "data": {
      "text/plain": [
       "True"
      ]
     },
     "execution_count": 35,
     "metadata": {},
     "output_type": "execute_result"
    }
   ],
   "source": [
    "is_prime(2)"
   ]
  },
  {
   "cell_type": "code",
   "execution_count": 36,
   "id": "bc774f5c-7116-4fb3-a95d-afb63f05eb0b",
   "metadata": {
    "tags": [
     "solution"
    ]
   },
   "outputs": [
    {
     "name": "stdout",
     "output_type": "stream",
     "text": [
      "False\n",
      "True\n",
      "True\n",
      "False\n"
     ]
    }
   ],
   "source": [
    "def is_prime (x):\n",
    "    for n in range (2, x // 2 + 1):\n",
    "        if x % n == 0: # if-clause, uses modulo operator\n",
    "            return False\n",
    "    return True\n",
    "\n",
    "print (is_prime (12))\n",
    "print (is_prime (13))\n",
    "print (is_prime (23))\n",
    "print (is_prime (21))"
   ]
  },
  {
   "cell_type": "markdown",
   "id": "20ac68fc-30e1-4bb8-a758-f60772d588dd",
   "metadata": {},
   "source": [
    "### Use your function to create a list that contains all primes from 2 to 100"
   ]
  },
  {
   "cell_type": "code",
   "execution_count": null,
   "id": "b4c221b8-9944-43ab-93d1-e4458806b52f",
   "metadata": {},
   "outputs": [],
   "source": []
  },
  {
   "cell_type": "code",
   "execution_count": 39,
   "id": "63f6ae8d-7023-415b-9d87-f7e43ffbb607",
   "metadata": {
    "tags": [
     "solution"
    ]
   },
   "outputs": [
    {
     "data": {
      "text/plain": [
       "[2,\n",
       " 3,\n",
       " 5,\n",
       " 7,\n",
       " 11,\n",
       " 13,\n",
       " 17,\n",
       " 19,\n",
       " 23,\n",
       " 29,\n",
       " 31,\n",
       " 37,\n",
       " 41,\n",
       " 43,\n",
       " 47,\n",
       " 53,\n",
       " 59,\n",
       " 61,\n",
       " 67,\n",
       " 71,\n",
       " 73,\n",
       " 79,\n",
       " 83,\n",
       " 89,\n",
       " 97]"
      ]
     },
     "execution_count": 39,
     "metadata": {},
     "output_type": "execute_result"
    }
   ],
   "source": [
    "def primes_up_to (n):\n",
    "    return [x for x in range(2, n+1) if is_prime(x)]\n",
    "\n",
    "primes_up_to(100)"
   ]
  },
  {
   "cell_type": "code",
   "execution_count": 37,
   "id": "c088f62d-e78b-46d8-b232-671666aca887",
   "metadata": {
    "tags": [
     "solution"
    ]
   },
   "outputs": [
    {
     "data": {
      "text/plain": [
       "[2,\n",
       " 3,\n",
       " 5,\n",
       " 7,\n",
       " 11,\n",
       " 13,\n",
       " 17,\n",
       " 19,\n",
       " 23,\n",
       " 29,\n",
       " 31,\n",
       " 37,\n",
       " 41,\n",
       " 43,\n",
       " 47,\n",
       " 53,\n",
       " 59,\n",
       " 61,\n",
       " 67,\n",
       " 71,\n",
       " 73,\n",
       " 79,\n",
       " 83,\n",
       " 89,\n",
       " 97]"
      ]
     },
     "execution_count": 37,
     "metadata": {},
     "output_type": "execute_result"
    }
   ],
   "source": [
    "# solve via another helper function\n",
    "def primes_up_to (n):\n",
    "    result = []\n",
    "    for x in range (2, n+1):\n",
    "        if is_prime(x):\n",
    "            result.append(x)\n",
    "    return result\n",
    "\n",
    "primes_up_to(100)"
   ]
  },
  {
   "cell_type": "markdown",
   "id": "3b4c7acf-a017-4f40-ae6f-3a55edf5bff2",
   "metadata": {},
   "source": [
    "### Write a function that simulates dice rolls (6-sided dices)\n",
    "- Write a function that has the number of dice rolls as the input parameter\n",
    "- The output is a map with the counts how often each result of a roll (1-6) occurred\n",
    "- You can use the randomint() function from the random package"
   ]
  },
  {
   "cell_type": "code",
   "execution_count": null,
   "id": "199fda56-3238-48d3-889a-3a043e04f88e",
   "metadata": {},
   "outputs": [],
   "source": [
    "# load the random package\n",
    "import random"
   ]
  },
  {
   "cell_type": "code",
   "execution_count": null,
   "id": "7e622e39-d1ab-437a-9319-020727d1c48b",
   "metadata": {},
   "outputs": [],
   "source": []
  },
  {
   "cell_type": "code",
   "execution_count": 40,
   "id": "cc9e14c7-eec4-423d-a93d-065415e30b79",
   "metadata": {
    "tags": [
     "solution"
    ]
   },
   "outputs": [
    {
     "data": {
      "text/plain": [
       "{1: 10125, 2: 9943, 3: 10136, 4: 9860, 5: 10099, 6: 9837}"
      ]
     },
     "execution_count": 40,
     "metadata": {},
     "output_type": "execute_result"
    }
   ],
   "source": [
    "import random # how to import installed libraries\n",
    "\n",
    "def roll (n):\n",
    "    result = {1:0, 2:0, 3:0, 4:0, 5:0, 6:0} # manual definition of a dictionary -> listing of key:value pairs\n",
    "    for i in range (n):\n",
    "        r = random.randint(1,6)\n",
    "        result [r] = result[r] + 1 #access to value via key -> hashmap principle\n",
    "    return result\n",
    "\n",
    "roll (60000)"
   ]
  },
  {
   "cell_type": "markdown",
   "id": "a1e47dde-6e38-4668-a962-3a2fb9b783e0",
   "metadata": {},
   "source": [
    "### Combine two dictionaries by adding values for common keys.\n",
    "d1 = {'a': 100, 'b': 200, 'c':300}\n",
    "\n",
    "d2 = {'a': 300, 'b': 200, 'd':400}\n",
    "\n",
    "Sample output: {'a': 400, 'b': 400, 'd': 400, 'c': 300}"
   ]
  },
  {
   "cell_type": "code",
   "execution_count": null,
   "id": "ce2de309-bf49-44dd-a9ca-83d9d20e6918",
   "metadata": {},
   "outputs": [],
   "source": []
  },
  {
   "cell_type": "code",
   "execution_count": 9,
   "id": "3bcaabf6-bdcb-4fb0-99b1-0228d961062f",
   "metadata": {
    "tags": [
     "solution"
    ]
   },
   "outputs": [
    {
     "data": {
      "text/plain": [
       "{'a': 400, 'b': 400, 'c': 300, 'd': 400}"
      ]
     },
     "execution_count": 9,
     "metadata": {},
     "output_type": "execute_result"
    }
   ],
   "source": [
    "d1 = {'a': 100, 'b': 200, 'c':300}\n",
    "d2 = {'a': 300, 'b': 200, 'd':400}\n",
    "\n",
    "d = {}\n",
    "\n",
    "# iteration over key-value pairs via items()\n",
    "for k,v in d1.items():\n",
    "    d[k] = v\n",
    "for k,v in d2.items():\n",
    "    if k in d:\n",
    "        d [k] = d[k] + v\n",
    "    else:\n",
    "        d[k] = v\n",
    "d"
   ]
  },
  {
   "cell_type": "markdown",
   "id": "3acc1c3f-be2a-4a2f-a950-f6e88a480278",
   "metadata": {},
   "source": [
    "### Create a list of lists. Then, write a list comprehension that creates a list with the lengths of each (sub)list in the primary list"
   ]
  },
  {
   "cell_type": "code",
   "execution_count": null,
   "id": "2b5b5793-df44-41a1-b890-a78f1e94cfc4",
   "metadata": {},
   "outputs": [],
   "source": []
  },
  {
   "cell_type": "code",
   "execution_count": 10,
   "id": "e334c5fa-1b36-4d17-b1a6-d10db027a9b2",
   "metadata": {
    "tags": [
     "solution"
    ]
   },
   "outputs": [
    {
     "data": {
      "text/plain": [
       "[3, 2, 3]"
      ]
     },
     "execution_count": 10,
     "metadata": {},
     "output_type": "execute_result"
    }
   ],
   "source": [
    "test_l = [[1,2,3],[\"a\", \"b\"], [123.5, \"a\", 44]]\n",
    "[len(t) for t in test_l] # loop in list comprehension"
   ]
  },
  {
   "cell_type": "markdown",
   "id": "1112b85d-aa4f-482c-8b23-18c89d9eb489",
   "metadata": {},
   "source": [
    "### Exceptions\n",
    "\n",
    "Write your own function *my_division* that gets two variables a and b and returns a divided by b. Catch the ZeroDivisionError that occurs if b equals 0 and return 1 in this case.\n",
    "\n",
    "How could the same behavior be achieved without catching an exception?"
   ]
  },
  {
   "cell_type": "code",
   "execution_count": null,
   "id": "6ecc7bf0-6f39-48d9-961c-c9d19f14ba9f",
   "metadata": {},
   "outputs": [],
   "source": []
  },
  {
   "cell_type": "code",
   "execution_count": 11,
   "id": "61d1188d-f531-4a4d-839b-33937f59f335",
   "metadata": {
    "tags": [
     "solution"
    ]
   },
   "outputs": [
    {
     "name": "stdout",
     "output_type": "stream",
     "text": [
      "4.0\n",
      "1\n"
     ]
    }
   ],
   "source": [
    "def my_division (a, b):\n",
    "    try: \n",
    "        return a / b\n",
    "    except ZeroDivisionError: # call specific error, try-except also works without specifying error\n",
    "        return 1\n",
    "\n",
    "print (my_division (20,5))\n",
    "print (my_division (20,0))"
   ]
  },
  {
   "cell_type": "code",
   "execution_count": 12,
   "id": "0993ac2d-2c56-4981-9ab9-aad12954b63a",
   "metadata": {
    "tags": [
     "solution"
    ]
   },
   "outputs": [
    {
     "name": "stdout",
     "output_type": "stream",
     "text": [
      "4.0\n",
      "1\n"
     ]
    }
   ],
   "source": [
    "# same function without catching exception\n",
    "def my_division2 (a, b):\n",
    "    if b==0: \n",
    "        return 1\n",
    "    else:\n",
    "        return a/b\n",
    "\n",
    "print (my_division2 (20,5))\n",
    "print (my_division2 (20,0))"
   ]
  },
  {
   "cell_type": "markdown",
   "id": "2109c903-0838-4fd4-b358-f50b24f04cb5",
   "metadata": {},
   "source": [
    "### File handling\n",
    "\n",
    "Write a function that gets a letter and the path to a (text-)file on your harddrive as input parameters and computes a list as its output. The list should contain one number for each line. The i-th line shows, how often the given letter occurs in line number i in the text file. Test your function on \"ftest.txt\", which was provided in this exercise!"
   ]
  },
  {
   "cell_type": "code",
   "execution_count": null,
   "id": "d981c0cf-8761-42fb-9a3b-2d25bc165053",
   "metadata": {},
   "outputs": [],
   "source": []
  },
  {
   "cell_type": "code",
   "execution_count": 20,
   "id": "3e4ea247-4ab1-4125-ae91-80bebf8af42e",
   "metadata": {
    "tags": [
     "solution"
    ]
   },
   "outputs": [],
   "source": [
    "def count_letter (letter, filename):\n",
    "    result = []\n",
    "    # with -- as to create alias\n",
    "    with open(filename, \"r\") as f: #r ==> open for reading\n",
    "        for line in f: # overloaded 'in' iterates over rows in file\n",
    "            result.append(line.count(letter)) #built-in count() function for strings\n",
    "    return result"
   ]
  },
  {
   "cell_type": "code",
   "execution_count": 22,
   "id": "bc3df07d-10f5-4036-bfbf-9926f75c57ae",
   "metadata": {
    "tags": [
     "solution"
    ]
   },
   "outputs": [
    {
     "data": {
      "text/plain": [
       "[11, 22, 9]"
      ]
     },
     "execution_count": 22,
     "metadata": {},
     "output_type": "execute_result"
    }
   ],
   "source": [
    "count_letter('a',\"test.txt\")"
   ]
  },
  {
   "cell_type": "markdown",
   "id": "2186eb5d-4547-4a45-a7e8-7e4d124802ea",
   "metadata": {},
   "source": [
    "## Numpy\n",
    "\n",
    "In this last set of tasks, you will have to work with [numpy](https://numpy.org/), the the fundamental package for scientific computing with Python.\n",
    "Make sure to execute the cell below to import the package, we will usually use the abbreviation np for numpy to obtain shorter code."
   ]
  },
  {
   "cell_type": "code",
   "execution_count": 23,
   "id": "720f6b80-8830-48bb-b76c-08628745d322",
   "metadata": {},
   "outputs": [],
   "source": [
    "import numpy as np"
   ]
  },
  {
   "cell_type": "markdown",
   "id": "f8a4c99f-1ec5-47bf-9f39-9b0da4838ecb",
   "metadata": {},
   "source": [
    "### Create a numpy array with 20 rows and 10 columns, where all values are set to zero"
   ]
  },
  {
   "cell_type": "code",
   "execution_count": null,
   "id": "8e035f33-904c-414d-b4ce-04016d8425a8",
   "metadata": {},
   "outputs": [],
   "source": []
  },
  {
   "cell_type": "code",
   "execution_count": 27,
   "id": "7501704b-a359-479e-9286-7d3c790505da",
   "metadata": {
    "tags": [
     "solution"
    ]
   },
   "outputs": [
    {
     "data": {
      "text/plain": [
       "array([[0., 0., 0., 0., 0., 0., 0., 0., 0., 0.],\n",
       "       [0., 0., 0., 0., 0., 0., 0., 0., 0., 0.],\n",
       "       [0., 0., 0., 0., 0., 0., 0., 0., 0., 0.],\n",
       "       [0., 0., 0., 0., 0., 0., 0., 0., 0., 0.],\n",
       "       [0., 0., 0., 0., 0., 0., 0., 0., 0., 0.],\n",
       "       [0., 0., 0., 0., 0., 0., 0., 0., 0., 0.],\n",
       "       [0., 0., 0., 0., 0., 0., 0., 0., 0., 0.],\n",
       "       [0., 0., 0., 0., 0., 0., 0., 0., 0., 0.],\n",
       "       [0., 0., 0., 0., 0., 0., 0., 0., 0., 0.],\n",
       "       [0., 0., 0., 0., 0., 0., 0., 0., 0., 0.],\n",
       "       [0., 0., 0., 0., 0., 0., 0., 0., 0., 0.],\n",
       "       [0., 0., 0., 0., 0., 0., 0., 0., 0., 0.],\n",
       "       [0., 0., 0., 0., 0., 0., 0., 0., 0., 0.],\n",
       "       [0., 0., 0., 0., 0., 0., 0., 0., 0., 0.],\n",
       "       [0., 0., 0., 0., 0., 0., 0., 0., 0., 0.],\n",
       "       [0., 0., 0., 0., 0., 0., 0., 0., 0., 0.],\n",
       "       [0., 0., 0., 0., 0., 0., 0., 0., 0., 0.],\n",
       "       [0., 0., 0., 0., 0., 0., 0., 0., 0., 0.],\n",
       "       [0., 0., 0., 0., 0., 0., 0., 0., 0., 0.],\n",
       "       [0., 0., 0., 0., 0., 0., 0., 0., 0., 0.]])"
      ]
     },
     "execution_count": 27,
     "metadata": {},
     "output_type": "execute_result"
    }
   ],
   "source": [
    "x = np.zeros ((20,10))\n",
    "x"
   ]
  },
  {
   "cell_type": "code",
   "execution_count": 28,
   "id": "a89864ba-3b71-4c3a-a189-eb8c6f7e4c35",
   "metadata": {
    "tags": [
     "solution"
    ]
   },
   "outputs": [],
   "source": [
    "# Tedious: direct specification of a array/matrix (here only 2x2)\n",
    "x =np.array([[0,0],\n",
    "          [0,0]])"
   ]
  },
  {
   "cell_type": "markdown",
   "id": "c3b7fa97-c0dd-42af-be96-6c9ee3a18273",
   "metadata": {},
   "source": [
    "### Create an array with the same shape containing all natural numbers 0-199"
   ]
  },
  {
   "cell_type": "code",
   "execution_count": null,
   "id": "4020da1d-7463-4b95-b675-ad8958af6882",
   "metadata": {},
   "outputs": [],
   "source": []
  },
  {
   "cell_type": "code",
   "execution_count": 29,
   "id": "c2750d79-f14e-476e-8e0c-a16fdc20850e",
   "metadata": {
    "tags": [
     "solution"
    ]
   },
   "outputs": [
    {
     "data": {
      "text/plain": [
       "array([[  0,   1,   2,   3,   4,   5,   6,   7,   8,   9],\n",
       "       [ 10,  11,  12,  13,  14,  15,  16,  17,  18,  19],\n",
       "       [ 20,  21,  22,  23,  24,  25,  26,  27,  28,  29],\n",
       "       [ 30,  31,  32,  33,  34,  35,  36,  37,  38,  39],\n",
       "       [ 40,  41,  42,  43,  44,  45,  46,  47,  48,  49],\n",
       "       [ 50,  51,  52,  53,  54,  55,  56,  57,  58,  59],\n",
       "       [ 60,  61,  62,  63,  64,  65,  66,  67,  68,  69],\n",
       "       [ 70,  71,  72,  73,  74,  75,  76,  77,  78,  79],\n",
       "       [ 80,  81,  82,  83,  84,  85,  86,  87,  88,  89],\n",
       "       [ 90,  91,  92,  93,  94,  95,  96,  97,  98,  99],\n",
       "       [100, 101, 102, 103, 104, 105, 106, 107, 108, 109],\n",
       "       [110, 111, 112, 113, 114, 115, 116, 117, 118, 119],\n",
       "       [120, 121, 122, 123, 124, 125, 126, 127, 128, 129],\n",
       "       [130, 131, 132, 133, 134, 135, 136, 137, 138, 139],\n",
       "       [140, 141, 142, 143, 144, 145, 146, 147, 148, 149],\n",
       "       [150, 151, 152, 153, 154, 155, 156, 157, 158, 159],\n",
       "       [160, 161, 162, 163, 164, 165, 166, 167, 168, 169],\n",
       "       [170, 171, 172, 173, 174, 175, 176, 177, 178, 179],\n",
       "       [180, 181, 182, 183, 184, 185, 186, 187, 188, 189],\n",
       "       [190, 191, 192, 193, 194, 195, 196, 197, 198, 199]])"
      ]
     },
     "execution_count": 29,
     "metadata": {},
     "output_type": "execute_result"
    }
   ],
   "source": [
    "# np.arange similar to range\n",
    "np.arange(200).reshape((20,10))"
   ]
  },
  {
   "cell_type": "markdown",
   "id": "8d41870d-164f-4a72-9ca7-c9c0965f9000",
   "metadata": {},
   "source": [
    "### Create a 4-dimensional array with exactly 16 elements and set all values to a random integer smaller than 5"
   ]
  },
  {
   "cell_type": "code",
   "execution_count": null,
   "id": "64d65c53-8dfc-490d-ae44-74c40e4dcdda",
   "metadata": {},
   "outputs": [],
   "source": []
  },
  {
   "cell_type": "code",
   "execution_count": 30,
   "id": "be43dfc3-3c52-4d8d-a868-7e84f18a2d01",
   "metadata": {
    "tags": [
     "solution"
    ]
   },
   "outputs": [
    {
     "data": {
      "text/plain": [
       "array([[[[0, 1],\n",
       "         [0, 2]],\n",
       "\n",
       "        [[3, 1],\n",
       "         [3, 2]]],\n",
       "\n",
       "\n",
       "       [[[4, 3],\n",
       "         [4, 3]],\n",
       "\n",
       "        [[4, 0],\n",
       "         [3, 0]]]])"
      ]
     },
     "execution_count": 30,
     "metadata": {},
     "output_type": "execute_result"
    }
   ],
   "source": [
    "x = np.random.randint(5, size=(2,2,2,2))\n",
    "x"
   ]
  },
  {
   "cell_type": "markdown",
   "id": "d07b914f-8caf-4180-9134-63f08d654c2a",
   "metadata": {},
   "source": [
    "### What is the mean of all values contained in this array?"
   ]
  },
  {
   "cell_type": "code",
   "execution_count": null,
   "id": "82ad759f-8c1a-4abf-bf92-f17bc6280426",
   "metadata": {},
   "outputs": [],
   "source": []
  },
  {
   "cell_type": "code",
   "execution_count": 31,
   "id": "43b71c32-7f5b-4f42-99e1-6116947ea98f",
   "metadata": {
    "tags": [
     "solution"
    ]
   },
   "outputs": [
    {
     "data": {
      "text/plain": [
       "2.0625"
      ]
     },
     "execution_count": 31,
     "metadata": {},
     "output_type": "execute_result"
    }
   ],
   "source": [
    "x.mean()"
   ]
  },
  {
   "cell_type": "markdown",
   "id": "4d5087de-7f2d-4e9a-9f1a-c84eb4bd2019",
   "metadata": {},
   "source": [
    "### Select a sub-array containing exactly two elements of that array!"
   ]
  },
  {
   "cell_type": "code",
   "execution_count": null,
   "id": "01556c1f-d86e-42f9-9fb6-6bfb78ccbb97",
   "metadata": {},
   "outputs": [],
   "source": []
  },
  {
   "cell_type": "code",
   "execution_count": 32,
   "id": "0b189948-cb08-4b25-9625-cf349c5fd2d3",
   "metadata": {
    "tags": [
     "solution"
    ]
   },
   "outputs": [
    {
     "data": {
      "text/plain": [
       "array([3, 0])"
      ]
     },
     "execution_count": 32,
     "metadata": {},
     "output_type": "execute_result"
    }
   ],
   "source": [
    "x[1,1,1,:]"
   ]
  },
  {
   "cell_type": "markdown",
   "id": "7501a465-9803-4158-9714-4fbc2190cf8e",
   "metadata": {},
   "source": [
    "### Given a numpy array, return a new numpy array that contains only the elements that are greater than 100"
   ]
  },
  {
   "cell_type": "code",
   "execution_count": null,
   "id": "f3838a6f-2481-4957-8261-c7f6dd9b1a4f",
   "metadata": {},
   "outputs": [],
   "source": []
  },
  {
   "cell_type": "code",
   "execution_count": 54,
   "id": "87a85028-7d2d-4808-a010-78adf8b7fa99",
   "metadata": {
    "tags": [
     "solution"
    ]
   },
   "outputs": [
    {
     "data": {
      "text/plain": [
       "array([120, 150, 250, 300, 112])"
      ]
     },
     "execution_count": 54,
     "metadata": {},
     "output_type": "execute_result"
    }
   ],
   "source": [
    "x = np.array([120,-5,150,250,300,50,112])\n",
    "x[x > 100]"
   ]
  },
  {
   "cell_type": "code",
   "execution_count": 55,
   "id": "050ac380-3e49-4ad3-bd85-ec4995cbac6a",
   "metadata": {
    "tags": [
     "solution"
    ]
   },
   "outputs": [
    {
     "data": {
      "text/plain": [
       "array([ True, False,  True,  True,  True, False,  True])"
      ]
     },
     "execution_count": 55,
     "metadata": {},
     "output_type": "execute_result"
    }
   ],
   "source": [
    "# works via indexing with array of boolean values\n",
    "x > 100"
   ]
  },
  {
   "cell_type": "markdown",
   "id": "3cd641ad-4ac5-437a-8b64-5e96ee744d1f",
   "metadata": {},
   "source": [
    "## Pandas"
   ]
  },
  {
   "cell_type": "markdown",
   "id": "d8e26d1b-98e8-400b-9d89-d4fbaf8b779a",
   "metadata": {},
   "source": [
    "> **pandas** is a fast, powerful, flexible and easy to use open source data analysis and manipulation tool,\n",
    "built on top of the Python programming language.<br/>[(source)](https://pandas.pydata.org/)\n",
    "\n",
    "We will do a couple of simple things here. For more material see:\n",
    "* [10 minutes to pandas](https://pandas.pydata.org/docs/user_guide/10min.html) (this is probably more than ten minutes ;))\n",
    "* [Pandas tutorial by Kaggle](https://www.kaggle.com/learn/pandas)"
   ]
  },
  {
   "cell_type": "code",
   "execution_count": 8,
   "id": "4c3ff186-c04c-4875-a6df-55b0cd4fa799",
   "metadata": {},
   "outputs": [],
   "source": [
    "import pandas as pd"
   ]
  },
  {
   "cell_type": "markdown",
   "id": "d133d6e5-4a71-455f-8eb8-fe20dcbb571b",
   "metadata": {},
   "source": [
    "### Read the CSV file `exercise_01_titanic.csv` using pandas."
   ]
  },
  {
   "cell_type": "markdown",
   "id": "793a3313-a813-4abb-8634-6c7ac442b3dc",
   "metadata": {},
   "source": [
    "* see [`read_csv` documentation](https://pandas.pydata.org/docs/reference/api/pandas.read_csv.html) for an example\n",
    "* make sure the `index` is set to the `PassengerId`"
   ]
  },
  {
   "cell_type": "code",
   "execution_count": null,
   "id": "9896d2ae-aee9-4d3a-9a85-9c115df82eb1",
   "metadata": {},
   "outputs": [],
   "source": []
  },
  {
   "cell_type": "code",
   "execution_count": 9,
   "id": "6a1c5937-e169-43a7-8db4-ef58add15352",
   "metadata": {
    "tags": [
     "solution"
    ]
   },
   "outputs": [],
   "source": [
    "data_titanic = pd.read_csv(\"exercise_01_titanic.csv\", index_col=\"PassengerId\")"
   ]
  },
  {
   "cell_type": "markdown",
   "id": "c3e8698a-3926-494d-a6ff-c103faad7376",
   "metadata": {},
   "source": [
    "### Display the first/last five rows the dataset you loaded"
   ]
  },
  {
   "cell_type": "code",
   "execution_count": null,
   "id": "59a835b1-ff1b-4121-b4ed-dc38c6c13ea2",
   "metadata": {},
   "outputs": [],
   "source": []
  },
  {
   "cell_type": "code",
   "execution_count": 10,
   "id": "6c77f8db-6dd1-4245-9477-08fd21f613ac",
   "metadata": {
    "tags": [
     "solution"
    ]
   },
   "outputs": [
    {
     "data": {
      "text/html": [
       "<div>\n",
       "<style scoped>\n",
       "    .dataframe tbody tr th:only-of-type {\n",
       "        vertical-align: middle;\n",
       "    }\n",
       "\n",
       "    .dataframe tbody tr th {\n",
       "        vertical-align: top;\n",
       "    }\n",
       "\n",
       "    .dataframe thead th {\n",
       "        text-align: right;\n",
       "    }\n",
       "</style>\n",
       "<table border=\"1\" class=\"dataframe\">\n",
       "  <thead>\n",
       "    <tr style=\"text-align: right;\">\n",
       "      <th></th>\n",
       "      <th>Survived</th>\n",
       "      <th>Pclass</th>\n",
       "      <th>Name</th>\n",
       "      <th>Sex</th>\n",
       "      <th>Age</th>\n",
       "      <th>SibSp</th>\n",
       "      <th>Parch</th>\n",
       "      <th>Ticket</th>\n",
       "      <th>Fare</th>\n",
       "      <th>Cabin</th>\n",
       "      <th>Embarked</th>\n",
       "    </tr>\n",
       "    <tr>\n",
       "      <th>PassengerId</th>\n",
       "      <th></th>\n",
       "      <th></th>\n",
       "      <th></th>\n",
       "      <th></th>\n",
       "      <th></th>\n",
       "      <th></th>\n",
       "      <th></th>\n",
       "      <th></th>\n",
       "      <th></th>\n",
       "      <th></th>\n",
       "      <th></th>\n",
       "    </tr>\n",
       "  </thead>\n",
       "  <tbody>\n",
       "    <tr>\n",
       "      <th>1</th>\n",
       "      <td>0</td>\n",
       "      <td>3</td>\n",
       "      <td>Braund, Mr. Owen Harris</td>\n",
       "      <td>male</td>\n",
       "      <td>22.0</td>\n",
       "      <td>1</td>\n",
       "      <td>0</td>\n",
       "      <td>A/5 21171</td>\n",
       "      <td>7.2500</td>\n",
       "      <td>NaN</td>\n",
       "      <td>S</td>\n",
       "    </tr>\n",
       "    <tr>\n",
       "      <th>2</th>\n",
       "      <td>1</td>\n",
       "      <td>1</td>\n",
       "      <td>Cumings, Mrs. John Bradley (Florence Briggs Th...</td>\n",
       "      <td>female</td>\n",
       "      <td>38.0</td>\n",
       "      <td>1</td>\n",
       "      <td>0</td>\n",
       "      <td>PC 17599</td>\n",
       "      <td>71.2833</td>\n",
       "      <td>C85</td>\n",
       "      <td>C</td>\n",
       "    </tr>\n",
       "    <tr>\n",
       "      <th>3</th>\n",
       "      <td>1</td>\n",
       "      <td>3</td>\n",
       "      <td>Heikkinen, Miss. Laina</td>\n",
       "      <td>female</td>\n",
       "      <td>26.0</td>\n",
       "      <td>0</td>\n",
       "      <td>0</td>\n",
       "      <td>STON/O2. 3101282</td>\n",
       "      <td>7.9250</td>\n",
       "      <td>NaN</td>\n",
       "      <td>S</td>\n",
       "    </tr>\n",
       "    <tr>\n",
       "      <th>4</th>\n",
       "      <td>1</td>\n",
       "      <td>1</td>\n",
       "      <td>Futrelle, Mrs. Jacques Heath (Lily May Peel)</td>\n",
       "      <td>female</td>\n",
       "      <td>35.0</td>\n",
       "      <td>1</td>\n",
       "      <td>0</td>\n",
       "      <td>113803</td>\n",
       "      <td>53.1000</td>\n",
       "      <td>C123</td>\n",
       "      <td>S</td>\n",
       "    </tr>\n",
       "    <tr>\n",
       "      <th>5</th>\n",
       "      <td>0</td>\n",
       "      <td>3</td>\n",
       "      <td>Allen, Mr. William Henry</td>\n",
       "      <td>male</td>\n",
       "      <td>35.0</td>\n",
       "      <td>0</td>\n",
       "      <td>0</td>\n",
       "      <td>373450</td>\n",
       "      <td>8.0500</td>\n",
       "      <td>NaN</td>\n",
       "      <td>S</td>\n",
       "    </tr>\n",
       "  </tbody>\n",
       "</table>\n",
       "</div>"
      ],
      "text/plain": [
       "             Survived  Pclass  \\\n",
       "PassengerId                     \n",
       "1                   0       3   \n",
       "2                   1       1   \n",
       "3                   1       3   \n",
       "4                   1       1   \n",
       "5                   0       3   \n",
       "\n",
       "                                                          Name     Sex   Age  \\\n",
       "PassengerId                                                                    \n",
       "1                                      Braund, Mr. Owen Harris    male  22.0   \n",
       "2            Cumings, Mrs. John Bradley (Florence Briggs Th...  female  38.0   \n",
       "3                                       Heikkinen, Miss. Laina  female  26.0   \n",
       "4                 Futrelle, Mrs. Jacques Heath (Lily May Peel)  female  35.0   \n",
       "5                                     Allen, Mr. William Henry    male  35.0   \n",
       "\n",
       "             SibSp  Parch            Ticket     Fare Cabin Embarked  \n",
       "PassengerId                                                          \n",
       "1                1      0         A/5 21171   7.2500   NaN        S  \n",
       "2                1      0          PC 17599  71.2833   C85        C  \n",
       "3                0      0  STON/O2. 3101282   7.9250   NaN        S  \n",
       "4                1      0            113803  53.1000  C123        S  \n",
       "5                0      0            373450   8.0500   NaN        S  "
      ]
     },
     "execution_count": 10,
     "metadata": {},
     "output_type": "execute_result"
    }
   ],
   "source": [
    "data_titanic.head(5)"
   ]
  },
  {
   "cell_type": "code",
   "execution_count": 11,
   "id": "cfb0da99-8854-4ff9-aa23-add454a376ae",
   "metadata": {
    "tags": [
     "solution"
    ]
   },
   "outputs": [
    {
     "data": {
      "text/html": [
       "<div>\n",
       "<style scoped>\n",
       "    .dataframe tbody tr th:only-of-type {\n",
       "        vertical-align: middle;\n",
       "    }\n",
       "\n",
       "    .dataframe tbody tr th {\n",
       "        vertical-align: top;\n",
       "    }\n",
       "\n",
       "    .dataframe thead th {\n",
       "        text-align: right;\n",
       "    }\n",
       "</style>\n",
       "<table border=\"1\" class=\"dataframe\">\n",
       "  <thead>\n",
       "    <tr style=\"text-align: right;\">\n",
       "      <th></th>\n",
       "      <th>Survived</th>\n",
       "      <th>Pclass</th>\n",
       "      <th>Name</th>\n",
       "      <th>Sex</th>\n",
       "      <th>Age</th>\n",
       "      <th>SibSp</th>\n",
       "      <th>Parch</th>\n",
       "      <th>Ticket</th>\n",
       "      <th>Fare</th>\n",
       "      <th>Cabin</th>\n",
       "      <th>Embarked</th>\n",
       "    </tr>\n",
       "    <tr>\n",
       "      <th>PassengerId</th>\n",
       "      <th></th>\n",
       "      <th></th>\n",
       "      <th></th>\n",
       "      <th></th>\n",
       "      <th></th>\n",
       "      <th></th>\n",
       "      <th></th>\n",
       "      <th></th>\n",
       "      <th></th>\n",
       "      <th></th>\n",
       "      <th></th>\n",
       "    </tr>\n",
       "  </thead>\n",
       "  <tbody>\n",
       "    <tr>\n",
       "      <th>887</th>\n",
       "      <td>0</td>\n",
       "      <td>2</td>\n",
       "      <td>Montvila, Rev. Juozas</td>\n",
       "      <td>male</td>\n",
       "      <td>27.0</td>\n",
       "      <td>0</td>\n",
       "      <td>0</td>\n",
       "      <td>211536</td>\n",
       "      <td>13.00</td>\n",
       "      <td>NaN</td>\n",
       "      <td>S</td>\n",
       "    </tr>\n",
       "    <tr>\n",
       "      <th>888</th>\n",
       "      <td>1</td>\n",
       "      <td>1</td>\n",
       "      <td>Graham, Miss. Margaret Edith</td>\n",
       "      <td>female</td>\n",
       "      <td>19.0</td>\n",
       "      <td>0</td>\n",
       "      <td>0</td>\n",
       "      <td>112053</td>\n",
       "      <td>30.00</td>\n",
       "      <td>B42</td>\n",
       "      <td>S</td>\n",
       "    </tr>\n",
       "    <tr>\n",
       "      <th>889</th>\n",
       "      <td>0</td>\n",
       "      <td>3</td>\n",
       "      <td>Johnston, Miss. Catherine Helen \"Carrie\"</td>\n",
       "      <td>female</td>\n",
       "      <td>NaN</td>\n",
       "      <td>1</td>\n",
       "      <td>2</td>\n",
       "      <td>W./C. 6607</td>\n",
       "      <td>23.45</td>\n",
       "      <td>NaN</td>\n",
       "      <td>S</td>\n",
       "    </tr>\n",
       "    <tr>\n",
       "      <th>890</th>\n",
       "      <td>1</td>\n",
       "      <td>1</td>\n",
       "      <td>Behr, Mr. Karl Howell</td>\n",
       "      <td>male</td>\n",
       "      <td>26.0</td>\n",
       "      <td>0</td>\n",
       "      <td>0</td>\n",
       "      <td>111369</td>\n",
       "      <td>30.00</td>\n",
       "      <td>C148</td>\n",
       "      <td>C</td>\n",
       "    </tr>\n",
       "    <tr>\n",
       "      <th>891</th>\n",
       "      <td>0</td>\n",
       "      <td>3</td>\n",
       "      <td>Dooley, Mr. Patrick</td>\n",
       "      <td>male</td>\n",
       "      <td>32.0</td>\n",
       "      <td>0</td>\n",
       "      <td>0</td>\n",
       "      <td>370376</td>\n",
       "      <td>7.75</td>\n",
       "      <td>NaN</td>\n",
       "      <td>Q</td>\n",
       "    </tr>\n",
       "  </tbody>\n",
       "</table>\n",
       "</div>"
      ],
      "text/plain": [
       "             Survived  Pclass                                      Name  \\\n",
       "PassengerId                                                               \n",
       "887                 0       2                     Montvila, Rev. Juozas   \n",
       "888                 1       1              Graham, Miss. Margaret Edith   \n",
       "889                 0       3  Johnston, Miss. Catherine Helen \"Carrie\"   \n",
       "890                 1       1                     Behr, Mr. Karl Howell   \n",
       "891                 0       3                       Dooley, Mr. Patrick   \n",
       "\n",
       "                Sex   Age  SibSp  Parch      Ticket   Fare Cabin Embarked  \n",
       "PassengerId                                                                \n",
       "887            male  27.0      0      0      211536  13.00   NaN        S  \n",
       "888          female  19.0      0      0      112053  30.00   B42        S  \n",
       "889          female   NaN      1      2  W./C. 6607  23.45   NaN        S  \n",
       "890            male  26.0      0      0      111369  30.00  C148        C  \n",
       "891            male  32.0      0      0      370376   7.75   NaN        Q  "
      ]
     },
     "execution_count": 11,
     "metadata": {},
     "output_type": "execute_result"
    }
   ],
   "source": [
    "data_titanic.tail(5)"
   ]
  },
  {
   "cell_type": "markdown",
   "id": "671ef93c-f34b-4e34-b6a9-c374ef89412c",
   "metadata": {},
   "source": [
    "### Use the `describe` method to look at the features in the dataset."
   ]
  },
  {
   "cell_type": "code",
   "execution_count": null,
   "id": "6b910a50-98d0-4601-ae06-0c4bfcbd7c36",
   "metadata": {},
   "outputs": [],
   "source": []
  },
  {
   "cell_type": "code",
   "execution_count": 13,
   "id": "a557ad80-df5e-4b8f-b954-43814cff68c7",
   "metadata": {
    "tags": [
     "solution"
    ]
   },
   "outputs": [
    {
     "data": {
      "text/html": [
       "<div>\n",
       "<style scoped>\n",
       "    .dataframe tbody tr th:only-of-type {\n",
       "        vertical-align: middle;\n",
       "    }\n",
       "\n",
       "    .dataframe tbody tr th {\n",
       "        vertical-align: top;\n",
       "    }\n",
       "\n",
       "    .dataframe thead th {\n",
       "        text-align: right;\n",
       "    }\n",
       "</style>\n",
       "<table border=\"1\" class=\"dataframe\">\n",
       "  <thead>\n",
       "    <tr style=\"text-align: right;\">\n",
       "      <th></th>\n",
       "      <th>Survived</th>\n",
       "      <th>Pclass</th>\n",
       "      <th>Age</th>\n",
       "      <th>SibSp</th>\n",
       "      <th>Parch</th>\n",
       "      <th>Fare</th>\n",
       "    </tr>\n",
       "  </thead>\n",
       "  <tbody>\n",
       "    <tr>\n",
       "      <th>count</th>\n",
       "      <td>891.000000</td>\n",
       "      <td>891.000000</td>\n",
       "      <td>714.000000</td>\n",
       "      <td>891.000000</td>\n",
       "      <td>891.000000</td>\n",
       "      <td>891.000000</td>\n",
       "    </tr>\n",
       "    <tr>\n",
       "      <th>mean</th>\n",
       "      <td>0.383838</td>\n",
       "      <td>2.308642</td>\n",
       "      <td>29.699118</td>\n",
       "      <td>0.523008</td>\n",
       "      <td>0.381594</td>\n",
       "      <td>32.204208</td>\n",
       "    </tr>\n",
       "    <tr>\n",
       "      <th>std</th>\n",
       "      <td>0.486592</td>\n",
       "      <td>0.836071</td>\n",
       "      <td>14.526497</td>\n",
       "      <td>1.102743</td>\n",
       "      <td>0.806057</td>\n",
       "      <td>49.693429</td>\n",
       "    </tr>\n",
       "    <tr>\n",
       "      <th>min</th>\n",
       "      <td>0.000000</td>\n",
       "      <td>1.000000</td>\n",
       "      <td>0.420000</td>\n",
       "      <td>0.000000</td>\n",
       "      <td>0.000000</td>\n",
       "      <td>0.000000</td>\n",
       "    </tr>\n",
       "    <tr>\n",
       "      <th>25%</th>\n",
       "      <td>0.000000</td>\n",
       "      <td>2.000000</td>\n",
       "      <td>20.125000</td>\n",
       "      <td>0.000000</td>\n",
       "      <td>0.000000</td>\n",
       "      <td>7.910400</td>\n",
       "    </tr>\n",
       "    <tr>\n",
       "      <th>50%</th>\n",
       "      <td>0.000000</td>\n",
       "      <td>3.000000</td>\n",
       "      <td>28.000000</td>\n",
       "      <td>0.000000</td>\n",
       "      <td>0.000000</td>\n",
       "      <td>14.454200</td>\n",
       "    </tr>\n",
       "    <tr>\n",
       "      <th>75%</th>\n",
       "      <td>1.000000</td>\n",
       "      <td>3.000000</td>\n",
       "      <td>38.000000</td>\n",
       "      <td>1.000000</td>\n",
       "      <td>0.000000</td>\n",
       "      <td>31.000000</td>\n",
       "    </tr>\n",
       "    <tr>\n",
       "      <th>max</th>\n",
       "      <td>1.000000</td>\n",
       "      <td>3.000000</td>\n",
       "      <td>80.000000</td>\n",
       "      <td>8.000000</td>\n",
       "      <td>6.000000</td>\n",
       "      <td>512.329200</td>\n",
       "    </tr>\n",
       "  </tbody>\n",
       "</table>\n",
       "</div>"
      ],
      "text/plain": [
       "         Survived      Pclass         Age       SibSp       Parch        Fare\n",
       "count  891.000000  891.000000  714.000000  891.000000  891.000000  891.000000\n",
       "mean     0.383838    2.308642   29.699118    0.523008    0.381594   32.204208\n",
       "std      0.486592    0.836071   14.526497    1.102743    0.806057   49.693429\n",
       "min      0.000000    1.000000    0.420000    0.000000    0.000000    0.000000\n",
       "25%      0.000000    2.000000   20.125000    0.000000    0.000000    7.910400\n",
       "50%      0.000000    3.000000   28.000000    0.000000    0.000000   14.454200\n",
       "75%      1.000000    3.000000   38.000000    1.000000    0.000000   31.000000\n",
       "max      1.000000    3.000000   80.000000    8.000000    6.000000  512.329200"
      ]
     },
     "execution_count": 13,
     "metadata": {},
     "output_type": "execute_result"
    }
   ],
   "source": [
    "data_titanic.describe()"
   ]
  },
  {
   "cell_type": "markdown",
   "id": "1b2a0d28-210d-49ee-a0be-cef663ac31ca",
   "metadata": {},
   "source": [
    "### Select the `Survived` variable and store it in `y`"
   ]
  },
  {
   "cell_type": "code",
   "execution_count": null,
   "id": "7ab7a94c-8b61-4b0b-b0bb-eac716c57135",
   "metadata": {},
   "outputs": [],
   "source": []
  },
  {
   "cell_type": "code",
   "execution_count": 16,
   "id": "e7c6c07c-b83e-4340-ad5b-99db65d30c5b",
   "metadata": {
    "tags": [
     "solution"
    ]
   },
   "outputs": [
    {
     "data": {
      "text/plain": [
       "PassengerId\n",
       "1      0\n",
       "2      1\n",
       "3      1\n",
       "4      1\n",
       "5      0\n",
       "      ..\n",
       "887    0\n",
       "888    1\n",
       "889    0\n",
       "890    1\n",
       "891    0\n",
       "Name: Survived, Length: 891, dtype: int64"
      ]
     },
     "execution_count": 16,
     "metadata": {},
     "output_type": "execute_result"
    }
   ],
   "source": [
    "y = data_titanic[\"Survived\"]\n",
    "y"
   ]
  },
  {
   "cell_type": "markdown",
   "id": "ce42e6ef-3972-4fa8-bafc-44245f683cc7",
   "metadata": {},
   "source": [
    "### Select all variables of type `numeric` except `Survived` and store it in `X`"
   ]
  },
  {
   "cell_type": "markdown",
   "id": "4b3452c3-661c-4a99-a90a-5dba6f56012e",
   "metadata": {},
   "source": [
    "*Hint*: Use panda's `select_dtypes`."
   ]
  },
  {
   "cell_type": "code",
   "execution_count": null,
   "id": "6ca8a836-82b8-480d-92f8-3d399f2e5599",
   "metadata": {},
   "outputs": [],
   "source": []
  },
  {
   "cell_type": "code",
   "execution_count": 24,
   "id": "96d3407b-c484-462c-9764-a04534793538",
   "metadata": {
    "tags": [
     "solution"
    ]
   },
   "outputs": [
    {
     "data": {
      "text/html": [
       "<div>\n",
       "<style scoped>\n",
       "    .dataframe tbody tr th:only-of-type {\n",
       "        vertical-align: middle;\n",
       "    }\n",
       "\n",
       "    .dataframe tbody tr th {\n",
       "        vertical-align: top;\n",
       "    }\n",
       "\n",
       "    .dataframe thead th {\n",
       "        text-align: right;\n",
       "    }\n",
       "</style>\n",
       "<table border=\"1\" class=\"dataframe\">\n",
       "  <thead>\n",
       "    <tr style=\"text-align: right;\">\n",
       "      <th></th>\n",
       "      <th>Pclass</th>\n",
       "      <th>Age</th>\n",
       "      <th>SibSp</th>\n",
       "      <th>Parch</th>\n",
       "      <th>Fare</th>\n",
       "    </tr>\n",
       "    <tr>\n",
       "      <th>PassengerId</th>\n",
       "      <th></th>\n",
       "      <th></th>\n",
       "      <th></th>\n",
       "      <th></th>\n",
       "      <th></th>\n",
       "    </tr>\n",
       "  </thead>\n",
       "  <tbody>\n",
       "    <tr>\n",
       "      <th>1</th>\n",
       "      <td>3</td>\n",
       "      <td>22.0</td>\n",
       "      <td>1</td>\n",
       "      <td>0</td>\n",
       "      <td>7.2500</td>\n",
       "    </tr>\n",
       "    <tr>\n",
       "      <th>2</th>\n",
       "      <td>1</td>\n",
       "      <td>38.0</td>\n",
       "      <td>1</td>\n",
       "      <td>0</td>\n",
       "      <td>71.2833</td>\n",
       "    </tr>\n",
       "    <tr>\n",
       "      <th>3</th>\n",
       "      <td>3</td>\n",
       "      <td>26.0</td>\n",
       "      <td>0</td>\n",
       "      <td>0</td>\n",
       "      <td>7.9250</td>\n",
       "    </tr>\n",
       "    <tr>\n",
       "      <th>4</th>\n",
       "      <td>1</td>\n",
       "      <td>35.0</td>\n",
       "      <td>1</td>\n",
       "      <td>0</td>\n",
       "      <td>53.1000</td>\n",
       "    </tr>\n",
       "    <tr>\n",
       "      <th>5</th>\n",
       "      <td>3</td>\n",
       "      <td>35.0</td>\n",
       "      <td>0</td>\n",
       "      <td>0</td>\n",
       "      <td>8.0500</td>\n",
       "    </tr>\n",
       "    <tr>\n",
       "      <th>...</th>\n",
       "      <td>...</td>\n",
       "      <td>...</td>\n",
       "      <td>...</td>\n",
       "      <td>...</td>\n",
       "      <td>...</td>\n",
       "    </tr>\n",
       "    <tr>\n",
       "      <th>887</th>\n",
       "      <td>2</td>\n",
       "      <td>27.0</td>\n",
       "      <td>0</td>\n",
       "      <td>0</td>\n",
       "      <td>13.0000</td>\n",
       "    </tr>\n",
       "    <tr>\n",
       "      <th>888</th>\n",
       "      <td>1</td>\n",
       "      <td>19.0</td>\n",
       "      <td>0</td>\n",
       "      <td>0</td>\n",
       "      <td>30.0000</td>\n",
       "    </tr>\n",
       "    <tr>\n",
       "      <th>889</th>\n",
       "      <td>3</td>\n",
       "      <td>NaN</td>\n",
       "      <td>1</td>\n",
       "      <td>2</td>\n",
       "      <td>23.4500</td>\n",
       "    </tr>\n",
       "    <tr>\n",
       "      <th>890</th>\n",
       "      <td>1</td>\n",
       "      <td>26.0</td>\n",
       "      <td>0</td>\n",
       "      <td>0</td>\n",
       "      <td>30.0000</td>\n",
       "    </tr>\n",
       "    <tr>\n",
       "      <th>891</th>\n",
       "      <td>3</td>\n",
       "      <td>32.0</td>\n",
       "      <td>0</td>\n",
       "      <td>0</td>\n",
       "      <td>7.7500</td>\n",
       "    </tr>\n",
       "  </tbody>\n",
       "</table>\n",
       "<p>891 rows × 5 columns</p>\n",
       "</div>"
      ],
      "text/plain": [
       "             Pclass   Age  SibSp  Parch     Fare\n",
       "PassengerId                                     \n",
       "1                 3  22.0      1      0   7.2500\n",
       "2                 1  38.0      1      0  71.2833\n",
       "3                 3  26.0      0      0   7.9250\n",
       "4                 1  35.0      1      0  53.1000\n",
       "5                 3  35.0      0      0   8.0500\n",
       "...             ...   ...    ...    ...      ...\n",
       "887               2  27.0      0      0  13.0000\n",
       "888               1  19.0      0      0  30.0000\n",
       "889               3   NaN      1      2  23.4500\n",
       "890               1  26.0      0      0  30.0000\n",
       "891               3  32.0      0      0   7.7500\n",
       "\n",
       "[891 rows x 5 columns]"
      ]
     },
     "execution_count": 24,
     "metadata": {},
     "output_type": "execute_result"
    }
   ],
   "source": [
    "X = data_titanic.iloc[:, 1:].select_dtypes(np.number)\n",
    "X"
   ]
  },
  {
   "cell_type": "markdown",
   "id": "a05012dd-2f7b-4947-8596-ced06325f09b",
   "metadata": {},
   "source": [
    "### Calculate the number of NAs (not defined values) for each variables in `X`"
   ]
  },
  {
   "cell_type": "code",
   "execution_count": null,
   "id": "3322d658-5032-457e-8cd6-7f88ee3d236c",
   "metadata": {},
   "outputs": [],
   "source": []
  },
  {
   "cell_type": "code",
   "execution_count": 26,
   "id": "b4530cba-bb84-4730-a14a-bb650aaa6f41",
   "metadata": {
    "tags": [
     "solution"
    ]
   },
   "outputs": [
    {
     "data": {
      "text/plain": [
       "Pclass      0\n",
       "Age       177\n",
       "SibSp       0\n",
       "Parch       0\n",
       "Fare        0\n",
       "dtype: int64"
      ]
     },
     "execution_count": 26,
     "metadata": {},
     "output_type": "execute_result"
    }
   ],
   "source": [
    "X.isna().sum()"
   ]
  },
  {
   "cell_type": "markdown",
   "id": "d814d2dc-59d3-4e4f-b833-96481b621211",
   "metadata": {},
   "source": [
    "Also, which variable has the most NAs?"
   ]
  },
  {
   "cell_type": "code",
   "execution_count": 28,
   "id": "d3426595-07b0-4b32-aac8-3d42367a76ec",
   "metadata": {
    "tags": [
     "solution"
    ]
   },
   "outputs": [
    {
     "data": {
      "text/plain": [
       "'Age'"
      ]
     },
     "execution_count": 28,
     "metadata": {},
     "output_type": "execute_result"
    }
   ],
   "source": [
    "X.columns[np.argmax(X.isna().sum())]"
   ]
  },
  {
   "cell_type": "markdown",
   "id": "5ef9797d-e9d2-4dfb-9a81-040e0c2a3438",
   "metadata": {},
   "source": [
    "### Calculate the mean, standard deviation, size and the number of defined values for the `Age` for each `Pclass`"
   ]
  },
  {
   "cell_type": "markdown",
   "id": "e0456532-a0db-459c-8cbd-39c75543ad1e",
   "metadata": {},
   "source": [
    "*Hint*: Use `groupby`"
   ]
  },
  {
   "cell_type": "code",
   "execution_count": null,
   "id": "c61f52bf-2926-4eb6-a7e2-ef4493b54bcb",
   "metadata": {},
   "outputs": [],
   "source": []
  },
  {
   "cell_type": "code",
   "execution_count": 42,
   "id": "a94fa993-b15d-4335-abe5-a77ff90b3578",
   "metadata": {
    "tags": [
     "solution"
    ]
   },
   "outputs": [
    {
     "data": {
      "text/html": [
       "<div>\n",
       "<style scoped>\n",
       "    .dataframe tbody tr th:only-of-type {\n",
       "        vertical-align: middle;\n",
       "    }\n",
       "\n",
       "    .dataframe tbody tr th {\n",
       "        vertical-align: top;\n",
       "    }\n",
       "\n",
       "    .dataframe thead tr th {\n",
       "        text-align: left;\n",
       "    }\n",
       "\n",
       "    .dataframe thead tr:last-of-type th {\n",
       "        text-align: right;\n",
       "    }\n",
       "</style>\n",
       "<table border=\"1\" class=\"dataframe\">\n",
       "  <thead>\n",
       "    <tr>\n",
       "      <th></th>\n",
       "      <th colspan=\"4\" halign=\"left\">Age</th>\n",
       "    </tr>\n",
       "    <tr>\n",
       "      <th></th>\n",
       "      <th>mean</th>\n",
       "      <th>std</th>\n",
       "      <th>size</th>\n",
       "      <th>count</th>\n",
       "    </tr>\n",
       "    <tr>\n",
       "      <th>Pclass</th>\n",
       "      <th></th>\n",
       "      <th></th>\n",
       "      <th></th>\n",
       "      <th></th>\n",
       "    </tr>\n",
       "  </thead>\n",
       "  <tbody>\n",
       "    <tr>\n",
       "      <th>1</th>\n",
       "      <td>38.233441</td>\n",
       "      <td>14.802856</td>\n",
       "      <td>216</td>\n",
       "      <td>186</td>\n",
       "    </tr>\n",
       "    <tr>\n",
       "      <th>2</th>\n",
       "      <td>29.877630</td>\n",
       "      <td>14.001077</td>\n",
       "      <td>184</td>\n",
       "      <td>173</td>\n",
       "    </tr>\n",
       "    <tr>\n",
       "      <th>3</th>\n",
       "      <td>25.140620</td>\n",
       "      <td>12.495398</td>\n",
       "      <td>491</td>\n",
       "      <td>355</td>\n",
       "    </tr>\n",
       "  </tbody>\n",
       "</table>\n",
       "</div>"
      ],
      "text/plain": [
       "              Age                      \n",
       "             mean        std size count\n",
       "Pclass                                 \n",
       "1       38.233441  14.802856  216   186\n",
       "2       29.877630  14.001077  184   173\n",
       "3       25.140620  12.495398  491   355"
      ]
     },
     "execution_count": 42,
     "metadata": {},
     "output_type": "execute_result"
    }
   ],
   "source": [
    "data_titanic[[\"Pclass\", \"Age\"]].groupby(\"Pclass\").agg([\"mean\", \"std\", \"size\", \"count\"])"
   ]
  },
  {
   "cell_type": "markdown",
   "id": "e3b5fea1-f07e-48fb-85fd-152a60462f04",
   "metadata": {},
   "source": [
    "## Plotting"
   ]
  },
  {
   "cell_type": "markdown",
   "id": "1ebe72a9-1f20-407d-8ab3-3efd8d56a1ab",
   "metadata": {},
   "source": [
    "The `matplotlib` library is one of the main libraries for visualziations in Python. `seaborn` builds on `matplotlib` and provides easier access to common plotting scenarios."
   ]
  },
  {
   "cell_type": "markdown",
   "id": "f9b15c93-d901-4827-8fc7-38f65d8655d8",
   "metadata": {},
   "source": [
    "### Matplotlib"
   ]
  },
  {
   "cell_type": "markdown",
   "id": "ce59f5a3-88e3-46c0-8e36-2e2745195b2e",
   "metadata": {},
   "source": [
    "1) Follow the [pyplot tutorial](https://matplotlib.org/stable/tutorials/introductory/pyplot.html) including *\"Plotting with categorical variables\"*.\n",
    "2) Apply at least one of the plots to the titanic dataset from above.\n",
    "\n",
    "*Note*: It makes sense to eventually learn the \"object oriented\" `matplotlib` API (also see [here](https://matplotlib.org/stable/tutorials/introductory/pyplot.html))."
   ]
  },
  {
   "cell_type": "code",
   "execution_count": null,
   "id": "90937345-6be6-4e4f-8503-661ffcd0362f",
   "metadata": {
    "tags": []
   },
   "outputs": [],
   "source": []
  },
  {
   "cell_type": "markdown",
   "id": "2100aff6-04e0-4443-bb7b-6bf747988cf2",
   "metadata": {},
   "source": [
    "### Seaborn"
   ]
  },
  {
   "cell_type": "markdown",
   "id": "70d1336f-64a4-41c8-a2b3-d5f6b4f9a851",
   "metadata": {},
   "source": [
    "1) Follow the [`seaborn` introduction](https://seaborn.pydata.org/tutorial/introduction.html) until *\"Plots for categorical data\"*.\n",
    "2) Apply at least one of the plots to the titanic dataset from above."
   ]
  },
  {
   "cell_type": "code",
   "execution_count": null,
   "id": "576e1a69-23d7-4b28-a41c-7d00ee80e185",
   "metadata": {},
   "outputs": [],
   "source": []
  },
  {
   "cell_type": "markdown",
   "id": "936b1ff5-11ce-439d-a4e0-92773b8d121d",
   "metadata": {},
   "source": [
    "## Bonus"
   ]
  },
  {
   "cell_type": "markdown",
   "id": "c027862d-61f2-475f-8fe0-b924c457802e",
   "metadata": {},
   "source": [
    "* Fit a model that predicts whether a passenger `Survived` using [Scikit-Learn](https://scikit-learn.org/stable/). See the [supervised machine learning tutorial](https://scikit-learn.org/stable/tutorial/statistical_inference/supervised_learning.html) for reference.\n",
    "* Evaluate the performance of your model.\n",
    "* Try to optimize your model."
   ]
  },
  {
   "cell_type": "code",
   "execution_count": null,
   "id": "2ecf7ca2-cf69-4328-bb3e-58c3faf9a32a",
   "metadata": {},
   "outputs": [],
   "source": []
  }
 ],
 "metadata": {
  "kernelspec": {
   "display_name": "nalab-telomeres",
   "language": "python",
   "name": "nalab-telomeres"
  },
  "language_info": {
   "codemirror_mode": {
    "name": "ipython",
    "version": 3
   },
   "file_extension": ".py",
   "mimetype": "text/x-python",
   "name": "python",
   "nbconvert_exporter": "python",
   "pygments_lexer": "ipython3",
   "version": "3.10.6"
  },
  "toc-autonumbering": true
 },
 "nbformat": 4,
 "nbformat_minor": 5
}
