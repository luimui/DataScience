{
 "cells": [
  {
   "cell_type": "markdown",
   "id": "e330f2c4-c934-49ef-ab7c-f5e66c0b7703",
   "metadata": {
    "editable": true,
    "slideshow": {
     "slide_type": ""
    },
    "tags": []
   },
   "source": [
    "# Exercise 4"
   ]
  },
  {
   "cell_type": "markdown",
   "id": "2ff8304d-9f6e-4e38-addf-5a3e1ab5d76f",
   "metadata": {},
   "source": [
    "## Recap: Overfitting / Underfitting"
   ]
  },
  {
   "cell_type": "markdown",
   "id": "5f223b72-3e19-44bb-8362-cc2a919e8ec8",
   "metadata": {
    "editable": true,
    "slideshow": {
     "slide_type": ""
    },
    "tags": []
   },
   "source": [
    "1. Explain the bias / variance trade-off in your own words.\n",
    "2. For the data below, plot `X` against `y_orig` and `X` against `y` (**hint**: `y` is a noisy variant of `y_orig`).\n",
    "3. Split the data into train (80%) and test (20%) sets. \n",
    "4. Fit a `DecisionTreeRegressor` to the train set.\n",
    "5. Calculate the mean absolute error for train and test set.\n",
    "6. Visualize the predictions for the train and test set.\n",
    "7. Try different values for the parameter `max_depth` of the `DecisionTreeRegressor`. Can you underfit, fit well, and overfit?\n",
    "8. How does this connect to the bias / variance trade-off?"
   ]
  },
  {
   "cell_type": "code",
   "execution_count": 1,
   "id": "9a4378b1-8f9b-4a17-aed5-bb0a1d407c55",
   "metadata": {
    "editable": true,
    "slideshow": {
     "slide_type": ""
    },
    "tags": []
   },
   "outputs": [],
   "source": [
    "import numpy as np\n",
    "import matplotlib.pyplot as plt\n",
    "from sklearn.tree import DecisionTreeRegressor\n",
    "from sklearn.model_selection import cross_val_score, train_test_split\n",
    "from sklearn.metrics import mean_absolute_error"
   ]
  },
  {
   "cell_type": "code",
   "execution_count": 2,
   "id": "be7c14a0-e248-4c2d-a003-c8cf5d343fdd",
   "metadata": {
    "tags": []
   },
   "outputs": [],
   "source": [
    "# generate X and y\n",
    "np.random.seed(12)\n",
    "n_steps = 4\n",
    "X = np.arange(50 * n_steps).reshape((-1,1))\n",
    "y_orig = np.repeat(np.arange(4), int(X.shape[0] / n_steps))\n",
    "y = y_orig + (np.random.random(y_orig.size) - 0.5) * 2"
   ]
  },
  {
   "cell_type": "code",
   "execution_count": null,
   "id": "d34f5ab9-a1da-4844-bc1b-9a38e6964cff",
   "metadata": {
    "tags": [
     "placeholder"
    ]
   },
   "outputs": [],
   "source": []
  },
  {
   "cell_type": "markdown",
   "id": "bc4adece-e6c9-440d-9639-b5d37657c329",
   "metadata": {
    "editable": true,
    "slideshow": {
     "slide_type": ""
    },
    "tags": []
   },
   "source": [
    "## Hyperparameter Optimization"
   ]
  },
  {
   "cell_type": "markdown",
   "id": "a61b3a71-4d0c-492b-9688-cb6aabc38bb0",
   "metadata": {
    "editable": true,
    "slideshow": {
     "slide_type": ""
    },
    "tags": []
   },
   "source": [
    "1) What is the difference between parameters and hyperparameters of a model? Give examples!\n",
    "2) What is hyperparameter optimzation?\n",
    "3) Name two methods for hyperparameter optimization and compare them.\n",
    "4) For the following dataset, report the mean absolute error for a `DecisionTreeRegressor` using 10-fold cross validation via the function `cross_val_score`. You can use the function's parameters `cv` and `scoring` to set the the number of cross validation splits and the validation metric (e.g. `neg_mean_absolute_error`). There is no need for an initial train/test split in this example.\n",
    "5) Now use `GridSearchCV` to optimize the `max_depth` parameter in the range of 1,2,3,4 and 5 for a `DecisionTreeRegressor` and report the same score. For this, run `GridSearchCV` with a 10-fold cross-valiation, cf. `cv` and `param_grid` parameters of `GridSearchCV`.\n",
    "6) What do you think the notion of *\"nested cross-validation\"*, *\"inner cross-validation\"* and *\"outer cross-validation* refer to in this example?  "
   ]
  },
  {
   "cell_type": "code",
   "execution_count": 15,
   "id": "c2de5e62",
   "metadata": {
    "editable": true,
    "slideshow": {
     "slide_type": ""
    },
    "tags": []
   },
   "outputs": [],
   "source": [
    "import numpy as np\n",
    "import matplotlib.pyplot as plt\n",
    "from sklearn.tree import DecisionTreeRegressor\n",
    "from sklearn.model_selection import cross_val_score, GridSearchCV\n",
    "from sklearn.metrics import mean_absolute_error"
   ]
  },
  {
   "cell_type": "code",
   "execution_count": 16,
   "id": "8c175d39",
   "metadata": {
    "editable": true,
    "slideshow": {
     "slide_type": ""
    },
    "tags": []
   },
   "outputs": [],
   "source": [
    "# generate X and y\n",
    "# generates X and y\n",
    "np.random.seed(12)\n",
    "n_steps = 4\n",
    "X = np.arange(50 * n_steps).reshape((-1,1))\n",
    "y_orig = np.repeat(np.arange(4), int(X.shape[0] / n_steps))\n",
    "y = y_orig + (np.random.random(y_orig.size) - 0.5) * 2"
   ]
  },
  {
   "cell_type": "markdown",
   "id": "5f7ce773-1d4f-4eb2-83b1-8d1dcd489879",
   "metadata": {
    "editable": true,
    "slideshow": {
     "slide_type": ""
    },
    "tags": []
   },
   "source": [
    "## Evaluation: Groups"
   ]
  },
  {
   "cell_type": "markdown",
   "id": "e584471b-f86b-4d98-892e-3f9becc27a3e",
   "metadata": {
    "editable": true,
    "slideshow": {
     "slide_type": ""
    },
    "tags": []
   },
   "source": [
    "1) Let's consider a cancer dataset. The goal is to predict the progression of the cancer (e.g., stage 1, stage 2, ...). Each patient appears multiple times in the dataset. Can you randomly split the data into train and test set?\n",
    "2) Read the [documentation of `GroupedShuffleSplit`](https://scikit-learn.org/stable/modules/generated/sklearn.model_selection.GroupShuffleSplit.html), what does it do? In the process, explain what the `groups` parameter of the split method is used for!\n",
    "3) Apply `GroupedShuffleSplit` on the data below and examine the results. The [documentation of `GroupedShuffleSplit`](https://scikit-learn.org/stable/modules/generated/sklearn.model_selection.GroupShuffleSplit.html) also provides an example.\n",
    "4) At home, have a look at different [splitting strategies provided by `scikit-learn`](https://scikit-learn.org/stable/auto_examples/model_selection/plot_cv_indices.html#visualize-cross-validation-indices-for-many-cv-objects)."
   ]
  },
  {
   "cell_type": "code",
   "execution_count": 20,
   "id": "0d853f5d-153d-409a-8138-33b4a481c6ff",
   "metadata": {
    "editable": true,
    "slideshow": {
     "slide_type": ""
    },
    "tags": []
   },
   "outputs": [],
   "source": [
    "# code to generate data (skip this)\n",
    "from sklearn.model_selection import GroupShuffleSplit\n",
    "import numpy as np\n",
    "\n",
    "rng = np.random.RandomState(1338)\n",
    "cmap_data = plt.cm.Paired\n",
    "cmap_cv = plt.cm.coolwarm\n",
    "n_splits = 4\n",
    "\n",
    "# Generate the class/group data\n",
    "n_points = 20\n",
    "X = rng.randn(n_points, 3)\n",
    "\n",
    "y = rng.choice([0,1], n_points)\n",
    "\n",
    "# Generate 10 uneven groups\n",
    "# draw a prior for the likelihood of each group from the Dirichlet Distribution\n",
    "# given that we observed elements of each group alpha_i - 1 time (here, alpha_i = 2)\n",
    "group_prior = rng.dirichlet([2] * 10)\n",
    "# assign a group [0,...,9] to each of the 20 points\n",
    "groups = np.repeat(np.arange(10), rng.multinomial(n_points, group_prior))"
   ]
  },
  {
   "cell_type": "code",
   "execution_count": 21,
   "id": "bf172596-9199-449d-9a02-47a43340b0dd",
   "metadata": {
    "editable": true,
    "slideshow": {
     "slide_type": ""
    },
    "tags": []
   },
   "outputs": [
    {
     "data": {
      "text/plain": [
       "(array([[ 0.30339572,  0.06905289, -1.36994721],\n",
       "        [-1.73542443,  0.92038986, -0.67328559],\n",
       "        [ 0.31130278,  1.65990867, -0.38992731],\n",
       "        [ 0.24670422,  1.26286911, -0.07143212],\n",
       "        [ 0.21765819, -1.03871059, -0.57730003],\n",
       "        [ 0.22515547, -1.11415101, -0.21211768],\n",
       "        [-0.11681968, -0.23243284,  1.01017204],\n",
       "        [-1.52260114, -0.03899189, -0.4953006 ],\n",
       "        [-1.26511675,  1.30947599, -0.04807498],\n",
       "        [ 0.65844446,  1.17818292,  0.92479273],\n",
       "        [-0.1361633 , -0.43271388, -1.41218241],\n",
       "        [-1.72601721, -0.12744758,  1.36070897],\n",
       "        [ 1.80491419, -0.8311191 , -0.75247305],\n",
       "        [-0.86747453, -1.09877395, -0.01585959],\n",
       "        [ 1.76340557, -1.0951515 ,  0.65760157],\n",
       "        [ 0.85346956, -1.34077646,  1.25792539],\n",
       "        [ 1.40744721, -1.92822233,  0.34033999],\n",
       "        [-0.82224763,  0.98701143, -0.40516663],\n",
       "        [-0.47011842, -0.49503657, -0.38135189],\n",
       "        [ 0.14000614, -0.99631156,  0.47125006]]),\n",
       " array([1, 0, 0, 1, 1, 1, 0, 1, 0, 0, 0, 0, 1, 0, 0, 1, 0, 0, 1, 1]),\n",
       " array([2, 4, 4, 5, 5, 5, 5, 6, 6, 6, 7, 7, 7, 7, 7, 8, 8, 8, 9, 9]))"
      ]
     },
     "execution_count": 21,
     "metadata": {},
     "output_type": "execute_result"
    }
   ],
   "source": [
    "# use X, y, groups and apply Grouped\n",
    "X, y, groups"
   ]
  },
  {
   "cell_type": "markdown",
   "id": "dbb6d246-9629-439b-a012-d4827f493153",
   "metadata": {
    "editable": true,
    "slideshow": {
     "slide_type": ""
    },
    "tags": []
   },
   "source": [
    "## Scaling"
   ]
  },
  {
   "cell_type": "markdown",
   "id": "3e309ce5-1bbd-49e1-aed7-3b99c346c0df",
   "metadata": {
    "editable": true,
    "slideshow": {
     "slide_type": ""
    },
    "tags": []
   },
   "source": [
    "1) What is scaling?\n",
    "2) Why is scaling important?\n",
    "3) What are two comming examples of scaling? What do they do?\n",
    "4) Apply these two scaling methods to the following data and plot the results. What do you observe (look at the axes)?\n",
    "5) Add an outlier to the data and try again. What do you observe and why is this a problem?\n",
    "6) At home, look at the [different scaling procedures provided by `scikit-learn`](https://scikit-learn.org/stable/auto_examples/preprocessing/plot_all_scaling.html). Which scalers would help aleviate the outlier issue?"
   ]
  },
  {
   "cell_type": "code",
   "execution_count": 23,
   "id": "959fe7c5-c98e-42c8-b91b-fb65389b0ace",
   "metadata": {
    "editable": true,
    "slideshow": {
     "slide_type": ""
    },
    "tags": []
   },
   "outputs": [],
   "source": [
    "# generate the data\n",
    "import numpy as np\n",
    "import matplotlib.pyplot as plt\n",
    "np.random.seed(42)\n",
    "X = np.random.multivariate_normal((0,0), [[1,0],[0,1]], 1000,)\n",
    "X[:,0] = X[:,0] - 3\n",
    "X[:,1] = X[:,1] / 10"
   ]
  },
  {
   "cell_type": "code",
   "execution_count": 24,
   "id": "3f12f3d7-13f5-44b2-b34e-5fc74a08c0e1",
   "metadata": {
    "editable": true,
    "slideshow": {
     "slide_type": ""
    },
    "tags": []
   },
   "outputs": [
    {
     "data": {
      "text/plain": [
       "<matplotlib.collections.PathCollection at 0x7f6fd071cc90>"
      ]
     },
     "execution_count": 24,
     "metadata": {},
     "output_type": "execute_result"
    },
    {
     "data": {
      "image/png": "[encoded data removed]",
      "text/plain": [
       "<Figure size 640x480 with 1 Axes>"
      ]
     },
     "metadata": {},
     "output_type": "display_data"
    }
   ],
   "source": [
    "# plot the data\n",
    "plt.scatter(X[:,0], X[:,1], s=1)"
   ]
  },
  {
   "cell_type": "code",
   "execution_count": 25,
   "id": "a1aa2c50-a788-4f4e-9bdf-7ff0fed6eda5",
   "metadata": {
    "editable": true,
    "slideshow": {
     "slide_type": ""
    },
    "tags": []
   },
   "outputs": [],
   "source": [
    "from sklearn.preprocessing import StandardScaler, MinMaxScaler, RobustScaler"
   ]
  },
  {
   "cell_type": "code",
   "execution_count": null,
   "id": "467e102e-4db2-4d80-bf8b-2c68756359a5",
   "metadata": {
    "editable": true,
    "slideshow": {
     "slide_type": ""
    },
    "tags": [
     "placeholder"
    ]
   },
   "outputs": [],
   "source": []
  },
  {
   "cell_type": "markdown",
   "id": "6c9de5a0-e5eb-4e2b-92e4-fe398ecb163e",
   "metadata": {},
   "source": [
    "## Preprocessing"
   ]
  },
  {
   "cell_type": "markdown",
   "id": "8e376122-8706-46a6-883c-527cd6ab2bfd",
   "metadata": {
    "editable": true,
    "slideshow": {
     "slide_type": ""
    },
    "tags": []
   },
   "source": [
    "Given the house prices dataset from Exercise 2:\n",
    "\n",
    "1) Give some example features for the four different data types. \n",
    "2) Name at least two issues in this dataset and two others that could occur when training a model.\n",
    "3) Assume that you are given the postal code of a house - what other features could you add to the data? Why do you think I ask this question?"
   ]
  },
  {
   "cell_type": "code",
   "execution_count": 31,
   "id": "47556731-7aa4-41b6-869c-8ae0885c6d5d",
   "metadata": {
    "editable": true,
    "slideshow": {
     "slide_type": ""
    },
    "tags": []
   },
   "outputs": [],
   "source": [
    "import pandas as pd\n",
    "import seaborn as sns"
   ]
  },
  {
   "cell_type": "code",
   "execution_count": 32,
   "id": "7cb5cdde-5290-4d43-a651-6d89d45410cc",
   "metadata": {
    "editable": true,
    "slideshow": {
     "slide_type": ""
    },
    "tags": []
   },
   "outputs": [],
   "source": [
    "data_houses = pd.read_csv(\n",
    "    \"_assets/house-prices-advanced-regression-techniques/train.csv\", \n",
    "    index_col=\"Id\")"
   ]
  },
  {
   "cell_type": "code",
   "execution_count": null,
   "id": "246a146d-ecfe-4f0d-8f6a-06650f5c325d",
   "metadata": {
    "editable": true,
    "slideshow": {
     "slide_type": ""
    },
    "tags": [
     "placeholder"
    ]
   },
   "outputs": [],
   "source": []
  }
 ],
 "metadata": {
  "kernelspec": {
   "display_name": "Python 3 (ipykernel)",
   "language": "python",
   "name": "python3"
  },
  "language_info": {
   "codemirror_mode": {
    "name": "ipython",
    "version": 3
   },
   "file_extension": ".py",
   "mimetype": "text/x-python",
   "name": "python",
   "nbconvert_exporter": "python",
   "pygments_lexer": "ipython3",
   "version": "3.11.5"
  },
  "toc-autonumbering": true
 },
 "nbformat": 4,
 "nbformat_minor": 5
}
