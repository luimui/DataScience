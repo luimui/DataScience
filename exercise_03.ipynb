{
  "cells": [
    {
      "cell_type": "markdown",
      "metadata": {
        "id": "view-in-github",
        "colab_type": "text"
      },
      "source": [
        "<a href=\"https://colab.research.google.com/github/luimui/DataScience/blob/main/exercise_03.ipynb\" target=\"_parent\"><img src=\"https://colab.research.google.com/assets/colab-badge.svg\" alt=\"Open In Colab\"/></a>"
      ]
    },
    {
      "cell_type": "markdown",
      "id": "e330f2c4-c934-49ef-ab7c-f5e66c0b7703",
      "metadata": {
        "id": "e330f2c4-c934-49ef-ab7c-f5e66c0b7703"
      },
      "source": [
        "# Exercise 3"
      ]
    },
    {
      "cell_type": "markdown",
      "id": "5d6684fe-6203-40b5-af63-ac9f8142d666",
      "metadata": {
        "id": "5d6684fe-6203-40b5-af63-ac9f8142d666"
      },
      "source": [
        "## Evaluation"
      ]
    },
    {
      "cell_type": "markdown",
      "id": "8fd35b79-fd7f-444b-9c5b-11df76f5cb8a",
      "metadata": {
        "id": "8fd35b79-fd7f-444b-9c5b-11df76f5cb8a"
      },
      "source": [
        "### Classification"
      ]
    },
    {
      "cell_type": "markdown",
      "id": "b319e527-5d9e-4c40-9719-8c8ffb385b67",
      "metadata": {
        "id": "b319e527-5d9e-4c40-9719-8c8ffb385b67"
      },
      "source": [
        "#### Prediction possibilities"
      ]
    },
    {
      "cell_type": "markdown",
      "id": "54365c58-22cd-4611-a889-5828025cc047",
      "metadata": {
        "id": "54365c58-22cd-4611-a889-5828025cc047"
      },
      "source": [
        "For a binary classification problem, what are the four prediction possibilities? List their names and briefly explain what they represent."
      ]
    },
    {
      "cell_type": "code",
      "execution_count": null,
      "id": "cf5bf42f-227e-47af-84fc-71aef29d9357",
      "metadata": {
        "editable": true,
        "tags": [
          "placeholder"
        ],
        "id": "cf5bf42f-227e-47af-84fc-71aef29d9357"
      },
      "outputs": [],
      "source": [
        "#TP, FP, TN, FN"
      ]
    },
    {
      "cell_type": "markdown",
      "id": "cbbf349c-1e09-4694-88bb-ff388a87238b",
      "metadata": {
        "id": "cbbf349c-1e09-4694-88bb-ff388a87238b"
      },
      "source": [
        "#### Define the accuracy measure"
      ]
    },
    {
      "cell_type": "code",
      "execution_count": null,
      "id": "bbae14da-2ccc-47f9-947c-c3a911bebbc0",
      "metadata": {
        "tags": [
          "placeholder"
        ],
        "id": "bbae14da-2ccc-47f9-947c-c3a911bebbc0"
      },
      "outputs": [],
      "source": [
        "#(TP+TN)/All Calssifictions(TP,TN,FP,FN)"
      ]
    },
    {
      "cell_type": "markdown",
      "id": "67d7f206-adb2-4ff6-8d2d-17ecee906c1c",
      "metadata": {
        "id": "67d7f206-adb2-4ff6-8d2d-17ecee906c1c"
      },
      "source": [
        "#### Define precision and recall"
      ]
    },
    {
      "cell_type": "code",
      "execution_count": null,
      "id": "c190a648-73ae-4329-8728-81b57fff48d2",
      "metadata": {
        "tags": [
          "placeholder"
        ],
        "id": "c190a648-73ae-4329-8728-81b57fff48d2"
      },
      "outputs": [],
      "source": [
        "#Precision: Anteil der TP von allen Positive classified PPR=TP/(TP+FP) wie richtig liegen meine positives    /    Recall oder Sensitivity:Anteil der TP an allen tatsächlich positiven = TP/(TP + FN) wieviele erwische ich"
      ]
    },
    {
      "cell_type": "markdown",
      "id": "0d9fac6b-9640-49b5-b230-02857eeafc76",
      "metadata": {
        "editable": true,
        "tags": [],
        "id": "0d9fac6b-9640-49b5-b230-02857eeafc76"
      },
      "source": [
        "#### Properties of precision and recall\n",
        "What can a classifier predicting the class `0` or `1` do to\n",
        "\n",
        "1) always get a *precision* of `1`\n",
        "1) always get a *recall* of `1`\n",
        "\n",
        "precision: classify everythong as 0\n",
        "recall: classify everything as 1"
      ]
    },
    {
      "cell_type": "markdown",
      "id": "7a046f87-c0c2-459a-a45a-75aa35e4c0c4",
      "metadata": {
        "editable": true,
        "tags": [
          "placeholder"
        ],
        "id": "7a046f87-c0c2-459a-a45a-75aa35e4c0c4"
      },
      "source": [
        "#### Application of precision and recall\n",
        "In what applications is precision more important than recall, and in which applications is recall more important than precision?"
      ]
    },
    {
      "cell_type": "code",
      "execution_count": null,
      "id": "ea0d0334-4bc4-4b06-bbb6-80f45e45daf9",
      "metadata": {
        "tags": [
          "placeholder"
        ],
        "id": "ea0d0334-4bc4-4b06-bbb6-80f45e45daf9"
      },
      "outputs": [],
      "source": [
        "#screen for deadly but curable disease: recall/sensitivity     #Precision: Blitzer soll nur wirklich zu schnelle klassifizieren"
      ]
    },
    {
      "cell_type": "markdown",
      "id": "4dcf73ce-5cae-4b48-8b0d-fa55d9c1cb62",
      "metadata": {
        "id": "4dcf73ce-5cae-4b48-8b0d-fa55d9c1cb62"
      },
      "source": [
        "#### Combine precision and recall\n",
        "* What is a measure that combines precision and recall?\n",
        "* Define it.\n",
        "* Why do we use the harmonic rather than the arithmetic mean?"
      ]
    },
    {
      "cell_type": "code",
      "execution_count": null,
      "id": "53294832-b6dc-4d74-b51b-178874a24f96",
      "metadata": {
        "id": "53294832-b6dc-4d74-b51b-178874a24f96"
      },
      "outputs": [],
      "source": [
        "#threat score: TP/(TP + FP + FN)\n",
        "#harmonic mean is less sensitive against outliers(meaning number far away from 0)"
      ]
    },
    {
      "cell_type": "markdown",
      "id": "148af174-9333-40f9-a4ac-03680e83f1f1",
      "metadata": {
        "id": "148af174-9333-40f9-a4ac-03680e83f1f1"
      },
      "source": [
        "#### Default values"
      ]
    },
    {
      "cell_type": "markdown",
      "id": "1e8f8a1d-ce35-4c02-95fc-a1ea6f61a443",
      "metadata": {
        "id": "1e8f8a1d-ce35-4c02-95fc-a1ea6f61a443"
      },
      "source": [
        "Consider the following, label set:\n",
        "\n",
        "* `y`: roughly the same amount of cases (`1`) and controls (`0`)\n",
        "\n",
        "Now, calculate the *accuracy*, *precision*, *recall*, and *ROC AUC*.\n",
        "\n",
        "1) For a classifier that returns random labels. What do you observe?\n",
        "2) For a classifier that always returns `1`. What do you observe?\n",
        "\n",
        "**Hints:**\n",
        "* You can simulate these classifiers without input data, i.e., by generating their predictions manually.\n",
        "* You can use `numpy` and `scikit-learn` to show these cases instead of answering theoretically."
      ]
    },
    {
      "cell_type": "code",
      "execution_count": 69,
      "id": "98fea460-626b-4631-b830-f0c55e8cb081",
      "metadata": {
        "editable": true,
        "tags": [],
        "id": "98fea460-626b-4631-b830-f0c55e8cb081"
      },
      "outputs": [],
      "source": [
        "import numpy as np\n",
        "from sklearn.metrics import accuracy_score, precision_score, recall_score, roc_auc_score, classification_report\n",
        "import statistics\n",
        "\n",
        "np.random.seed(42)\n",
        "n = 1000\n",
        "\n",
        "# labels 1 (random)\n",
        "y = np.random.choice([0,1], p=(0.5, 0.5), size=n)\n",
        "\n",
        "\n",
        "# classification labels 1 (random)\n",
        "np.random.seed(1337)\n",
        "n = 1000\n",
        "y_pred_rand = np.random.choice([0,1], p=(0.5, 0.5), size=n)\n",
        "\n",
        "#classification labels always 1\n",
        "y_pred_ones = np.ones(n)\n",
        "\n",
        "#classification labels always\n",
        "y_pred_zeros = np.zeros(n)\n"
      ]
    },
    {
      "cell_type": "code",
      "execution_count": 74,
      "id": "d405ffad-4e56-4773-a528-ae15c6d867d5",
      "metadata": {
        "tags": [
          "placeholder"
        ],
        "colab": {
          "base_uri": "https://localhost:8080/"
        },
        "id": "d405ffad-4e56-4773-a528-ae15c6d867d5",
        "outputId": "60fcae51-999d-4cc9-ad97-1d10512d1350"
      },
      "outputs": [
        {
          "output_type": "stream",
          "name": "stdout",
          "text": [
            "randoms: acc: 0.518  precision: 0.5150300601202404 recall: 0.5171026156941649   roc_auc: 0.5179946478073211   \n",
            "              precision    recall  f1-score   support\n",
            "\n",
            "           0       0.52      0.52      0.52       503\n",
            "           1       0.52      0.52      0.52       497\n",
            "\n",
            "    accuracy                           0.52      1000\n",
            "   macro avg       0.52      0.52      0.52      1000\n",
            "weighted avg       0.52      0.52      0.52      1000\n",
            "\n",
            "harmonic mean prec and recall: 0.5160642570281124 \n",
            "ones: acc: 0.497  precision: 0.497 recall: 1.0   roc_auc: 0.5  \n",
            "              precision    recall  f1-score   support\n",
            "\n",
            "           0       0.00      0.00      0.00       503\n",
            "           1       0.50      1.00      0.66       497\n",
            "\n",
            "    accuracy                           0.50      1000\n",
            "   macro avg       0.25      0.50      0.33      1000\n",
            "weighted avg       0.25      0.50      0.33      1000\n",
            "\n",
            "harmonic mean prec and recall: 0.663994655978624 \n",
            "zeros: acc: 0.503  precision: 0.0 recall: 0.0   roc_auc: 0.5  \n",
            "              precision    recall  f1-score   support\n",
            "\n",
            "           0       0.50      1.00      0.67       503\n",
            "           1       0.00      0.00      0.00       497\n",
            "\n",
            "    accuracy                           0.50      1000\n",
            "   macro avg       0.25      0.50      0.33      1000\n",
            "weighted avg       0.25      0.50      0.34      1000\n",
            "\n",
            "harmonic mean prec and recall: 0.0\n"
          ]
        },
        {
          "output_type": "stream",
          "name": "stderr",
          "text": [
            "/usr/local/lib/python3.10/dist-packages/sklearn/metrics/_classification.py:1344: UndefinedMetricWarning: Precision and F-score are ill-defined and being set to 0.0 in labels with no predicted samples. Use `zero_division` parameter to control this behavior.\n",
            "  _warn_prf(average, modifier, msg_start, len(result))\n",
            "/usr/local/lib/python3.10/dist-packages/sklearn/metrics/_classification.py:1344: UndefinedMetricWarning: Precision and F-score are ill-defined and being set to 0.0 in labels with no predicted samples. Use `zero_division` parameter to control this behavior.\n",
            "  _warn_prf(average, modifier, msg_start, len(result))\n",
            "/usr/local/lib/python3.10/dist-packages/sklearn/metrics/_classification.py:1344: UndefinedMetricWarning: Precision and F-score are ill-defined and being set to 0.0 in labels with no predicted samples. Use `zero_division` parameter to control this behavior.\n",
            "  _warn_prf(average, modifier, msg_start, len(result))\n",
            "/usr/local/lib/python3.10/dist-packages/sklearn/metrics/_classification.py:1344: UndefinedMetricWarning: Precision is ill-defined and being set to 0.0 due to no predicted samples. Use `zero_division` parameter to control this behavior.\n",
            "  _warn_prf(average, modifier, msg_start, len(result))\n",
            "/usr/local/lib/python3.10/dist-packages/sklearn/metrics/_classification.py:1344: UndefinedMetricWarning: Precision and F-score are ill-defined and being set to 0.0 in labels with no predicted samples. Use `zero_division` parameter to control this behavior.\n",
            "  _warn_prf(average, modifier, msg_start, len(result))\n",
            "/usr/local/lib/python3.10/dist-packages/sklearn/metrics/_classification.py:1344: UndefinedMetricWarning: Precision and F-score are ill-defined and being set to 0.0 in labels with no predicted samples. Use `zero_division` parameter to control this behavior.\n",
            "  _warn_prf(average, modifier, msg_start, len(result))\n",
            "/usr/local/lib/python3.10/dist-packages/sklearn/metrics/_classification.py:1344: UndefinedMetricWarning: Precision and F-score are ill-defined and being set to 0.0 in labels with no predicted samples. Use `zero_division` parameter to control this behavior.\n",
            "  _warn_prf(average, modifier, msg_start, len(result))\n",
            "/usr/local/lib/python3.10/dist-packages/sklearn/metrics/_classification.py:1344: UndefinedMetricWarning: Precision is ill-defined and being set to 0.0 due to no predicted samples. Use `zero_division` parameter to control this behavior.\n",
            "  _warn_prf(average, modifier, msg_start, len(result))\n",
            "/usr/lib/python3.10/statistics.py:428: RuntimeWarning: divide by zero encountered in double_scalars\n",
            "  T, total, count = _sum(w / x if w else 0 for w, x in zip(weights, data))\n"
          ]
        }
      ],
      "source": [
        "print(\"randoms: acc: {}  precision: {} recall: {}   roc_auc: {}   \".format(accuracy_score(y, y_pred_rand),precision_score(y,y_pred_rand),recall_score(y,y_pred_rand),roc_auc_score(y,y_pred_rand)))\n",
        "print(\"{}\".format(classification_report(y,y_pred_rand)))\n",
        "print(\"harmonic mean prec and recall: {} \".format(statistics.harmonic_mean([precision_score(y,y_pred_rand),recall_score(y,y_pred_rand)])))\n",
        "\n",
        "\n",
        "print(\"ones: acc: {}  precision: {} recall: {}   roc_auc: {}  \".format(accuracy_score(y, y_pred_ones),precision_score(y,y_pred_ones),recall_score(y,y_pred_ones),roc_auc_score(y,y_pred_ones)))\n",
        "print(\"{}\".format(classification_report(y,y_pred_ones)))\n",
        "print(\"harmonic mean prec and recall: {} \".format(statistics.harmonic_mean([precision_score(y,y_pred_ones),recall_score(y,y_pred_ones)])))\n",
        "\n",
        "print(\"zeros: acc: {}  precision: {} recall: {}   roc_auc: {}  \".format(accuracy_score(y, y_pred_zeros),precision_score(y,y_pred_zeros),recall_score(y,y_pred_zeros),roc_auc_score(y,y_pred_zeros)))\n",
        "print(\"{}\".format(classification_report(y,y_pred_zeros)))\n",
        "print(\"harmonic mean prec and recall: {}\".format(statistics.harmonic_mean([precision_score(y,y_pred_zeros),recall_score(y,y_pred_zeros)])))"
      ]
    },
    {
      "cell_type": "markdown",
      "id": "fe513ecf-fa75-4ff4-a06d-f3f2491a8c96",
      "metadata": {
        "id": "fe513ecf-fa75-4ff4-a06d-f3f2491a8c96"
      },
      "source": [
        "#### Imbalanced data"
      ]
    },
    {
      "cell_type": "markdown",
      "id": "3f255c78-dd8d-4e98-892c-ee644059387a",
      "metadata": {
        "editable": true,
        "tags": [],
        "id": "3f255c78-dd8d-4e98-892c-ee644059387a"
      },
      "source": [
        "Consider the following, label set:\n",
        "\n",
        "* `y_imbalanced`:  only a small set of cases (`1`) compated to controls (`0`)\n",
        "\n",
        "Now, calculate the *accuracy*, *precision*, *recall*, and *ROC AUC*.\n",
        "\n",
        "1) For a classifier that returns random labels. What do you observe?\n",
        "2) For a classifier that always predicts the majority class (`0`). What do you observe and why could this be an issue in practice (particularly if we only consider `accuracy`)?\n",
        "5) Which class label does `scikit-learn` consider to be a \"case\", i.e., the class of interest?\n",
        "\n",
        "**Hints:**\n",
        "* You can simulate these classifiers without input data, i.e., by generating their predictions manually.\n",
        "* You can use `numpy` and `scikit-learn` to show these cases instead of answering theoretically."
      ]
    },
    {
      "cell_type": "code",
      "execution_count": null,
      "id": "8205fab8-46f7-49e2-9ddc-3ea1ad03ee37",
      "metadata": {
        "editable": true,
        "tags": [],
        "id": "8205fab8-46f7-49e2-9ddc-3ea1ad03ee37"
      },
      "outputs": [],
      "source": [
        "import numpy as np\n",
        "from sklearn.metrics import accuracy_score, precision_score, recall_score, roc_auc_score, classification_report\n",
        "\n",
        "np.random.seed(42)\n",
        "n = 1000\n",
        "\n",
        "# labels 2 (imbalanced, i.e., small sets of `cases` (label=1))\n",
        "y_imbalance = np.random.choice([0,1], p=(0.9, 0.1), size=n)\n",
        "\n",
        "\n",
        "# classification labels 1 (random)\n",
        "np.random.seed(1337)\n",
        "n = 1000\n",
        "y_pred_rand = np.random.choice([0,1], p=(0.5, 0.5), size=n)"
      ]
    },
    {
      "cell_type": "code",
      "execution_count": null,
      "id": "37f832b4-6767-472d-b197-ca562bea3eb1",
      "metadata": {
        "tags": [
          "placeholder"
        ],
        "colab": {
          "base_uri": "https://localhost:8080/"
        },
        "id": "37f832b4-6767-472d-b197-ca562bea3eb1",
        "outputId": "14545703-85d2-4f47-bba4-7281cb67584b"
      },
      "outputs": [
        {
          "output_type": "stream",
          "name": "stdout",
          "text": [
            "randoms: acc: 0.515  precision: 0.11422845691382766 recall: 0.57   roc_auc: 0.5394444444444444   \n",
            "              precision    recall  f1-score   support\n",
            "\n",
            "           0       0.91      0.51      0.65       900\n",
            "           1       0.11      0.57      0.19       100\n",
            "\n",
            "    accuracy                           0.52      1000\n",
            "   macro avg       0.51      0.54      0.42      1000\n",
            "weighted avg       0.83      0.51      0.61      1000\n",
            "\n"
          ]
        }
      ],
      "source": [
        "print(\"randoms: acc: {}  precision: {} recall: {}   roc_auc: {}   \".format(accuracy_score(y_imbalance, y_pred_rand),precision_score(y_imbalance,y_pred_rand),recall_score(y_imbalance,y_pred_rand),roc_auc_score(y_imbalance,y_pred_rand)))\n",
        "print(\"{}\".format(classification_report(y_imbalance,y_pred_rand)))\n",
        "#acc: bleibt gleich, zwar ca 90 /100 psotives erkannt, aber auch 450/900 negatives richtig erkannt\n",
        "#prec: geht stark runter: 90TP/90TP + ca450FP\n",
        "#recall: bleibt gleich : 90TP/90TP + 50FN"
      ]
    },
    {
      "cell_type": "markdown",
      "id": "22ea844b-0e7d-43d1-822e-eb82b4247ef9",
      "metadata": {
        "id": "22ea844b-0e7d-43d1-822e-eb82b4247ef9"
      },
      "source": [
        "### Regression"
      ]
    },
    {
      "cell_type": "markdown",
      "id": "080c9ee3-793f-4457-83e4-2209e8d5b4e5",
      "metadata": {
        "id": "080c9ee3-793f-4457-83e4-2209e8d5b4e5"
      },
      "source": [
        "#### MAE vs MSE\n",
        "\n",
        "1. Write down the formulas for MAE and MSE.\n",
        "2. When would you use MAE and when would you use MSE?\n",
        "3. Which functions correspond to these measures in `scikit-learn`?"
      ]
    },
    {
      "cell_type": "code",
      "execution_count": null,
      "id": "3746ce9b-b2b4-4841-9421-e215f87b28d5",
      "metadata": {
        "tags": [
          "placeholder"
        ],
        "colab": {
          "base_uri": "https://localhost:8080/",
          "height": 145
        },
        "id": "3746ce9b-b2b4-4841-9421-e215f87b28d5",
        "outputId": "81b03c37-ae85-4ca9-c9c5-9d7b7b6a45e1"
      },
      "outputs": [
        {
          "output_type": "error",
          "ename": "SyntaxError",
          "evalue": "ignored",
          "traceback": [
            "\u001b[0;36m  File \u001b[0;32m\"<ipython-input-34-ed111a3cccfd>\"\u001b[0;36m, line \u001b[0;32m2\u001b[0m\n\u001b[0;31m    $\\17n \\sum(\\abs(y-y_pred))$\u001b[0m\n\u001b[0m    ^\u001b[0m\n\u001b[0;31mSyntaxError\u001b[0m\u001b[0;31m:\u001b[0m invalid syntax\n"
          ]
        }
      ],
      "source": []
    },
    {
      "cell_type": "markdown",
      "source": [
        "\n",
        "Mean absolute Error: $\\frac{1}{n} \\sum(|y-y_{pred}|)$  used without outliers\n",
        "<br>\n",
        "mean squared Error: $\\frac{1}{n} \\sum((y-y_{pred})^2)$ better against outliers or for strong penalty applications"
      ],
      "metadata": {
        "id": "EpXb_bjbXU6a"
      },
      "id": "EpXb_bjbXU6a"
    },
    {
      "cell_type": "markdown",
      "id": "16eda68f-eddc-4339-af6e-f0d193d90183",
      "metadata": {
        "id": "16eda68f-eddc-4339-af6e-f0d193d90183"
      },
      "source": [
        "#### $R^2$"
      ]
    },
    {
      "cell_type": "markdown",
      "id": "ffe11c12-ab01-43a4-9b38-10b2c68a21d7",
      "metadata": {
        "id": "ffe11c12-ab01-43a4-9b38-10b2c68a21d7"
      },
      "source": [
        "1. Write down the formula for the $R^2$ measure.\n",
        "2. Look at the formula and try to understand what the $R^2$ measure intuitively measures. **Hint:** Consider the case were we only predict the mean $\\bar{y}$.\n",
        "3. Which functions corresponds to $R^2$ in `scikit-learn`?"
      ]
    },
    {
      "cell_type": "code",
      "execution_count": null,
      "id": "f600daad-3389-45ec-a8bf-0e5e560a909d",
      "metadata": {
        "editable": true,
        "tags": [
          "placeholder"
        ],
        "id": "f600daad-3389-45ec-a8bf-0e5e560a909d"
      },
      "outputs": [],
      "source": [
        "1-(Varianz in )"
      ]
    },
    {
      "cell_type": "code",
      "source": [
        "from scipy.stats import pearsonr\n",
        "from sklearn.metrics import r2_score\n",
        "(pearsonr(y, y_pred)[0])**2, r2_score(y, y_pred)"
      ],
      "metadata": {
        "id": "WDDp_UoAdN0s",
        "outputId": "fad5cf7c-68ef-4f37-9bbf-5a1752eef87f",
        "colab": {
          "base_uri": "https://localhost:8080/",
          "height": 332
        }
      },
      "id": "WDDp_UoAdN0s",
      "execution_count": 75,
      "outputs": [
        {
          "output_type": "error",
          "ename": "ValueError",
          "evalue": "ignored",
          "traceback": [
            "\u001b[0;31m---------------------------------------------------------------------------\u001b[0m",
            "\u001b[0;31mValueError\u001b[0m                                Traceback (most recent call last)",
            "\u001b[0;32m<ipython-input-75-9f29ee12fb7e>\u001b[0m in \u001b[0;36m<cell line: 3>\u001b[0;34m()\u001b[0m\n\u001b[1;32m      1\u001b[0m \u001b[0;32mfrom\u001b[0m \u001b[0mscipy\u001b[0m\u001b[0;34m.\u001b[0m\u001b[0mstats\u001b[0m \u001b[0;32mimport\u001b[0m \u001b[0mpearsonr\u001b[0m\u001b[0;34m\u001b[0m\u001b[0;34m\u001b[0m\u001b[0m\n\u001b[1;32m      2\u001b[0m \u001b[0;32mfrom\u001b[0m \u001b[0msklearn\u001b[0m\u001b[0;34m.\u001b[0m\u001b[0mmetrics\u001b[0m \u001b[0;32mimport\u001b[0m \u001b[0mr2_score\u001b[0m\u001b[0;34m\u001b[0m\u001b[0;34m\u001b[0m\u001b[0m\n\u001b[0;32m----> 3\u001b[0;31m \u001b[0;34m(\u001b[0m\u001b[0mpearsonr\u001b[0m\u001b[0;34m(\u001b[0m\u001b[0my\u001b[0m\u001b[0;34m,\u001b[0m \u001b[0my_pred\u001b[0m\u001b[0;34m)\u001b[0m\u001b[0;34m[\u001b[0m\u001b[0;36m0\u001b[0m\u001b[0;34m]\u001b[0m\u001b[0;34m)\u001b[0m\u001b[0;34m**\u001b[0m\u001b[0;36m2\u001b[0m\u001b[0;34m,\u001b[0m \u001b[0mr2_score\u001b[0m\u001b[0;34m(\u001b[0m\u001b[0my\u001b[0m\u001b[0;34m,\u001b[0m \u001b[0my_pred\u001b[0m\u001b[0;34m)\u001b[0m\u001b[0;34m\u001b[0m\u001b[0;34m\u001b[0m\u001b[0m\n\u001b[0m",
            "\u001b[0;32m/usr/local/lib/python3.10/dist-packages/scipy/stats/_stats_py.py\u001b[0m in \u001b[0;36mpearsonr\u001b[0;34m(x, y, alternative, method)\u001b[0m\n\u001b[1;32m   4763\u001b[0m     \u001b[0mn\u001b[0m \u001b[0;34m=\u001b[0m \u001b[0mlen\u001b[0m\u001b[0;34m(\u001b[0m\u001b[0mx\u001b[0m\u001b[0;34m)\u001b[0m\u001b[0;34m\u001b[0m\u001b[0;34m\u001b[0m\u001b[0m\n\u001b[1;32m   4764\u001b[0m     \u001b[0;32mif\u001b[0m \u001b[0mn\u001b[0m \u001b[0;34m!=\u001b[0m \u001b[0mlen\u001b[0m\u001b[0;34m(\u001b[0m\u001b[0my\u001b[0m\u001b[0;34m)\u001b[0m\u001b[0;34m:\u001b[0m\u001b[0;34m\u001b[0m\u001b[0;34m\u001b[0m\u001b[0m\n\u001b[0;32m-> 4765\u001b[0;31m         \u001b[0;32mraise\u001b[0m \u001b[0mValueError\u001b[0m\u001b[0;34m(\u001b[0m\u001b[0;34m'x and y must have the same length.'\u001b[0m\u001b[0;34m)\u001b[0m\u001b[0;34m\u001b[0m\u001b[0;34m\u001b[0m\u001b[0m\n\u001b[0m\u001b[1;32m   4766\u001b[0m \u001b[0;34m\u001b[0m\u001b[0m\n\u001b[1;32m   4767\u001b[0m     \u001b[0;32mif\u001b[0m \u001b[0mn\u001b[0m \u001b[0;34m<\u001b[0m \u001b[0;36m2\u001b[0m\u001b[0;34m:\u001b[0m\u001b[0;34m\u001b[0m\u001b[0;34m\u001b[0m\u001b[0m\n",
            "\u001b[0;31mValueError\u001b[0m: x and y must have the same length."
          ]
        }
      ]
    },
    {
      "cell_type": "markdown",
      "source": [
        "$RSS = \\sum(y_{true}-y_{pred})^2)$\n",
        "<br>\n",
        "$TSS = \\sum(y_{true}-y_{meanOfTrue})^2$\n",
        "<br>\n",
        "$R^2 = 1- RSS/TSS$\n",
        "<br>\n",
        "1 -  Anteil der Varianz in den Predictions weg vom True Value / Varianz innerhalb der true values\n",
        "je dichter an 1 desto mehr Anteil der Varianz steckt in der Prediciton von der in den tatsächlichen Daten, desto besser erklärt die prediction die var der adtane"
      ],
      "metadata": {
        "id": "nVlkrHZ5YT1g"
      },
      "id": "nVlkrHZ5YT1g"
    },
    {
      "cell_type": "markdown",
      "id": "935da6f7-6feb-4625-b7f5-5dc2123a4943",
      "metadata": {
        "id": "935da6f7-6feb-4625-b7f5-5dc2123a4943"
      },
      "source": [
        "## Train / Test"
      ]
    },
    {
      "cell_type": "markdown",
      "id": "09c47c0d-ff6a-4bd2-888b-5471de9b0b5b",
      "metadata": {
        "editable": true,
        "tags": [],
        "id": "09c47c0d-ff6a-4bd2-888b-5471de9b0b5b"
      },
      "source": [
        "1. Use `train_test_split` to shuffle and split the given data `(X, y)` into a train and a test dataset with a 80:20 ratio. (**Hint:** you can use the parameters `shuffle` and `test_size`)\n",
        "2. Train the `DecisionTreeClassifier` on the training dataset.\n",
        "3. Calculate the ROC AUC score for the training and the test dataset.\n",
        "4. What do you observe?\n",
        "5. Why should we always have a test set?\n",
        "5. Why should we NEVER fit a model before we define a test set?"
      ]
    },
    {
      "cell_type": "code",
      "execution_count": 76,
      "id": "ef84d2b9-a090-4d07-a4e2-b105620f075c",
      "metadata": {
        "editable": true,
        "tags": [],
        "id": "ef84d2b9-a090-4d07-a4e2-b105620f075c"
      },
      "outputs": [],
      "source": [
        "np.random.seed(42)\n",
        "\n",
        "n_samples = 1000\n",
        "n_features = 100\n",
        "X = np.random.random((n_samples, n_features))\n",
        "y = np.random.choice([0, 1], p=(0.5, 0.5), size=n_samples)\n"
      ]
    },
    {
      "cell_type": "code",
      "execution_count": 77,
      "id": "abced26f-a9f9-44c5-89e5-a207c1e9be8c",
      "metadata": {
        "editable": true,
        "tags": [],
        "id": "abced26f-a9f9-44c5-89e5-a207c1e9be8c",
        "colab": {
          "base_uri": "https://localhost:8080/",
          "height": 75
        },
        "outputId": "9f8d4a10-3f79-49ca-be1f-42f112888f69"
      },
      "outputs": [
        {
          "output_type": "execute_result",
          "data": {
            "text/plain": [
              "DecisionTreeClassifier()"
            ],
            "text/html": [
              "<style>#sk-container-id-7 {color: black;background-color: white;}#sk-container-id-7 pre{padding: 0;}#sk-container-id-7 div.sk-toggleable {background-color: white;}#sk-container-id-7 label.sk-toggleable__label {cursor: pointer;display: block;width: 100%;margin-bottom: 0;padding: 0.3em;box-sizing: border-box;text-align: center;}#sk-container-id-7 label.sk-toggleable__label-arrow:before {content: \"▸\";float: left;margin-right: 0.25em;color: #696969;}#sk-container-id-7 label.sk-toggleable__label-arrow:hover:before {color: black;}#sk-container-id-7 div.sk-estimator:hover label.sk-toggleable__label-arrow:before {color: black;}#sk-container-id-7 div.sk-toggleable__content {max-height: 0;max-width: 0;overflow: hidden;text-align: left;background-color: #f0f8ff;}#sk-container-id-7 div.sk-toggleable__content pre {margin: 0.2em;color: black;border-radius: 0.25em;background-color: #f0f8ff;}#sk-container-id-7 input.sk-toggleable__control:checked~div.sk-toggleable__content {max-height: 200px;max-width: 100%;overflow: auto;}#sk-container-id-7 input.sk-toggleable__control:checked~label.sk-toggleable__label-arrow:before {content: \"▾\";}#sk-container-id-7 div.sk-estimator input.sk-toggleable__control:checked~label.sk-toggleable__label {background-color: #d4ebff;}#sk-container-id-7 div.sk-label input.sk-toggleable__control:checked~label.sk-toggleable__label {background-color: #d4ebff;}#sk-container-id-7 input.sk-hidden--visually {border: 0;clip: rect(1px 1px 1px 1px);clip: rect(1px, 1px, 1px, 1px);height: 1px;margin: -1px;overflow: hidden;padding: 0;position: absolute;width: 1px;}#sk-container-id-7 div.sk-estimator {font-family: monospace;background-color: #f0f8ff;border: 1px dotted black;border-radius: 0.25em;box-sizing: border-box;margin-bottom: 0.5em;}#sk-container-id-7 div.sk-estimator:hover {background-color: #d4ebff;}#sk-container-id-7 div.sk-parallel-item::after {content: \"\";width: 100%;border-bottom: 1px solid gray;flex-grow: 1;}#sk-container-id-7 div.sk-label:hover label.sk-toggleable__label {background-color: #d4ebff;}#sk-container-id-7 div.sk-serial::before {content: \"\";position: absolute;border-left: 1px solid gray;box-sizing: border-box;top: 0;bottom: 0;left: 50%;z-index: 0;}#sk-container-id-7 div.sk-serial {display: flex;flex-direction: column;align-items: center;background-color: white;padding-right: 0.2em;padding-left: 0.2em;position: relative;}#sk-container-id-7 div.sk-item {position: relative;z-index: 1;}#sk-container-id-7 div.sk-parallel {display: flex;align-items: stretch;justify-content: center;background-color: white;position: relative;}#sk-container-id-7 div.sk-item::before, #sk-container-id-7 div.sk-parallel-item::before {content: \"\";position: absolute;border-left: 1px solid gray;box-sizing: border-box;top: 0;bottom: 0;left: 50%;z-index: -1;}#sk-container-id-7 div.sk-parallel-item {display: flex;flex-direction: column;z-index: 1;position: relative;background-color: white;}#sk-container-id-7 div.sk-parallel-item:first-child::after {align-self: flex-end;width: 50%;}#sk-container-id-7 div.sk-parallel-item:last-child::after {align-self: flex-start;width: 50%;}#sk-container-id-7 div.sk-parallel-item:only-child::after {width: 0;}#sk-container-id-7 div.sk-dashed-wrapped {border: 1px dashed gray;margin: 0 0.4em 0.5em 0.4em;box-sizing: border-box;padding-bottom: 0.4em;background-color: white;}#sk-container-id-7 div.sk-label label {font-family: monospace;font-weight: bold;display: inline-block;line-height: 1.2em;}#sk-container-id-7 div.sk-label-container {text-align: center;}#sk-container-id-7 div.sk-container {/* jupyter's `normalize.less` sets `[hidden] { display: none; }` but bootstrap.min.css set `[hidden] { display: none !important; }` so we also need the `!important` here to be able to override the default hidden behavior on the sphinx rendered scikit-learn.org. See: https://github.com/scikit-learn/scikit-learn/issues/21755 */display: inline-block !important;position: relative;}#sk-container-id-7 div.sk-text-repr-fallback {display: none;}</style><div id=\"sk-container-id-7\" class=\"sk-top-container\"><div class=\"sk-text-repr-fallback\"><pre>DecisionTreeClassifier()</pre><b>In a Jupyter environment, please rerun this cell to show the HTML representation or trust the notebook. <br />On GitHub, the HTML representation is unable to render, please try loading this page with nbviewer.org.</b></div><div class=\"sk-container\" hidden><div class=\"sk-item\"><div class=\"sk-estimator sk-toggleable\"><input class=\"sk-toggleable__control sk-hidden--visually\" id=\"sk-estimator-id-7\" type=\"checkbox\" checked><label for=\"sk-estimator-id-7\" class=\"sk-toggleable__label sk-toggleable__label-arrow\">DecisionTreeClassifier</label><div class=\"sk-toggleable__content\"><pre>DecisionTreeClassifier()</pre></div></div></div></div></div>"
            ]
          },
          "metadata": {},
          "execution_count": 77
        }
      ],
      "source": [
        "from sklearn.model_selection import train_test_split\n",
        "from sklearn.tree import DecisionTreeClassifier\n",
        "\n",
        "X_train, X_test, y_train, y_test = train_test_split(X,y,test_size=0.2, random_state=42)\n",
        "clf = DecisionTreeClassifier()\n",
        "clf.fit(X_train, y_train)"
      ]
    },
    {
      "cell_type": "code",
      "execution_count": 79,
      "id": "62d563c4-ddb0-403f-b5b8-f23c8632310a",
      "metadata": {
        "editable": true,
        "tags": [
          "placeholder"
        ],
        "id": "62d563c4-ddb0-403f-b5b8-f23c8632310a",
        "colab": {
          "base_uri": "https://localhost:8080/"
        },
        "outputId": "bfb03f12-9a5a-4aff-a63c-4d28478c1696"
      },
      "outputs": [
        {
          "output_type": "stream",
          "name": "stdout",
          "text": [
            "              precision    recall  f1-score   support\n",
            "\n",
            "           0       0.45      0.47      0.46        96\n",
            "           1       0.50      0.48      0.49       104\n",
            "\n",
            "    accuracy                           0.48       200\n",
            "   macro avg       0.47      0.47      0.47       200\n",
            "weighted avg       0.48      0.47      0.48       200\n",
            "\n",
            "0.4747596153846154\n"
          ]
        }
      ],
      "source": [
        "y_pred = clf.predict(X_test)\n",
        "print(classification_report(y_test,y_pred))\n",
        "print(roc_auc_score(y_test,y_pred))"
      ]
    },
    {
      "cell_type": "markdown",
      "id": "f0e859e5-f56e-4bd0-9e32-e0d106515cf5",
      "metadata": {
        "id": "f0e859e5-f56e-4bd0-9e32-e0d106515cf5"
      },
      "source": [
        "## Cross Validation"
      ]
    },
    {
      "cell_type": "markdown",
      "id": "2bc48bfe-cafc-4fcc-a50c-ebf95f1abac9",
      "metadata": {
        "editable": true,
        "tags": [],
        "id": "2bc48bfe-cafc-4fcc-a50c-ebf95f1abac9"
      },
      "source": [
        "Consider the following dataset `(X, y)`. We already split it into a train `(X_train, y_train)`, `(X_val, y_val)`, and a test set `(X_test, y_test)`.\n",
        "\n",
        "1. Fit a `DecisionTreeClassifier` on the train dataset.\n",
        "2. Calculate the ROC AUC score on the train, validation, and test dataset. What do you observe?\n",
        "*train score is 1, other very high*\n",
        "3. How would you apply cross validation and how would it help you?\n",
        "**\n",
        "4. Apply cross validation appropriately and report the mean and standard deviation of the ROC AUC scores.\n",
        "5. In addition to the ROC AUC score on the test set, why would you also always report the mean and standard deviation of the cross validations scores?\n",
        "6. Why would you be a bit suspicious of the current AUC SCORE on the test set?\n",
        "*low val roc auc*\n",
        "7. BONUS: Why are we observing these results based on the data we use?\n",
        "*becaus of the different batch in X*"
      ]
    },
    {
      "cell_type": "code",
      "execution_count": 83,
      "id": "4c003fc5-811a-42ab-9e4c-a368cfb6b901",
      "metadata": {
        "editable": true,
        "tags": [],
        "id": "4c003fc5-811a-42ab-9e4c-a368cfb6b901"
      },
      "outputs": [],
      "source": [
        "from sklearn.datasets import make_classification\n",
        "from sklearn.model_selection import train_test_split\n",
        "from sklearn.tree import DecisionTreeClassifier\n",
        "import matplotlib.pyplot as plt"
      ]
    },
    {
      "cell_type": "code",
      "execution_count": 164,
      "id": "7b550b90-4b9d-4d1b-9b0c-e55005a9e4b8",
      "metadata": {
        "editable": true,
        "tags": [],
        "id": "7b550b90-4b9d-4d1b-9b0c-e55005a9e4b8",
        "colab": {
          "base_uri": "https://localhost:8080/"
        },
        "outputId": "c190625b-9a54-491f-c386-2993a01c3ba2"
      },
      "outputs": [
        {
          "output_type": "execute_result",
          "data": {
            "text/plain": [
              "(1200, 20)"
            ]
          },
          "metadata": {},
          "execution_count": 164
        }
      ],
      "source": [
        "np.random.seed(42)\n",
        "\n",
        "n_samples = 200 * 6\n",
        "X, y = make_classification(n_samples=n_samples, flip_y=0.01, n_redundant=2, n_informative=2)\n",
        "X[-2*int(n_samples / 6):-int(n_samples / 6),:] = np.random.random((int(n_samples / 6), X.shape[1]))\n",
        "X.shape\n"
      ]
    },
    {
      "cell_type": "code",
      "execution_count": 165,
      "id": "9e64d3d4-6def-45d2-b3c5-985fca436b13",
      "metadata": {
        "editable": true,
        "tags": [],
        "id": "9e64d3d4-6def-45d2-b3c5-985fca436b13"
      },
      "outputs": [],
      "source": [
        "# define the test set\n",
        "X_intermediate, X_test, y_intermediate, y_test = train_test_split(X, y, test_size=1/6, shuffle=False)"
      ]
    },
    {
      "cell_type": "code",
      "execution_count": 166,
      "id": "f65da64d-2c4f-41fe-a695-5418e23c1293",
      "metadata": {
        "editable": true,
        "tags": [],
        "id": "f65da64d-2c4f-41fe-a695-5418e23c1293"
      },
      "outputs": [],
      "source": [
        "# use the remaining data to define the train and validation set\n",
        "X_train, X_val, y_train, y_val = train_test_split(X_intermediate, y_intermediate, test_size=0.2, shuffle=False)"
      ]
    },
    {
      "cell_type": "code",
      "execution_count": 167,
      "id": "f886b012-a472-4796-b811-596e3b341f98",
      "metadata": {
        "editable": true,
        "tags": [],
        "id": "f886b012-a472-4796-b811-596e3b341f98",
        "outputId": "3c4c9524-cf97-4ec0-ab2f-a2035177ced9",
        "colab": {
          "base_uri": "https://localhost:8080/"
        }
      },
      "outputs": [
        {
          "output_type": "stream",
          "name": "stdout",
          "text": [
            "ROC AUC train: 1.0\n",
            "ROC AUC val: 0.9499198717948717\n",
            "ROC AUC test: 0.96\n"
          ]
        }
      ],
      "source": [
        "X_train, y_train\n",
        "X_val, y_val\n",
        "X_test, y_test;\n",
        "\n",
        "clf = DecisionTreeClassifier()\n",
        "clf.fit(X_train, y_train)\n",
        "y_pred = clf.predict(X_train)\n",
        "print(\"ROC AUC train: {}\".format(roc_auc_score(y_train,y_pred)))\n",
        "\n",
        "y_pred = clf.predict(X_val)\n",
        "print(\"ROC AUC val: {}\".format(roc_auc_score(y_val,y_pred)))\n",
        "\n",
        "y_pred = clf.predict(X_test)\n",
        "print(\"ROC AUC test: {}\".format(roc_auc_score(y_test,y_pred)))\n",
        "\n"
      ]
    },
    {
      "cell_type": "code",
      "source": [
        "from sklearn.model_selection import cross_val_score\n",
        "for i in range(2,21):\n",
        "  clf = DecisionTreeClassifier(max_depth=i)\n",
        "  clf = clf.fit(X_train, y_train)\n",
        "  scores = cross_val_score(clf, X_train, y_train, cv=i, scoring=\"roc_auc\")\n",
        "  print(\"ROC AUC cross val {}: {}\".format(i, np.mean(scores)))\n",
        "\n",
        "  y_pred = clf.predict(X_train)\n",
        "  print(\"ROC AUC train: {}\".format(roc_auc_score(y_train,y_pred)))\n",
        "\n",
        "  y_pred = clf.predict(X_val)\n",
        "  print(\"ROC AUC val: {}\".format(roc_auc_score(y_val,y_pred)))\n",
        "\n",
        "  y_pred = clf.predict(X_test)\n",
        "  print(\"ROC AUC test: {} \\n\".format(roc_auc_score(y_test,y_pred)))\n"
      ],
      "metadata": {
        "colab": {
          "base_uri": "https://localhost:8080/"
        },
        "id": "nODrEGnq1uRf",
        "outputId": "f635ff31-0df4-4e6c-e148-cc164be7dd02"
      },
      "id": "nODrEGnq1uRf",
      "execution_count": 172,
      "outputs": [
        {
          "output_type": "stream",
          "name": "stdout",
          "text": [
            "ROC AUC cross val 2: 0.9370499549954996\n",
            "ROC AUC train: 0.9305805580558055\n",
            "ROC AUC val: 0.9226762820512822\n",
            "ROC AUC test: 0.905 \n",
            "\n",
            "ROC AUC cross val 3: 0.953558665706261\n",
            "ROC AUC train: 0.9406565656565656\n",
            "ROC AUC val: 0.9274839743589745\n",
            "ROC AUC test: 0.9199999999999999 \n",
            "\n",
            "ROC AUC cross val 4: 0.9573082308230823\n",
            "ROC AUC train: 0.9445194519451944\n",
            "ROC AUC val: 0.9170673076923077\n",
            "ROC AUC test: 0.92 \n",
            "\n",
            "ROC AUC cross val 5: 0.9358208631231444\n",
            "ROC AUC train: 0.9785853585358536\n",
            "ROC AUC val: 0.9551282051282051\n",
            "ROC AUC test: 0.965 \n",
            "\n",
            "ROC AUC cross val 6: 0.9385938511542111\n",
            "ROC AUC train: 0.9836358635863586\n",
            "ROC AUC val: 0.9599358974358976\n",
            "ROC AUC test: 0.955 \n",
            "\n",
            "ROC AUC cross val 7: 0.9352523330948579\n",
            "ROC AUC train: 0.9873737373737373\n",
            "ROC AUC val: 0.9499198717948717\n",
            "ROC AUC test: 0.96 \n",
            "\n",
            "ROC AUC cross val 8: 0.9343080732292917\n",
            "ROC AUC train: 0.98994899489949\n",
            "ROC AUC val: 0.9499198717948717\n",
            "ROC AUC test: 0.95 \n",
            "\n",
            "ROC AUC cross val 9: 0.9412387766554434\n",
            "ROC AUC train: 0.994949494949495\n",
            "ROC AUC val: 0.954727564102564\n",
            "ROC AUC test: 0.96 \n",
            "\n",
            "ROC AUC cross val 10: 0.9476415728580363\n",
            "ROC AUC train: 0.9974747474747474\n",
            "ROC AUC val: 0.9499198717948717\n",
            "ROC AUC test: 0.955 \n",
            "\n",
            "ROC AUC cross val 11: 0.9363975718142384\n",
            "ROC AUC train: 0.9987373737373738\n",
            "ROC AUC val: 0.9495192307692308\n",
            "ROC AUC test: 0.96 \n",
            "\n",
            "ROC AUC cross val 12: 0.9281248311996975\n",
            "ROC AUC train: 1.0\n",
            "ROC AUC val: 0.954727564102564\n",
            "ROC AUC test: 0.95 \n",
            "\n",
            "ROC AUC cross val 13: 0.9224992245657568\n",
            "ROC AUC train: 1.0\n",
            "ROC AUC val: 0.9290865384615383\n",
            "ROC AUC test: 0.95 \n",
            "\n",
            "ROC AUC cross val 14: 0.9312543983110487\n",
            "ROC AUC train: 1.0\n",
            "ROC AUC val: 0.9395032051282052\n",
            "ROC AUC test: 0.95 \n",
            "\n",
            "ROC AUC cross val 15: 0.9300094966761633\n",
            "ROC AUC train: 1.0\n",
            "ROC AUC val: 0.9443108974358976\n",
            "ROC AUC test: 0.945 \n",
            "\n",
            "ROC AUC cross val 16: 0.9237179487179487\n",
            "ROC AUC train: 1.0\n",
            "ROC AUC val: 0.9495192307692308\n",
            "ROC AUC test: 0.94 \n",
            "\n",
            "ROC AUC cross val 17: 0.9299339300937766\n",
            "ROC AUC train: 1.0\n",
            "ROC AUC val: 0.9395032051282052\n",
            "ROC AUC test: 0.945 \n",
            "\n",
            "ROC AUC cross val 18: 0.9312143170838824\n",
            "ROC AUC train: 1.0\n",
            "ROC AUC val: 0.9395032051282052\n",
            "ROC AUC test: 0.94 \n",
            "\n",
            "ROC AUC cross val 19: 0.9288847117794488\n",
            "ROC AUC train: 1.0\n",
            "ROC AUC val: 0.9447115384615384\n",
            "ROC AUC test: 0.965 \n",
            "\n",
            "ROC AUC cross val 20: 0.928765664160401\n",
            "ROC AUC train: 1.0\n",
            "ROC AUC val: 0.9447115384615384\n",
            "ROC AUC test: 0.95 \n",
            "\n"
          ]
        }
      ]
    },
    {
      "cell_type": "markdown",
      "id": "2ff8304d-9f6e-4e38-addf-5a3e1ab5d76f",
      "metadata": {
        "id": "2ff8304d-9f6e-4e38-addf-5a3e1ab5d76f"
      },
      "source": [
        "## Overfitting / Underfitting"
      ]
    },
    {
      "cell_type": "markdown",
      "id": "5f223b72-3e19-44bb-8362-cc2a919e8ec8",
      "metadata": {
        "editable": true,
        "tags": [],
        "id": "5f223b72-3e19-44bb-8362-cc2a919e8ec8"
      },
      "source": [
        "1. Explain the bias / variance trade-off in your own words.\n",
        "2. For the data below, plot `X` against `y_orig` and `X` against `y` (**hint**: `y` is a noisy variant of `y_orig`).\n",
        "3. Split the data into train (80%) and test (20%) sets.\n",
        "4. Fit a `DecisionTreeRegressor` and calculate the mean absolute error for train and test set\n",
        "5. Visualize the predictions for train and test.\n",
        "6. Try different `max_depth`. Can you underfit, fit well, and overfit?\n",
        "7. How does this connect to the bias / variance trade-off?"
      ]
    },
    {
      "cell_type": "code",
      "execution_count": null,
      "id": "9a4378b1-8f9b-4a17-aed5-bb0a1d407c55",
      "metadata": {
        "editable": true,
        "tags": [],
        "id": "9a4378b1-8f9b-4a17-aed5-bb0a1d407c55"
      },
      "outputs": [],
      "source": [
        "import matplotlib.pyplot as plt\n",
        "from sklearn.tree import DecisionTreeRegressor\n",
        "from sklearn.metrics import mean_absolute_error"
      ]
    },
    {
      "cell_type": "code",
      "execution_count": null,
      "id": "be7c14a0-e248-4c2d-a003-c8cf5d343fdd",
      "metadata": {
        "editable": true,
        "tags": [],
        "id": "be7c14a0-e248-4c2d-a003-c8cf5d343fdd"
      },
      "outputs": [],
      "source": [
        "n_steps = 4\n",
        "X = np.arange(50 * n_steps).reshape((-1,1))\n",
        "y_orig = np.repeat(np.arange(4), int(X.shape[0] / n_steps))\n",
        "y = y_orig + (np.random.random(y_orig.size) - 0.5) * 2"
      ]
    },
    {
      "cell_type": "code",
      "execution_count": null,
      "id": "d34f5ab9-a1da-4844-bc1b-9a38e6964cff",
      "metadata": {
        "tags": [
          "placeholder"
        ],
        "id": "d34f5ab9-a1da-4844-bc1b-9a38e6964cff"
      },
      "outputs": [],
      "source": []
    }
  ],
  "metadata": {
    "kernelspec": {
      "display_name": "Python 3 (ipykernel)",
      "language": "python",
      "name": "python3"
    },
    "language_info": {
      "codemirror_mode": {
        "name": "ipython",
        "version": 3
      },
      "file_extension": ".py",
      "mimetype": "text/x-python",
      "name": "python",
      "nbconvert_exporter": "python",
      "pygments_lexer": "ipython3",
      "version": "3.11.5"
    },
    "toc-autonumbering": true,
    "colab": {
      "provenance": [],
      "include_colab_link": true
    }
  },
  "nbformat": 4,
  "nbformat_minor": 5
}