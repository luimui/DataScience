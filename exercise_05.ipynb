{
  "cells": [
    {
      "cell_type": "markdown",
      "id": "e330f2c4-c934-49ef-ab7c-f5e66c0b7703",
      "metadata": {
        "id": "e330f2c4-c934-49ef-ab7c-f5e66c0b7703"
      },
      "source": [
        "# Exercise 5"
      ]
    },
    {
      "cell_type": "code",
      "execution_count": 1,
      "id": "f9e403fa-3e1a-474d-9f14-d7106f6987ec",
      "metadata": {
        "editable": true,
        "tags": [],
        "id": "f9e403fa-3e1a-474d-9f14-d7106f6987ec"
      },
      "outputs": [],
      "source": [
        "import numpy as np\n",
        "import matplotlib.pyplot as plt"
      ]
    },
    {
      "cell_type": "markdown",
      "id": "f73ef2f9-57a6-4131-9739-f57c7d0fbeb2",
      "metadata": {
        "id": "f73ef2f9-57a6-4131-9739-f57c7d0fbeb2"
      },
      "source": [
        "## Statistical testing: Theory"
      ]
    },
    {
      "cell_type": "markdown",
      "id": "38ed61bd-410d-4ede-993a-f6b1f3e6d534",
      "metadata": {
        "id": "38ed61bd-410d-4ede-993a-f6b1f3e6d534"
      },
      "source": [
        "1) In statistical hypothesis testing, what does a *significant difference* mean? Use an example for illustration, e.g., the difference in weight of domestic and feral cats.\n",
        "<br>\n",
        "*null hypothesis (new datapoint belongs to distribution of previous data) has probabilty of <0.05*  \n",
        "\n",
        "1) Given the same example as you used in 1), what is your null hypothesis ($H_0$) and what is your alternate hypothesis ($H_1$)?\n",
        "<br>\n",
        "*$H_1$: new datapoint belongs to distribution of previous data*\n",
        "\n",
        "1) When conducting a statistical test, one important outcome is a so called *p-value*. What is a p-value? Explain using the same example as you used in 1).\n",
        "<br>\n",
        "*p: $P(X=x_{test})$ for $\\mathcal{N(mu,sig)}$ or other distribution*\n",
        "\n",
        "1) Now, we have compared the weight of domestic and feral cats using a statistical test: what does a p-value of `p=0.01` mean?\n",
        "<br>\n",
        "*chance is 0.01 that the value belongs to the assumed distribution of previous data*\n",
        "\n",
        "1) What level ($\\alpha$) of p-value would you use if you did a statistical test that causes ...\n",
        "    1) ... someone to go to jail.\n",
        "    1) ... a patient to take cough sirup.\n",
        "\n",
        "1) Going back to our cat example,\n",
        "\n",
        "    1) if the calculated p-value does not pass your $\\alpha$ level, does that mean that the weight of domestic and feral cats is NOT different? Explain.\n",
        "    *No, it is still possible with a chance of 1-p*\n",
        "    1) if the calculated p-value passes your $\\alpha$ level, what do you conclude?\n",
        "\n",
        "\n",
        "1) What is a Type I and a Type II error?\n",
        "<br>\n",
        "*Type I: $H_0$ is true, but $H_1$ was assumed, due to classification boundary, or p-Value --> false positive*\n",
        "<br>\n",
        "*Type II: $H_1$ is true, but $H_0$ is assumed --> false negative*"
      ]
    },
    {
      "cell_type": "markdown",
      "id": "acf86a3d-c3d5-48bc-a7c0-20f8928a368f",
      "metadata": {
        "id": "acf86a3d-c3d5-48bc-a7c0-20f8928a368f"
      },
      "source": [
        "## Statistical tests: Examples"
      ]
    },
    {
      "cell_type": "code",
      "execution_count": null,
      "id": "ebae54ce-9f4d-469a-af2e-a31aefe4afe7",
      "metadata": {
        "id": "ebae54ce-9f4d-469a-af2e-a31aefe4afe7"
      },
      "outputs": [],
      "source": [
        "from scipy.stats import ranksums, ttest_ind"
      ]
    },
    {
      "cell_type": "markdown",
      "id": "8f6373de-b920-4ea5-9186-45726090308f",
      "metadata": {
        "id": "8f6373de-b920-4ea5-9186-45726090308f"
      },
      "source": [
        "### Comparing the difference of two (normal) distributions"
      ]
    },
    {
      "cell_type": "markdown",
      "id": "af73d36a-3c9d-4e45-a7f6-24ccc127c05d",
      "metadata": {
        "id": "af73d36a-3c9d-4e45-a7f6-24ccc127c05d"
      },
      "source": [
        "1) What is the null hypothesis of the Wilcoxon Rank-Sum test (also known as Mann-Whitney U test)?\n",
        "1) The following code generates data from two distributions and calculates the *p-value* based on the Wilcoxon Rank-Sum test. Try different `n_samples`, and `shift`. Describe your observations.\n",
        "1) Could you also use the t-test for this data? Check the corresponding [Wikipedia entry, Section 'Uses'](https://en.wikipedia.org/wiki/Student%27s_t-test#Uses)."
      ]
    },
    {
      "cell_type": "code",
      "execution_count": null,
      "id": "31b06f5c-c06a-4eea-ac92-faf5b4c5546c",
      "metadata": {
        "id": "31b06f5c-c06a-4eea-ac92-faf5b4c5546c",
        "outputId": "5360db6d-a8ca-46a8-cbb1-a437977917af"
      },
      "outputs": [
        {
          "data": {
            "text/plain": [
              "RanksumsResult(statistic=0.19058433319583615, pvalue=0.8488512655032039)"
            ]
          },
          "execution_count": 4,
          "metadata": {},
          "output_type": "execute_result"
        },
        {
          "data": {
            "image/png": "[encoded data removed]",
            "text/plain": [
              "<Figure size 640x480 with 1 Axes>"
            ]
          },
          "metadata": {},
          "output_type": "display_data"
        }
      ],
      "source": [
        "# settings\n",
        "n_samples = 100\n",
        "shift = 0.2\n",
        "variance = 1\n",
        "\n",
        "# generate data\n",
        "v1 = np.random.normal(size=n_samples)\n",
        "v2 = np.random.normal(shift, variance, size=n_samples)\n",
        "plt.hist(v1, alpha=0.5)\n",
        "plt.hist(v2, alpha=0.5);\n",
        "\n",
        "# perform the test\n",
        "ranksums(v1, v2)"
      ]
    },
    {
      "cell_type": "markdown",
      "id": "194c360a-ccf3-40e4-99b4-5a04932f52a1",
      "metadata": {
        "id": "194c360a-ccf3-40e4-99b4-5a04932f52a1"
      },
      "source": [
        "### Correlations"
      ]
    },
    {
      "cell_type": "markdown",
      "id": "e2af6431-b794-4dc1-b9c5-39a0475bb83d",
      "metadata": {
        "id": "e2af6431-b794-4dc1-b9c5-39a0475bb83d"
      },
      "source": [
        "1) Intuitively, what does the Pearson correlation coefficient measure? What is its minimum and maximum value and what do different values mean?\n",
        "2) How to interpret a p-value calculated for Pearson correlation?  \n",
        "3) In what way is Spearman correlation different from Pearson?\n",
        "4) Look at the generated data below and run the code. Try different `n_samples` and `covariance` values. What do you observe?\n",
        "5) Add the outlier of `(0, 99)` to the data. What do you observe?\n",
        "6) Calculate the Spearman correlation (`scipy.stats.spearmanr`) as well as Kendall's tau (`scipy.stats.kendalltau`). How does the outlier influence these correlation measures?"
      ]
    },
    {
      "cell_type": "code",
      "execution_count": null,
      "id": "0ea2ac0c-9624-4d16-885b-05f5683e40f1",
      "metadata": {
        "id": "0ea2ac0c-9624-4d16-885b-05f5683e40f1"
      },
      "outputs": [],
      "source": [
        "from scipy.stats import spearmanr, pearsonr, kendalltau"
      ]
    },
    {
      "cell_type": "code",
      "execution_count": null,
      "id": "7d363989-f269-48c3-9b5a-32680acb82d6",
      "metadata": {
        "id": "7d363989-f269-48c3-9b5a-32680acb82d6",
        "outputId": "9fc03cc6-93de-4c1c-b379-080d8d52ba75"
      },
      "outputs": [
        {
          "name": "stdout",
          "output_type": "stream",
          "text": [
            "r=0.06992005432325617, p=0.6294538874318618\n"
          ]
        },
        {
          "data": {
            "image/png": "[encoded data removed]",
            "text/plain": [
              "<Figure size 1000x500 with 2 Axes>"
            ]
          },
          "metadata": {},
          "output_type": "display_data"
        }
      ],
      "source": [
        "# try different sample sizes and covariances\n",
        "\n",
        "n_samples = 50\n",
        "\n",
        "# use values from -1 to 1\n",
        "covariance = 0\n",
        "\n",
        "# generate data\n",
        "d = np.random.multivariate_normal((1,1), [[1,covariance],[covariance,1]], n_samples)\n",
        "v1 = d[:,0]\n",
        "v2 = d[:,1]\n",
        "\n",
        "# plot\n",
        "fig, axes = plt.subplots(1,2, figsize=(2 * 5, 1 * 5))\n",
        "ax = axes[0]; ax.hist2d(v1, v2)\n",
        "ax = axes[1]; ax.scatter(v1, v2)\n",
        "\n",
        "# stats\n",
        "r, p = pearsonr(v1, v2)\n",
        "print(f\"r={r}, p={p}\")"
      ]
    },
    {
      "cell_type": "markdown",
      "id": "cbda73bc-0313-49bc-9ebe-c969bc52618e",
      "metadata": {
        "editable": true,
        "tags": [],
        "id": "cbda73bc-0313-49bc-9ebe-c969bc52618e"
      },
      "source": [
        "## Multiple hypothesis comparison"
      ]
    },
    {
      "cell_type": "markdown",
      "id": "1cc1bef6-2bdf-4f52-9d8e-0249e3e78b99",
      "metadata": {
        "editable": true,
        "tags": [],
        "id": "1cc1bef6-2bdf-4f52-9d8e-0249e3e78b99"
      },
      "source": [
        "1) Explain what the multiple hypothesis comparison is and why it is a problem (refer to p-values in the process).\n",
        "2) Execute the following code, experiment with `n_samples` and `p_threshold`, and explain what it does."
      ]
    },
    {
      "cell_type": "code",
      "execution_count": null,
      "id": "291c3099-b5f2-4310-ab07-f0815af2c793",
      "metadata": {
        "editable": true,
        "tags": [],
        "id": "291c3099-b5f2-4310-ab07-f0815af2c793",
        "outputId": "9a7bda6a-bc74-46dc-8e68-c96c028bf2a7"
      },
      "outputs": [
        {
          "name": "stdout",
          "output_type": "stream",
          "text": [
            "# of tests with p < 0.05 without correction:  46\n",
            "# of tests with p < 0.05 WITH correction:  0\n"
          ]
        }
      ],
      "source": [
        "# multiple hypothesis comparision and correction on real data\n",
        "# try different p_thresholds (also called alpha values) and sample sizes\n",
        "\n",
        "# parameters\n",
        "n_samples = 1000\n",
        "n_features = 1000\n",
        "p_threshold = 0.05  # alpha value\n",
        "\n",
        "# generate data\n",
        "X = np.random.random((n_samples, n_features))\n",
        "y = np.random.random(n_samples)\n",
        "\n",
        "# calculate p-values between all features and the target\n",
        "ps = []\n",
        "for i in range(X.shape[1]):\n",
        "    r, p = spearmanr(X[:,i], y)\n",
        "    ps.append(p)\n",
        "\n",
        "# report results\n",
        "\n",
        "print(f\"# of tests with p < {p_threshold} without correction: \", (np.array(ps) < p_threshold).sum())\n",
        "\n",
        "from statsmodels.stats.multitest import multipletests\n",
        "ps2 = multipletests(ps, method=\"fdr_bh\")[1]\n",
        "print(f\"# of tests with p < {p_threshold} WITH correction: \", (np.array(ps2) < p_threshold).sum())"
      ]
    },
    {
      "cell_type": "markdown",
      "id": "f984aee1-2e2a-4d37-b4e7-56e4827e0ba8",
      "metadata": {
        "editable": true,
        "tags": [],
        "id": "f984aee1-2e2a-4d37-b4e7-56e4827e0ba8"
      },
      "source": [
        "## Model comparison"
      ]
    },
    {
      "cell_type": "markdown",
      "id": "bb847632-fbb1-42b0-aebf-2a551e89b055",
      "metadata": {
        "editable": true,
        "tags": [
          "placeholder"
        ],
        "id": "bb847632-fbb1-42b0-aebf-2a551e89b055"
      },
      "source": [
        "1) Run the given code. What does it do?\n",
        "1) Adjust the given code to use *repeated* cross-validation (`StratifiedRepeatedKFold`) for three different models (add one model). Why are we using a `stratified` version here?\n",
        "1) Run the training several times with different numbers of repetitions (1, 10, 100). What do you observe?\n",
        "1) Compare your performance values using [Wilcoxon rank-sum test](https://docs.scipy.org/doc/scipy/reference/generated/scipy.stats.ranksums.html). Again, compare different numbers of repetitions. What do you observe?\n",
        "1) Is one of the two models significantly better? Why?\n",
        "1) Retrain the \"better\" model on the whole training dataset and plot your predictions (`predict_proba`) for the training and test data."
      ]
    },
    {
      "cell_type": "code",
      "execution_count": null,
      "id": "6ff97269-1645-400b-872e-a75c1f238aed",
      "metadata": {
        "id": "6ff97269-1645-400b-872e-a75c1f238aed"
      },
      "outputs": [],
      "source": [
        "# imports\n",
        "import numpy as np\n",
        "import pandas as pd\n",
        "\n",
        "from sklearn.model_selection import train_test_split, cross_validate, StratifiedKFold, RepeatedStratifiedKFold\n",
        "\n",
        "from sklearn.pipeline import make_pipeline\n",
        "\n",
        "from sklearn.impute import SimpleImputer\n",
        "from sklearn.preprocessing import StandardScaler\n",
        "\n",
        "from sklearn.linear_model import LogisticRegression\n",
        "from sklearn.ensemble import RandomForestClassifier\n",
        "from sklearn.tree import DecisionTreeClassifier\n",
        "from sklearn.svm import LinearSVC\n",
        "\n",
        "import matplotlib.pyplot as plt\n",
        "import seaborn as sns"
      ]
    },
    {
      "cell_type": "code",
      "execution_count": null,
      "id": "b1cedd0a-69f5-44aa-a4d0-7173f15ffcac",
      "metadata": {
        "id": "b1cedd0a-69f5-44aa-a4d0-7173f15ffcac"
      },
      "outputs": [],
      "source": [
        "# load data\n",
        "data_titanic = pd.read_csv(\"exercise_01_intro-to-python_titanic.csv\", index_col=\"PassengerId\")"
      ]
    },
    {
      "cell_type": "code",
      "execution_count": null,
      "id": "b18e4472-1305-475f-8652-5a4cdd84b360",
      "metadata": {
        "id": "b18e4472-1305-475f-8652-5a4cdd84b360"
      },
      "outputs": [],
      "source": [
        "def extract_features(data):\n",
        "    \"\"\"Extract features from existing variables\"\"\"\n",
        "\n",
        "    data_extract = data.copy()\n",
        "\n",
        "    # name\n",
        "    name_only = data_extract[\"Name\"].str.replace(r\"\\(.*\\)\", \"\", regex=True)\n",
        "    first_name = name_only.str.split(\", \", expand=True).iloc[:,1]\n",
        "    title = first_name.str.split(\".\", expand=True).iloc[:,0]\n",
        "    data_extract[\"Title\"] = title\n",
        "\n",
        "    # ticket\n",
        "\n",
        "    # ...\n",
        "\n",
        "    return data_extract\n",
        "\n",
        "data_extract = extract_features(data_titanic)"
      ]
    },
    {
      "cell_type": "code",
      "execution_count": null,
      "id": "604bb648-f240-46c4-8853-c0f7eeeb2a54",
      "metadata": {
        "editable": true,
        "tags": [],
        "id": "604bb648-f240-46c4-8853-c0f7eeeb2a54"
      },
      "outputs": [],
      "source": [
        "def preprocess(data):\n",
        "    \"\"\"Convert features into numeric variables readable by our models.\"\"\"\n",
        "\n",
        "    data_preprocessed = data.copy()\n",
        "\n",
        "    # Sex\n",
        "\n",
        "    data_preprocessed = pd.get_dummies(data_preprocessed, columns=[\"Sex\"], drop_first=True)\n",
        "\n",
        "    # Embarked\n",
        "\n",
        "    data_preprocessed = pd.get_dummies(data_preprocessed, columns=[\"Embarked\"], dummy_na=True)\n",
        "\n",
        "    # Title\n",
        "    title = data_preprocessed[\"Title\"]\n",
        "    title_counts = title.value_counts()\n",
        "    higher_titles = title_counts[title_counts < 50]\n",
        "    title_groups = [\"higher\" if t in higher_titles else t for t in title]\n",
        "    data_preprocessed[\"Title\"] = title_groups\n",
        "    data_preprocessed = pd.get_dummies(data_preprocessed, columns=[\"Title\"])\n",
        "\n",
        "    # drop the rest\n",
        "    data_preprocessed.drop(columns=[\"Name\", \"Cabin\", \"Ticket\"], inplace=True)\n",
        "\n",
        "    return data_preprocessed\n",
        "\n",
        "data_preprocessed = preprocess(data_extract)"
      ]
    },
    {
      "cell_type": "code",
      "execution_count": null,
      "id": "6cb56822-f110-449a-83a3-5a066dafabb0",
      "metadata": {
        "id": "6cb56822-f110-449a-83a3-5a066dafabb0"
      },
      "outputs": [],
      "source": [
        "# before inspecting the data, selecting and building models, etc.\n",
        "# FIRST split data into train and test data (we set the test data size to 30%)\n",
        "\n",
        "X = data_preprocessed.drop(columns=\"Survived\")\n",
        "y = data_preprocessed[\"Survived\"]\n",
        "\n",
        "X_train, X_test, y_train, y_test = train_test_split(X, y, test_size=0.3, stratify=y)"
      ]
    },
    {
      "cell_type": "code",
      "execution_count": null,
      "id": "24bab321-470d-469d-ad98-40f7ce13bffa",
      "metadata": {
        "editable": true,
        "tags": [],
        "id": "24bab321-470d-469d-ad98-40f7ce13bffa"
      },
      "outputs": [],
      "source": [
        "def evaluate(model, name, scoring=\"accuracy\"):\n",
        "    results = cross_validate(\n",
        "        model,\n",
        "        X_train, y_train,\n",
        "        cv=StratifiedKFold(n_splits=5),\n",
        "        scoring=scoring,\n",
        "        return_train_score=True)\n",
        "\n",
        "    results = pd.DataFrame(results)\n",
        "    results[\"model\"] = name\n",
        "\n",
        "    display(f\"Train ({scoring}): {results['train_score'].mean():.02f} +/- {results['train_score'].std():.02f}\")\n",
        "    display(f\"Test  ({scoring}): {results['test_score'].mean():.02f} +/- {results['test_score'].std():.02f}\")\n",
        "    return results"
      ]
    },
    {
      "cell_type": "code",
      "execution_count": null,
      "id": "b39f3591-f68c-4601-b5be-10e103d6bdeb",
      "metadata": {
        "id": "b39f3591-f68c-4601-b5be-10e103d6bdeb"
      },
      "outputs": [],
      "source": [
        "results = []"
      ]
    },
    {
      "cell_type": "code",
      "execution_count": null,
      "id": "907bc752-5ec0-4af6-96de-ed65b8b7241c",
      "metadata": {
        "editable": true,
        "scrolled": true,
        "tags": [],
        "id": "907bc752-5ec0-4af6-96de-ed65b8b7241c",
        "outputId": "a384c22f-29e9-4430-d478-315ee25d14ca"
      },
      "outputs": [
        {
          "data": {
            "text/plain": [
              "'Train (accuracy): 0.81 +/- 0.01'"
            ]
          },
          "metadata": {},
          "output_type": "display_data"
        },
        {
          "data": {
            "text/plain": [
              "'Test  (accuracy): 0.80 +/- 0.03'"
            ]
          },
          "metadata": {},
          "output_type": "display_data"
        }
      ],
      "source": [
        "imputer = SimpleImputer(strategy=\"median\")\n",
        "scaler = StandardScaler()\n",
        "model_lr = LogisticRegression()\n",
        "\n",
        "pipeline_lr = make_pipeline(imputer, scaler, model_lr)\n",
        "results_lr = evaluate(pipeline_lr, \"logistic regression\")\n",
        "results.append(results_lr)"
      ]
    },
    {
      "cell_type": "code",
      "execution_count": null,
      "id": "1cc91a15-0e4c-4caa-a313-2e3eca9b0182",
      "metadata": {
        "editable": true,
        "scrolled": true,
        "tags": [],
        "id": "1cc91a15-0e4c-4caa-a313-2e3eca9b0182",
        "outputId": "b03e21d1-b170-4c2d-9a63-bc5e4159194b"
      },
      "outputs": [
        {
          "data": {
            "text/plain": [
              "'Train (accuracy): 0.81 +/- 0.01'"
            ]
          },
          "metadata": {},
          "output_type": "display_data"
        },
        {
          "data": {
            "text/plain": [
              "'Test  (accuracy): 0.80 +/- 0.03'"
            ]
          },
          "metadata": {},
          "output_type": "display_data"
        }
      ],
      "source": [
        "imputer = SimpleImputer(strategy=\"median\")\n",
        "model_tree = DecisionTreeClassifier(max_depth=3)\n",
        "\n",
        "pipeline_tree = make_pipeline(imputer, model_tree)\n",
        "results_dt = evaluate(pipeline_tree, \"decision tree\")\n",
        "results.append(results_dt)"
      ]
    },
    {
      "cell_type": "code",
      "execution_count": null,
      "id": "e0248b39-ad06-4871-b96e-7f3ebeb9b432",
      "metadata": {
        "tags": [],
        "id": "e0248b39-ad06-4871-b96e-7f3ebeb9b432"
      },
      "outputs": [],
      "source": [
        "# # another model\n",
        "# imputer = SimpleImputer(strategy=\"median\")\n",
        "# model_svm = SVC()\n",
        "\n",
        "# pipeline_svm = make_pipeline(imputer, model_svm)\n",
        "# results_svm = evaluate(pipeline_svm, \"svm\")\n",
        "# results.append(results_svm)"
      ]
    },
    {
      "cell_type": "code",
      "execution_count": null,
      "id": "d6afd32b-8059-408e-ba41-8b522f4e3371",
      "metadata": {
        "tags": [],
        "id": "d6afd32b-8059-408e-ba41-8b522f4e3371",
        "outputId": "3cf6b041-269a-41dc-da83-5ef01ce045d6"
      },
      "outputs": [
        {
          "data": {
            "text/plain": [
              "<Axes: xlabel='model', ylabel='test_score'>"
            ]
          },
          "execution_count": 20,
          "metadata": {},
          "output_type": "execute_result"
        },
        {
          "data": {
            "image/png": "[encoded data removed]",
            "text/plain": [
              "<Figure size 1200x600 with 2 Axes>"
            ]
          },
          "metadata": {},
          "output_type": "display_data"
        }
      ],
      "source": [
        "results_df = pd.concat(results)\n",
        "\n",
        "fig, axes = plt.subplots(1, 2, figsize=(2 * 6, 6))\n",
        "ax = axes[0]\n",
        "sns.boxplot(data=results_df, x=\"model\", y=\"test_score\", ax=ax)\n",
        "ax = axes[1]\n",
        "sns.violinplot(data=results_df, x=\"model\", y=\"test_score\", ax=ax)"
      ]
    },
    {
      "cell_type": "code",
      "execution_count": null,
      "id": "a8d95bdf-7b73-4745-8554-8d3d82468339",
      "metadata": {
        "id": "a8d95bdf-7b73-4745-8554-8d3d82468339"
      },
      "outputs": [],
      "source": [
        "# compare\n",
        "from scipy.stats import ranksums\n",
        "\n",
        "test_score_lr = results_df.loc[results_df[\"model\"] == \"logistic regression\", \"test_score\"]\n",
        "test_score_dt = results_df.loc[results_df[\"model\"] == \"decision tree\", \"test_score\"]\n",
        "\n",
        "# ..."
      ]
    },
    {
      "cell_type": "markdown",
      "id": "f54f8904-63e8-4bd7-904e-d2e3ec175925",
      "metadata": {
        "id": "f54f8904-63e8-4bd7-904e-d2e3ec175925"
      },
      "source": [
        "## Model introspection"
      ]
    },
    {
      "cell_type": "markdown",
      "id": "c1aab762-46b1-4180-a93e-1c61bb0779d8",
      "metadata": {
        "editable": true,
        "tags": [],
        "id": "c1aab762-46b1-4180-a93e-1c61bb0779d8"
      },
      "source": [
        "The following code plots feature importances for a linear model.\n",
        "\n",
        "1) Try different data splits. What do you observe?\n",
        "1) Try adding and removing individual features. What do you observe?\n",
        "1) Try scaling individual features. What do you observe?\n",
        "1) Are the features that are considered important according to a model the only possibly important features to make predictions?"
      ]
    },
    {
      "cell_type": "code",
      "execution_count": null,
      "id": "72692930-8445-421c-8390-6238d0221d9c",
      "metadata": {
        "editable": true,
        "tags": [],
        "id": "72692930-8445-421c-8390-6238d0221d9c"
      },
      "outputs": [],
      "source": [
        "# before inspecting the data, selecting and building models, etc.\n",
        "# FIRST split data into train and test data (we set the test data size to 30%)\n",
        "\n",
        "X = data_preprocessed.drop(columns=\"Survived\")\n",
        "y = data_preprocessed[\"Survived\"]\n",
        "\n",
        "X_train, X_test, y_train, y_test = train_test_split(X, y, test_size=0.3, stratify=y)"
      ]
    },
    {
      "cell_type": "code",
      "execution_count": null,
      "id": "0a85bc5d-d863-40db-b962-e741cc5a6973",
      "metadata": {
        "editable": true,
        "tags": [],
        "id": "0a85bc5d-d863-40db-b962-e741cc5a6973"
      },
      "outputs": [],
      "source": [
        "imputer = SimpleImputer(strategy=\"mean\")\n",
        "scaler = StandardScaler()\n",
        "preprocessing_pipeline = make_pipeline(scaler, imputer)\n",
        "\n",
        "\n",
        "X_train_example = X_train.copy()\n",
        "\n",
        "# TODO: drop features here\n",
        "# ...\n",
        "\n",
        "X_train_processed = preprocessing_pipeline.fit_transform(X_train_example)\n",
        "\n",
        "# TODO: change `X_train_processed` for example here\n",
        "# ...\n",
        "\n",
        "# set model\n",
        "model = LogisticRegression()\n",
        "\n",
        "# fit for coefficient extraction\n",
        "model.fit(X_train_processed, y_train)\n",
        "feature_weights = model.coef_.flatten()"
      ]
    },
    {
      "cell_type": "code",
      "execution_count": null,
      "id": "506f9c9a-1cf7-42da-ba33-697f04ec4183",
      "metadata": {
        "editable": true,
        "tags": [],
        "id": "506f9c9a-1cf7-42da-ba33-697f04ec4183",
        "outputId": "a5985936-01ef-408b-ff6b-cca9a7b8cce3"
      },
      "outputs": [
        {
          "data": {
            "image/png": "[encoded data removed]",
            "text/plain": [
              "<Figure size 1200x600 with 1 Axes>"
            ]
          },
          "metadata": {},
          "output_type": "display_data"
        }
      ],
      "source": [
        "# plot feature importances\n",
        "fig, ax = plt.subplots(1, 1, figsize=(6 * 2, 6), sharey=True)\n",
        "sns.barplot(x=X_train_example.columns, y=feature_weights, ax=ax)\n",
        "ax.set_xticklabels(ax.get_xticklabels(), rotation=270)\n",
        "plt.show()"
      ]
    },
    {
      "cell_type": "code",
      "execution_count": null,
      "id": "c621d494-c767-489c-ba6f-2512e84be3fd",
      "metadata": {
        "editable": true,
        "tags": [],
        "id": "c621d494-c767-489c-ba6f-2512e84be3fd"
      },
      "outputs": [],
      "source": []
    }
  ],
  "metadata": {
    "kernelspec": {
      "display_name": "Python 3 (ipykernel)",
      "language": "python",
      "name": "python3"
    },
    "language_info": {
      "codemirror_mode": {
        "name": "ipython",
        "version": 3
      },
      "file_extension": ".py",
      "mimetype": "text/x-python",
      "name": "python",
      "nbconvert_exporter": "python",
      "pygments_lexer": "ipython3",
      "version": "3.11.5"
    },
    "toc-autonumbering": true,
    "colab": {
      "provenance": []
    }
  },
  "nbformat": 4,
  "nbformat_minor": 5
}