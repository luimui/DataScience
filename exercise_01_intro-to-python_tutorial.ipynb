{
 "cells": [
  {
   "cell_type": "markdown",
   "id": "d2019575-8123-44a0-8cda-6ef7187e1ae1",
   "metadata": {},
   "source": [
    "# Tutorial 1: Introduction to Python and Jupyter Lab"
   ]
  },
  {
   "cell_type": "markdown",
   "metadata": {},
   "source": [
    "## Install Jupyter Lab using Anaconda"
   ]
  },
  {
   "cell_type": "markdown",
   "metadata": {},
   "source": [
    "1) Install [Anaconda](https://www.anaconda.com/products/distribution) (or [miniconda](https://docs.conda.io/en/latest/miniconda.html) or [mamba](https://mamba.readthedocs.io/en/latest/installation.html) if you know what you are doing)\n",
    "2) [Install](https://jupyterlab.readthedocs.io/en/stable/getting_started/installation.html) and [run](https://jupyterlab.readthedocs.io/en/stable/getting_started/starting.html) JupyterLab\n",
    "\n",
    "**Alternatively** you can upload these tutorials to [Google Colab](https://colab.research.google.com/) (no installation required)."
   ]
  },
  {
   "cell_type": "markdown",
   "id": "a6cd7d6a-6923-4ce1-a016-af469db1b2df",
   "metadata": {},
   "source": [
    "## Variables and data types"
   ]
  },
  {
   "cell_type": "markdown",
   "id": "5c091f7d-236e-4cd8-84a9-c41c0e0e22d7",
   "metadata": {},
   "source": [
    "Execute the cell with `Shift+Enter` or `Ctrl+Enter`:\n",
    "\n",
    "Click on the left of a cell to get into the \"blue\" mode then you can press:\n",
    "* a -> new cell above the current cell\n",
    "* b -> new cell below the current cell\n",
    "* x -> delete the current cell\n",
    "\n",
    "Click within a cell to get into the \"green\" mode (edit mode). Now you can write code here.\n"
   ]
  },
  {
   "cell_type": "code",
   "execution_count": 1,
   "id": "b4cc5dbf-8b0f-4e21-a7a9-816d3eea4772",
   "metadata": {},
   "outputs": [
    {
     "name": "stdout",
     "output_type": "stream",
     "text": [
      "Hello\n",
      "World\n"
     ]
    }
   ],
   "source": [
    "# print statements give out information\n",
    "print (\"Hello\")\n",
    "print (\"World\")\n"
   ]
  },
  {
   "cell_type": "code",
   "execution_count": 2,
   "id": "952d46a2-8def-4462-ab07-c44d9cc79e36",
   "metadata": {},
   "outputs": [
    {
     "name": "stdout",
     "output_type": "stream",
     "text": [
      "Hello!\n",
      "Hello World\n",
      "7\n"
     ]
    }
   ],
   "source": [
    "x = \"Hello!\"\n",
    "print(x)\n",
    "\n",
    "y = \"Hello\"\n",
    "x = \" World\"\n",
    "print (y + x)\n",
    "\n",
    "x = 5\n",
    "y = 2\n",
    "print (x + y)"
   ]
  },
  {
   "cell_type": "code",
   "execution_count": 3,
   "id": "96a8d86f-2df8-4bde-9506-04950ab8ac18",
   "metadata": {},
   "outputs": [
    {
     "data": {
      "text/plain": [
       "5"
      ]
     },
     "execution_count": 3,
     "metadata": {},
     "output_type": "execute_result"
    }
   ],
   "source": [
    "x"
   ]
  },
  {
   "cell_type": "code",
   "execution_count": 4,
   "id": "cfdf350e-f2cd-426d-bbc2-7cdfd6c38fd0",
   "metadata": {},
   "outputs": [
    {
     "name": "stdout",
     "output_type": "stream",
     "text": [
      "9\n",
      "False\n"
     ]
    }
   ],
   "source": [
    "print (4+5)\n",
    "print (x == 10)"
   ]
  },
  {
   "cell_type": "code",
   "execution_count": 6,
   "id": "48a8498d-bf3b-4f84-8e06-757c000cb2f4",
   "metadata": {},
   "outputs": [
    {
     "name": "stdout",
     "output_type": "stream",
     "text": [
      "HelloWorld\n"
     ]
    }
   ],
   "source": [
    "x = \"Hello\"\n",
    "y = \"World\"\n",
    "print (x + y)"
   ]
  },
  {
   "cell_type": "code",
   "execution_count": 14,
   "id": "bfc9947b-dd02-4c9a-b0bc-4f4d173e386f",
   "metadata": {},
   "outputs": [
    {
     "name": "stdout",
     "output_type": "stream",
     "text": [
      "hello\n",
      "5\n"
     ]
    }
   ],
   "source": [
    "#Python is dynamically typed, types can change:\n",
    "x = \"hello\"\n",
    "print (x)\n",
    "x = 5\n",
    "print (x)"
   ]
  },
  {
   "cell_type": "code",
   "execution_count": 15,
   "id": "0dcafa28-2ff6-4abf-b9f9-9fa99e9affe8",
   "metadata": {
    "scrolled": true
   },
   "outputs": [
    {
     "name": "stdout",
     "output_type": "stream",
     "text": [
      "<class 'int'>\n",
      "<class 'float'>\n",
      "<class 'str'>\n",
      "<class 'bool'>\n"
     ]
    }
   ],
   "source": [
    "#main data types:\n",
    "x = 5\n",
    "print(type(x))\n",
    "\n",
    "x = 5.0\n",
    "print(type(x))\n",
    "\n",
    "x = \"5\"\n",
    "print(type(x))\n",
    "\n",
    "x = True\n",
    "print(type(x))"
   ]
  },
  {
   "cell_type": "code",
   "execution_count": 7,
   "id": "4da213b3-98ea-4d78-b55a-9928dc29d7f8",
   "metadata": {},
   "outputs": [
    {
     "ename": "TypeError",
     "evalue": "can only concatenate str (not \"int\") to str",
     "output_type": "error",
     "traceback": [
      "\u001b[1;31m---------------------------------------------------------------------------\u001b[0m",
      "\u001b[1;31mTypeError\u001b[0m                                 Traceback (most recent call last)",
      "\u001b[1;32m<ipython-input-7-bca780087fd5>\u001b[0m in \u001b[0;36m<module>\u001b[1;34m\u001b[0m\n\u001b[0;32m      2\u001b[0m \u001b[0mx\u001b[0m \u001b[1;33m=\u001b[0m \u001b[1;34m\"5\"\u001b[0m\u001b[1;33m\u001b[0m\u001b[1;33m\u001b[0m\u001b[0m\n\u001b[0;32m      3\u001b[0m \u001b[0my\u001b[0m \u001b[1;33m=\u001b[0m \u001b[1;36m2\u001b[0m\u001b[1;33m\u001b[0m\u001b[1;33m\u001b[0m\u001b[0m\n\u001b[1;32m----> 4\u001b[1;33m \u001b[0mx\u001b[0m\u001b[1;33m+\u001b[0m\u001b[0my\u001b[0m\u001b[1;33m\u001b[0m\u001b[1;33m\u001b[0m\u001b[0m\n\u001b[0m",
      "\u001b[1;31mTypeError\u001b[0m: can only concatenate str (not \"int\") to str"
     ]
    }
   ],
   "source": [
    "# Python is strongly typed\n",
    "x = \"5\"\n",
    "y = 2\n",
    "x+y"
   ]
  },
  {
   "cell_type": "code",
   "execution_count": null,
   "id": "e82b0fcb-b8d1-4de3-8538-2a90e22cafcf",
   "metadata": {},
   "outputs": [],
   "source": [
    "type(x)"
   ]
  },
  {
   "cell_type": "code",
   "execution_count": null,
   "id": "46ddddc7-b089-43a2-be0f-b47df6e95097",
   "metadata": {},
   "outputs": [],
   "source": [
    "x = \"5\"\n",
    "y = \"4\"\n",
    "int(x)+int(y)"
   ]
  },
  {
   "cell_type": "markdown",
   "id": "b779380f-e4a4-4bee-bfdd-a484e20afc34",
   "metadata": {},
   "source": [
    "## Data structures"
   ]
  },
  {
   "cell_type": "markdown",
   "id": "2225898e-63bb-4c9c-b252-54c23350e318",
   "metadata": {},
   "source": [
    "### Lists"
   ]
  },
  {
   "cell_type": "code",
   "execution_count": null,
   "id": "549c04fb-44bb-4614-a38a-562f74a2c84f",
   "metadata": {},
   "outputs": [],
   "source": [
    "#creating an empty list\n",
    "l = []"
   ]
  },
  {
   "cell_type": "code",
   "execution_count": null,
   "id": "877fda3a-3157-4456-8ee4-8f4bbdd1f850",
   "metadata": {},
   "outputs": [],
   "source": [
    "# adding elements to the list\n",
    "l.append (2)\n",
    "l.append (5)\n",
    "l.append (10)\n",
    "l"
   ]
  },
  {
   "cell_type": "code",
   "execution_count": null,
   "id": "bbedd15a-4319-467a-92b9-0a96734ffcb4",
   "metadata": {},
   "outputs": [],
   "source": [
    "l[1]"
   ]
  },
  {
   "cell_type": "code",
   "execution_count": null,
   "id": "deba134a-f62a-4d32-98e6-b4bbed0b3b45",
   "metadata": {},
   "outputs": [],
   "source": [
    "# accessing an element\n",
    "l[-1]\n"
   ]
  },
  {
   "cell_type": "code",
   "execution_count": null,
   "id": "813ad902-4a09-4286-8e6c-3e1b484d6371",
   "metadata": {},
   "outputs": [],
   "source": [
    "l [:-1]"
   ]
  },
  {
   "cell_type": "code",
   "execution_count": null,
   "id": "db679fa3-5743-4fb3-91f7-25a7375a42fe",
   "metadata": {},
   "outputs": [],
   "source": [
    "#setting an element \n",
    "l[2] = 7.3\n",
    "l"
   ]
  },
  {
   "cell_type": "code",
   "execution_count": null,
   "id": "8f4e4a0d-990c-41bd-8f97-fa802d80e8dd",
   "metadata": {},
   "outputs": [],
   "source": [
    "#the length of a list:\n",
    "len (l)"
   ]
  },
  {
   "cell_type": "code",
   "execution_count": null,
   "id": "a7d14f55-b396-4e8e-af90-160cd30679ee",
   "metadata": {},
   "outputs": [],
   "source": [
    "# We can also directly specify lists:\n",
    "# a list with integer objects\n",
    "list_2 = [3,5,7,9]\n",
    "\n",
    "# a list of strings\n",
    "list_3 = ['Monday','Tuesday','Wednesday','Thursday','Friday','Saturday','Sunday']\n",
    "\n",
    "# a list of mixed types\n",
    "list_4 = [2, 5, \"Elephant\", 6, 8.2, True]"
   ]
  },
  {
   "cell_type": "code",
   "execution_count": null,
   "id": "4e7671b9-26e1-439b-a513-50ff7fcba945",
   "metadata": {},
   "outputs": [],
   "source": [
    "# we can also do lists of lists!\n",
    "lol = [[1,2,3], [\"a\",\"b\",\"c\"], [1.2,2.3,4.5,6.7,8.9]]"
   ]
  },
  {
   "cell_type": "code",
   "execution_count": null,
   "id": "115b698a-cdec-4356-8d37-9b713b55a55b",
   "metadata": {
    "scrolled": true
   },
   "outputs": [],
   "source": [
    "#the length of a list:\n",
    "len (lol)"
   ]
  },
  {
   "cell_type": "markdown",
   "id": "59e00b9e-4fa1-455a-87d8-7ccdfab1457c",
   "metadata": {},
   "source": [
    "### Tuples"
   ]
  },
  {
   "cell_type": "markdown",
   "id": "fd93770c-ad9b-4a02-9d8f-f6acbe719ec4",
   "metadata": {},
   "source": [
    "Tuples are just the same as lists, but are *immutable*."
   ]
  },
  {
   "cell_type": "code",
   "execution_count": null,
   "id": "9bdad6c6-ac9f-4839-9ddf-21f466e42f25",
   "metadata": {},
   "outputs": [],
   "source": [
    "t = (1,2,3)"
   ]
  },
  {
   "cell_type": "code",
   "execution_count": null,
   "id": "a81cbb80-5958-4000-9ba8-7e49056a0c61",
   "metadata": {},
   "outputs": [],
   "source": [
    "t[1]"
   ]
  },
  {
   "cell_type": "code",
   "execution_count": null,
   "id": "411c577a-11d5-4fb3-b543-af17a022e359",
   "metadata": {},
   "outputs": [],
   "source": [
    "t[1] = 5"
   ]
  },
  {
   "cell_type": "markdown",
   "id": "72e0e9ea-31ed-4a10-b1eb-371d6824e441",
   "metadata": {},
   "source": [
    "### Sets"
   ]
  },
  {
   "cell_type": "markdown",
   "id": "5df5ffd0-e975-4b7c-85bd-d6f96120f08b",
   "metadata": {},
   "source": [
    "Sets are similar collections, but have no order and can contain each element only once"
   ]
  },
  {
   "cell_type": "code",
   "execution_count": null,
   "id": "3c38c8e1-338e-44d1-97d0-fb14ab426bed",
   "metadata": {},
   "outputs": [],
   "source": [
    "s = set()\n",
    "s.add(50)\n",
    "s.add(20)\n",
    "s.add(10)\n",
    "s.add(20)\n",
    "s"
   ]
  },
  {
   "cell_type": "code",
   "execution_count": null,
   "id": "4aeed4dc-06a4-4100-95c6-32afd5d8186e",
   "metadata": {},
   "outputs": [],
   "source": []
  },
  {
   "cell_type": "code",
   "execution_count": null,
   "id": "3a09237e-1003-41c3-b2bd-d9ae83c7b0a9",
   "metadata": {},
   "outputs": [],
   "source": [
    "l = [2,3,4,5,6,2,3,4,5,2]"
   ]
  },
  {
   "cell_type": "code",
   "execution_count": null,
   "id": "f7f693ef-f154-4a72-a314-5ffb0d886b39",
   "metadata": {},
   "outputs": [],
   "source": [
    "s = set()\n",
    "for x in l:\n",
    "    s.add(x)\n",
    "s"
   ]
  },
  {
   "cell_type": "code",
   "execution_count": null,
   "id": "506c9e67-97e1-4fa3-9eee-68237b1b4cdb",
   "metadata": {},
   "outputs": [],
   "source": [
    "list (set(l))"
   ]
  },
  {
   "cell_type": "markdown",
   "id": "9102d0c8-07ed-48c1-9f7f-8959090d4660",
   "metadata": {},
   "source": [
    "### Dictionaries"
   ]
  },
  {
   "cell_type": "markdown",
   "id": "d2a7d5b6-41e0-459b-98c7-fb0c051e3691",
   "metadata": {},
   "source": [
    " Python’s built-in mapping type. They map keys, which can be any immutable(unchanchable) type, to values, which can be any type"
   ]
  },
  {
   "cell_type": "code",
   "execution_count": null,
   "id": "28a44eb0-855d-407a-a1d8-48afddeae7b4",
   "metadata": {},
   "outputs": [],
   "source": [
    "d = dict()\n",
    "d = {}"
   ]
  },
  {
   "cell_type": "code",
   "execution_count": null,
   "id": "bc5b1bf2-9724-4bb3-baf6-0e7122aa71d8",
   "metadata": {},
   "outputs": [],
   "source": [
    "presidents_inauguration = {}\n",
    "presidents_inauguration ['Trump'] = 2017 \n",
    "presidents_inauguration['Obama'] = 2009\n",
    "presidents_inauguration['Bush'] = 2001\n",
    "print(presidents_inauguration)"
   ]
  },
  {
   "cell_type": "code",
   "execution_count": null,
   "id": "678d2172-f76e-4fcb-8342-3508d77569cd",
   "metadata": {},
   "outputs": [],
   "source": [
    "# or, shorter:\n",
    "presidents_inauguration = {'Trump': 2017, \n",
    "                           'Obama': 2009, \n",
    "                           'Bush': 2001}"
   ]
  },
  {
   "cell_type": "code",
   "execution_count": null,
   "id": "9d09bdcc-d7e7-4e26-97e9-f05434e92d88",
   "metadata": {},
   "outputs": [],
   "source": [
    "presidents_inauguration [\"Trump\"]"
   ]
  },
  {
   "cell_type": "code",
   "execution_count": null,
   "id": "fa358034-10af-4a85-9b85-5879c0a1272e",
   "metadata": {},
   "outputs": [],
   "source": [
    "print (presidents_inauguration.keys())\n",
    "print (presidents_inauguration.values())"
   ]
  },
  {
   "cell_type": "code",
   "execution_count": null,
   "id": "9d77ea93-d49e-44f6-94c8-ac61046d8fba",
   "metadata": {},
   "outputs": [],
   "source": [
    "len (presidents_inauguration)"
   ]
  },
  {
   "cell_type": "markdown",
   "id": "f1f39058-35c8-43de-a49e-d90b9a7b83af",
   "metadata": {},
   "source": [
    "## Control statements"
   ]
  },
  {
   "cell_type": "markdown",
   "id": "65deb43a-d11f-461a-8712-5a91baff68ba",
   "metadata": {},
   "source": [
    "control flow in Python noticeable does not use ANY (,),[,],{,},...\n",
    "Instead *indendation* determines what belongs to block of commands"
   ]
  },
  {
   "cell_type": "markdown",
   "id": "003b4901-ccc1-4625-987f-9cbd01c39e74",
   "metadata": {},
   "source": [
    "### If-elif-else"
   ]
  },
  {
   "cell_type": "code",
   "execution_count": null,
   "id": "2fa15d8c-ac9f-4046-8d9a-771b21d08d10",
   "metadata": {},
   "outputs": [],
   "source": [
    "x = 10\n",
    "if x > 5:\n",
    "    print ('This is a big number!')\n"
   ]
  },
  {
   "cell_type": "code",
   "execution_count": null,
   "id": "7c3b12e6-469e-46f8-b94d-8a48bed8ac2f",
   "metadata": {},
   "outputs": [],
   "source": [
    "#Note the difference\n",
    "x = 0\n",
    "y = 0\n",
    "if x > 5:\n",
    "    x = x + 1\n",
    "    y = y + 1\n",
    "print (y)\n",
    "\n",
    "x = 0\n",
    "y = 0\n",
    "if x > 5:\n",
    "    x = x + 1\n",
    "y = y + 1\n",
    "print (y)"
   ]
  },
  {
   "cell_type": "code",
   "execution_count": null,
   "id": "47dc770d-56ab-40a4-b66e-4f3062bfe559",
   "metadata": {},
   "outputs": [],
   "source": []
  },
  {
   "cell_type": "code",
   "execution_count": null,
   "id": "89df0e0d-fe22-4a31-b8b6-7b0467bf3c04",
   "metadata": {},
   "outputs": [],
   "source": [
    "x = 15\n",
    "if x > 20:\n",
    "    print ('This is a very big number!')\n",
    "elif x > 10:\n",
    "    print ('This is a big number!')\n",
    "else:\n",
    "    print ('this is a small number!')"
   ]
  },
  {
   "cell_type": "code",
   "execution_count": null,
   "id": "9f3c0a67-2b40-4476-aae3-5d1ebecfef40",
   "metadata": {},
   "outputs": [],
   "source": [
    "x = 10\n",
    "command = 'increment'\n",
    "if command =='increment':\n",
    "    x = x + 1\n",
    "print (x)"
   ]
  },
  {
   "cell_type": "markdown",
   "id": "d8e00260-214d-4fd7-bed3-44206ab28844",
   "metadata": {},
   "source": [
    "### Loops"
   ]
  },
  {
   "cell_type": "code",
   "execution_count": null,
   "id": "80b7bf8f-a602-434f-957b-69995dbc87b8",
   "metadata": {},
   "outputs": [],
   "source": [
    "first_names = ['John', 'Paul', 'George', 'Ringo']\n",
    "for name in first_names:\n",
    "    print(\"Hello \" + name + \"!\")"
   ]
  },
  {
   "cell_type": "markdown",
   "id": "ab3cfe7f-e6e2-49e9-becb-3c1f55a3168f",
   "metadata": {},
   "source": [
    "Contrary to many other programming languages there is no built-in for... counting loop.\n",
    "However, you can use the range function:\n"
   ]
  },
  {
   "cell_type": "code",
   "execution_count": null,
   "id": "0cfc0bb8-8013-4ecd-ba30-321ecbd63a25",
   "metadata": {},
   "outputs": [],
   "source": [
    "list (range(10,20,3))"
   ]
  },
  {
   "cell_type": "code",
   "execution_count": null,
   "id": "814485f2-a38e-4560-81d6-f95a7f1391cc",
   "metadata": {},
   "outputs": [],
   "source": [
    "for i in range (10):\n",
    "    print (i)"
   ]
  },
  {
   "cell_type": "code",
   "execution_count": null,
   "id": "299fb26a-71c6-4fbb-a622-5a034905422d",
   "metadata": {},
   "outputs": [],
   "source": [
    "# enumerate is a useful convenience functions:\n",
    "for index, name in enumerate (first_names):\n",
    "    print(\"Name \"+ str(index) + \": \" + name)"
   ]
  },
  {
   "cell_type": "code",
   "execution_count": null,
   "id": "397e0782-b035-4928-b0d4-9ddbf0abe883",
   "metadata": {},
   "outputs": [],
   "source": [
    "# We can loop over any iterable, e.g., also on strings\n",
    "x = \"example\"\n",
    "for letter in x:\n",
    "    print (letter)"
   ]
  },
  {
   "cell_type": "code",
   "execution_count": null,
   "id": "e18674ff-bbf8-491f-bdce-27c8bd3e63e1",
   "metadata": {},
   "outputs": [],
   "source": [
    "# As a simple example, lets create a dictionary, which maps each string in a list to its name:\n",
    "name_lengths = {}\n",
    "for name in first_names:\n",
    "    name_lengths [name] = len (name)\n",
    "name_lengths"
   ]
  },
  {
   "cell_type": "code",
   "execution_count": null,
   "id": "a65a2b03-72e4-4bf0-b0f3-bd9398fdba8d",
   "metadata": {},
   "outputs": [],
   "source": [
    "# while loops functions very similar to many popular languages:\n",
    "x = 1\n",
    "while True:\n",
    "    x = x * 2\n",
    "    if x >= 100:\n",
    "        break\n",
    "    print(x)\n",
    "    "
   ]
  },
  {
   "cell_type": "markdown",
   "id": "4616d0de-36fc-4534-95e3-c0529153e4fa",
   "metadata": {},
   "source": [
    "## Functions"
   ]
  },
  {
   "cell_type": "markdown",
   "id": "8ebc056b-e846-48e8-8a8e-1e956e464b83",
   "metadata": {},
   "source": [
    "Defining your own functions is easy:"
   ]
  },
  {
   "cell_type": "code",
   "execution_count": null,
   "id": "e3304f6a-22c0-4ed8-b8ab-b44796f5dbee",
   "metadata": {},
   "outputs": [],
   "source": [
    "l = [1,2,3,4,5324,2,5,2,3,65,2]\n",
    "len(l)"
   ]
  },
  {
   "cell_type": "code",
   "execution_count": null,
   "id": "11cad21e-79b3-4ff3-bcad-6dd6b3877428",
   "metadata": {},
   "outputs": [],
   "source": [
    "def print_all_names(names):\n",
    "    for x in names:\n",
    "        print (x)"
   ]
  },
  {
   "cell_type": "code",
   "execution_count": null,
   "id": "c479e1e6-df5a-46ed-b23f-08a67fa096c4",
   "metadata": {},
   "outputs": [],
   "source": [
    "print_all_names(l)"
   ]
  },
  {
   "cell_type": "code",
   "execution_count": null,
   "id": "f3e78456-b758-4604-8978-b571dc552e78",
   "metadata": {},
   "outputs": [],
   "source": [
    "def increment_function(x):\n",
    "    x = x + 1\n",
    "    return x"
   ]
  },
  {
   "cell_type": "code",
   "execution_count": null,
   "id": "fb8fbad5-b895-47c2-8192-3196e4d96eac",
   "metadata": {},
   "outputs": [],
   "source": [
    "increment_function(5)"
   ]
  },
  {
   "cell_type": "code",
   "execution_count": 8,
   "id": "396a47dc-a089-4f33-bede-c61a958a53a5",
   "metadata": {},
   "outputs": [
    {
     "name": "stdout",
     "output_type": "stream",
     "text": [
      "3.0\n",
      "4.0\n"
     ]
    }
   ],
   "source": [
    "# You can call a function using its parameters names\n",
    "def my_division (nominator,denominator):\n",
    "    return nominator / denominator\n",
    "\n",
    "print (my_division(12,4))\n",
    "# you can call function parameters by name!\n",
    "print (my_division(denominator=4, nominator=16))"
   ]
  },
  {
   "cell_type": "code",
   "execution_count": 9,
   "id": "d8a84f55-a041-4b00-8795-317cbdcf259c",
   "metadata": {},
   "outputs": [
    {
     "name": "stdout",
     "output_type": "stream",
     "text": [
      "4.0\n"
     ]
    }
   ],
   "source": [
    "# You can also specify default parameters for a function\n",
    "def my_division (nominator,denominator = 2):\n",
    "    return nominator / denominator\n",
    "\n",
    "print (my_division(12,3))"
   ]
  },
  {
   "cell_type": "code",
   "execution_count": 10,
   "id": "732c17c6-93aa-4e74-b1da-7ec051e4b983",
   "metadata": {},
   "outputs": [
    {
     "data": {
      "text/plain": [
       "5"
      ]
     },
     "execution_count": 10,
     "metadata": {},
     "output_type": "execute_result"
    }
   ],
   "source": [
    "# n\n",
    "y = 5\n",
    "x = 2\n",
    "def increment_value (x):\n",
    "    y = x + 1\n",
    "    return y\n",
    "increment_value(3)\n",
    "y"
   ]
  },
  {
   "cell_type": "markdown",
   "id": "d8d81dd8-b1c2-4400-a304-cba0e650c4e0",
   "metadata": {},
   "source": [
    "## Imports"
   ]
  },
  {
   "cell_type": "markdown",
   "id": "30088dbf-6544-4929-a3ed-a7d609183606",
   "metadata": {},
   "source": [
    "Python has a lot of built-in packages you can use, or you can download and install more packages from the internet.\n",
    "Using such packages is easy:"
   ]
  },
  {
   "cell_type": "code",
   "execution_count": null,
   "id": "4ccaa5f4-fec9-49ff-bca4-9ef54da2499d",
   "metadata": {},
   "outputs": [],
   "source": [
    "import statistics\n",
    "\n",
    "statistics.mean([3,5,7,9])"
   ]
  },
  {
   "cell_type": "code",
   "execution_count": null,
   "id": "4e13047e-8f45-48ee-a6d6-45423425b3bf",
   "metadata": {},
   "outputs": [],
   "source": [
    "# you can also import just single functions from a package\n",
    "from math import log\n",
    "log (2.71 * 2.72)"
   ]
  },
  {
   "cell_type": "markdown",
   "id": "aee9845d-1927-47c7-b612-29de984bbe0d",
   "metadata": {},
   "source": [
    "## List Comprehension"
   ]
  },
  {
   "cell_type": "code",
   "execution_count": null,
   "id": "ad23bb7c-9533-4dd1-8012-2d0bbd6e9d8d",
   "metadata": {},
   "outputs": [],
   "source": [
    "my_list = [2,6,5,4,66,9,100,55,4,6,4,2]\n",
    "\n",
    "l2 = [2*x for x in my_list]\n",
    "l2"
   ]
  },
  {
   "cell_type": "code",
   "execution_count": null,
   "id": "55372d83-ee48-4723-b343-9db96dcbb1ec",
   "metadata": {},
   "outputs": [],
   "source": [
    "l3 = []\n",
    "for x in my_list:\n",
    "    l3.append(2*x)\n",
    "l3"
   ]
  },
  {
   "cell_type": "code",
   "execution_count": null,
   "id": "4864d14b-a1bc-4a4b-b1e6-d559bb10844b",
   "metadata": {},
   "outputs": [],
   "source": [
    "my_list = [2,6,5,4,66,9,100,55,4,6,4,2]\n",
    "\n",
    "new_list = [len(str(x)) for x in my_list if x > 20]\n",
    "new_list"
   ]
  },
  {
   "cell_type": "code",
   "execution_count": null,
   "id": "1d7ae40d-5738-4f6d-a266-fabc0e52f646",
   "metadata": {},
   "outputs": [],
   "source": [
    "nl = []\n",
    "for x in my_list:\n",
    "    if x > 20:\n",
    "        nl.append(x*2)\n",
    "nl"
   ]
  },
  {
   "cell_type": "markdown",
   "id": "a6ddc8f3-1091-432d-915a-b66650d0b048",
   "metadata": {},
   "source": [
    "## numpy\n"
   ]
  },
  {
   "cell_type": "code",
   "execution_count": 10,
   "id": "fa149be0-0002-44fd-8f6a-edf6fbb8e83b",
   "metadata": {},
   "outputs": [
    {
     "data": {
      "text/plain": [
       "array([ 4,  8, 12])"
      ]
     },
     "execution_count": 10,
     "metadata": {},
     "output_type": "execute_result"
    }
   ],
   "source": [
    "import numpy as np\n",
    "\n",
    "x = np.array([1,2,3])\n",
    "x * 4"
   ]
  },
  {
   "cell_type": "code",
   "execution_count": 11,
   "id": "a2b99167-426b-4ddc-ab69-aabdafb5ea16",
   "metadata": {},
   "outputs": [
    {
     "data": {
      "text/plain": [
       "array([[1, 2, 3],\n",
       "       [4, 5, 6],\n",
       "       [7, 8, 9]])"
      ]
     },
     "execution_count": 11,
     "metadata": {},
     "output_type": "execute_result"
    }
   ],
   "source": [
    "m = np.array([[1,2,3],[4,5,6],[7,8,9]])\n",
    "m"
   ]
  },
  {
   "cell_type": "code",
   "execution_count": 12,
   "id": "e933606f-8f93-4c97-8686-f39516ed5586",
   "metadata": {},
   "outputs": [
    {
     "data": {
      "text/plain": [
       "array([[ 2,  4,  6],\n",
       "       [ 8, 10, 12],\n",
       "       [14, 16, 18]])"
      ]
     },
     "execution_count": 12,
     "metadata": {},
     "output_type": "execute_result"
    }
   ],
   "source": [
    "m * 2"
   ]
  },
  {
   "cell_type": "code",
   "execution_count": 13,
   "id": "ee61e399-cddc-4100-9178-d0fd2a07ad6e",
   "metadata": {},
   "outputs": [
    {
     "data": {
      "text/plain": [
       "array([14, 32, 50])"
      ]
     },
     "execution_count": 13,
     "metadata": {},
     "output_type": "execute_result"
    }
   ],
   "source": [
    "m.dot(x)"
   ]
  },
  {
   "cell_type": "code",
   "execution_count": 14,
   "id": "308de19e-6033-4dbf-9cb3-30ecb54197a6",
   "metadata": {},
   "outputs": [
    {
     "data": {
      "text/plain": [
       "6"
      ]
     },
     "execution_count": 14,
     "metadata": {},
     "output_type": "execute_result"
    }
   ],
   "source": [
    "m[1,2]"
   ]
  }
 ],
 "metadata": {
  "kernelspec": {
   "display_name": "nalab-telomeres",
   "language": "python",
   "name": "nalab-telomeres"
  },
  "language_info": {
   "codemirror_mode": {
    "name": "ipython",
    "version": 3
   },
   "file_extension": ".py",
   "mimetype": "text/x-python",
   "name": "python",
   "nbconvert_exporter": "python",
   "pygments_lexer": "ipython3",
   "version": "3.10.6"
  },
  "toc-autonumbering": true
 },
 "nbformat": 4,
 "nbformat_minor": 5
}
