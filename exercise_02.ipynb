{
  "cells": [
    {
      "cell_type": "markdown",
      "id": "49316708-036d-4fc0-8ac7-e847b55146df",
      "metadata": {
        "id": "49316708-036d-4fc0-8ac7-e847b55146df"
      },
      "source": [
        "# Exercise 2"
      ]
    },
    {
      "cell_type": "markdown",
      "id": "900f889b-30c9-4c82-b729-1295e2022ff1",
      "metadata": {
        "id": "900f889b-30c9-4c82-b729-1295e2022ff1"
      },
      "source": [
        "## General"
      ]
    },
    {
      "cell_type": "markdown",
      "id": "5995652a-a12f-434a-bbed-3c378dce7928",
      "metadata": {
        "id": "5995652a-a12f-434a-bbed-3c378dce7928"
      },
      "source": [
        "a. Define Knowledge Discovery in Databases!"
      ]
    },
    {
      "cell_type": "code",
      "execution_count": null,
      "id": "00a84273-97d5-4bab-873a-906528c24261",
      "metadata": {
        "tags": [
          "placeholder"
        ],
        "id": "00a84273-97d5-4bab-873a-906528c24261"
      },
      "outputs": [],
      "source": [
        "#find meaningful structured data in possibly low quality databases, cleaning, -> find valid, novel, understandable and usefeul data ion dbs"
      ]
    },
    {
      "cell_type": "markdown",
      "id": "5ebb2b50-5d67-4d21-a8ff-bef9d8b42098",
      "metadata": {
        "id": "5ebb2b50-5d67-4d21-a8ff-bef9d8b42098"
      },
      "source": [
        "b. What is the difference between data mining and knowledge discovery (based on the definitions used in the lecture slides)?"
      ]
    },
    {
      "cell_type": "code",
      "execution_count": null,
      "id": "b1ce47ea-3d7f-4e26-a2b4-12aefd1d0cdc",
      "metadata": {
        "tags": [
          "placeholder"
        ],
        "id": "b1ce47ea-3d7f-4e26-a2b4-12aefd1d0cdc"
      },
      "outputs": [],
      "source": [
        "#data mining: find data first, kdd: data is laready ther in db"
      ]
    },
    {
      "cell_type": "markdown",
      "id": "5f439c9f-5cb4-4bc6-bca8-75945653f565",
      "metadata": {
        "id": "5f439c9f-5cb4-4bc6-bca8-75945653f565"
      },
      "source": [
        "c. List four typical methods applied in the context of KDD applications and briefly describe them!"
      ]
    },
    {
      "cell_type": "code",
      "execution_count": null,
      "id": "8a122b1b-4ab6-4fc1-a536-d3e4af2113ca",
      "metadata": {
        "tags": [
          "placeholder"
        ],
        "id": "8a122b1b-4ab6-4fc1-a536-d3e4af2113ca"
      },
      "outputs": [],
      "source": [
        "#data cleaning: remove NaNs, put it NaNs, find empty cells, fill them possibly\n",
        "#data processing: make categories from string to categorical, timesstring to timestamps, converting units, find possible doubles"
      ]
    },
    {
      "cell_type": "markdown",
      "id": "d1001bd2-2d45-4a0f-8933-0221f097a7b3",
      "metadata": {
        "id": "d1001bd2-2d45-4a0f-8933-0221f097a7b3"
      },
      "source": [
        "d. Welche Geschäftsziele werden typischerweise durch KDD unterstützt?"
      ]
    },
    {
      "cell_type": "code",
      "execution_count": null,
      "id": "27a9813e-a173-40d1-9019-b7a8c21bbb8d",
      "metadata": {
        "tags": [
          "placeholder"
        ],
        "id": "27a9813e-a173-40d1-9019-b7a8c21bbb8d"
      },
      "outputs": [],
      "source": []
    },
    {
      "cell_type": "markdown",
      "id": "ed89bd3b-2b3f-45e2-ad76-5eb0d9675da1",
      "metadata": {
        "id": "ed89bd3b-2b3f-45e2-ad76-5eb0d9675da1"
      },
      "source": [
        "e. Nennen und erklären Sie kurz die drei Charakterisitiken für Daten mit der [Gartner 2012] Big Data definiert!"
      ]
    },
    {
      "cell_type": "code",
      "execution_count": null,
      "id": "10fa23df-60ed-4d3a-a402-0107de1b316d",
      "metadata": {
        "tags": [
          "placeholder"
        ],
        "id": "10fa23df-60ed-4d3a-a402-0107de1b316d"
      },
      "outputs": [],
      "source": [
        "#high volume of data\n",
        "#high velocity, lots of new data quickly produced\n",
        "#high variety, lots of categories, columns, features, possibly doubles and useless"
      ]
    },
    {
      "cell_type": "markdown",
      "id": "47dac8f3-1723-485a-b8ac-894a9dc7924a",
      "metadata": {
        "id": "47dac8f3-1723-485a-b8ac-894a9dc7924a"
      },
      "source": [
        "## CRISP-DM"
      ]
    },
    {
      "cell_type": "markdown",
      "id": "1d6de039-0a1a-4757-b86d-32a28a77941f",
      "metadata": {
        "id": "1d6de039-0a1a-4757-b86d-32a28a77941f"
      },
      "source": [
        "a. Nennen Sie die sechs Phasen der CRISP-DM Methodologie und beschreiben Sie stichpunktartig, was dort geschieht!"
      ]
    },
    {
      "cell_type": "code",
      "execution_count": null,
      "id": "8e4bb2eb-09b8-476d-b330-53fc6faeec79",
      "metadata": {
        "tags": [
          "placeholder"
        ],
        "id": "8e4bb2eb-09b8-476d-b330-53fc6faeec79"
      },
      "outputs": [],
      "source": [
        "#business understanding: where is the data coming from, what is it supposed to portray, what is the general quality (curated, generated automatically)\n",
        "#data understanding: structure, data formats, sources?\n",
        "#data processing: find/delete/manuipulate missing values, convert units/categories, choose interesting columns\n",
        "#modeling: linear regression/logistic regression/neural networks"
      ]
    },
    {
      "cell_type": "markdown",
      "id": "3e4fe0e0-a127-4e27-bbc3-b41c53c2c396",
      "metadata": {
        "id": "3e4fe0e0-a127-4e27-bbc3-b41c53c2c396"
      },
      "source": [
        "b. Wie hängt die Vorverarbeitungsphase konzeptuell mit den anderen Phasen zusammen?"
      ]
    },
    {
      "cell_type": "code",
      "execution_count": null,
      "id": "58b5e2b6-8251-4b5b-9218-c30a4002b9b3",
      "metadata": {
        "tags": [
          "placeholder"
        ],
        "id": "58b5e2b6-8251-4b5b-9218-c30a4002b9b3"
      },
      "outputs": [],
      "source": []
    },
    {
      "cell_type": "markdown",
      "id": "300e735f-dd6a-459a-b9b2-e9493abe2973",
      "metadata": {
        "id": "300e735f-dd6a-459a-b9b2-e9493abe2973"
      },
      "source": [
        "c. Was sollte in der Evaluation-Phase erfolgen?"
      ]
    },
    {
      "cell_type": "code",
      "execution_count": null,
      "id": "a428ef0c-9f1f-412b-a16b-e2025ad91cf6",
      "metadata": {
        "tags": [
          "placeholder"
        ],
        "id": "a428ef0c-9f1f-412b-a16b-e2025ad91cf6"
      },
      "outputs": [],
      "source": []
    },
    {
      "cell_type": "markdown",
      "id": "23d5d772-fe85-4e0e-a15f-e86d2834ec03",
      "metadata": {
        "id": "23d5d772-fe85-4e0e-a15f-e86d2834ec03"
      },
      "source": [
        "## Regression: House Prices (1)"
      ]
    },
    {
      "cell_type": "markdown",
      "id": "a210dd2e-0ded-43a9-ab3c-9762833de157",
      "metadata": {
        "id": "a210dd2e-0ded-43a9-ab3c-9762833de157"
      },
      "source": [
        "In this set of exercises, we will work on a task that aims to predict housing prices from variables describing that describe those homes.\n",
        "The task is based on a [Kaggle Competition](https://www.kaggle.com/competitions/house-prices-advanced-regression-techniques).\n",
        "Here is a more detailed description of the task:"
      ]
    },
    {
      "cell_type": "markdown",
      "id": "d85980fd-3e46-47e9-add0-c47d66eb46d8",
      "metadata": {
        "id": "d85980fd-3e46-47e9-add0-c47d66eb46d8"
      },
      "source": [
        "> Ask a home buyer to describe their dream house, and they probably won't begin with the height of the basement ceiling or the proximity to an east-west railroad. But this playground competition's dataset proves that much more influences price negotiations than the number of bedrooms or a white-picket fence.\n",
        ">\n",
        "> With 79 explanatory variables describing (almost) every aspect of residential homes in Ames, Iowa, this competition challenges you to predict the final price of each home.\n",
        "\n",
        "A [detailed description of the data](https://www.kaggle.com/competitions/house-prices-advanced-regression-techniques/data) can be found on [Kaggle](https://www.kaggle.com/). Additional information is included in the file `data_description.txt`."
      ]
    },
    {
      "cell_type": "markdown",
      "id": "599c9f86-83c6-436f-b658-4cbcddebdff7",
      "metadata": {
        "id": "599c9f86-83c6-436f-b658-4cbcddebdff7"
      },
      "source": [
        "### Load the \"House Prices\" dataset using `pandas`"
      ]
    },
    {
      "cell_type": "markdown",
      "id": "409ec328-2551-4b97-a0bc-cd75526bf23d",
      "metadata": {
        "id": "409ec328-2551-4b97-a0bc-cd75526bf23d"
      },
      "source": [
        "1) Use [the function `read_csv`](https://pandas.pydata.org/docs/reference/api/pandas.read_csv.html) from the `pandas` library to read the CSV file `train.csv`.\n",
        "1) Make sure the `Id` column is set as the index (see `index_col`).\n",
        "1) Store the data in the variable `data_houses`."
      ]
    },
    {
      "cell_type": "code",
      "execution_count": null,
      "id": "0fdded0f-c9de-4558-880d-f9407620f8af",
      "metadata": {
        "tags": [
          "placeholder"
        ],
        "id": "0fdded0f-c9de-4558-880d-f9407620f8af"
      },
      "outputs": [],
      "source": []
    },
    {
      "cell_type": "markdown",
      "id": "e5c8cc6b-3bb7-4a8d-a1a9-d902cb409f43",
      "metadata": {
        "id": "e5c8cc6b-3bb7-4a8d-a1a9-d902cb409f43"
      },
      "source": [
        "### Try to fit a model"
      ]
    },
    {
      "cell_type": "markdown",
      "id": "cb85ee8e-6bab-4676-89b1-88049a704e2d",
      "metadata": {
        "id": "cb85ee8e-6bab-4676-89b1-88049a704e2d"
      },
      "source": [
        "1) Define input variables `X` and the output variable `y`.\n",
        "2) Try to fit a [`LinearRegression` model](https://scikit-learn.org/stable/modules/generated/sklearn.linear_model.LinearRegression.html) from [scikit-learn](https://scikit-learn.org/stable/).\n",
        "3) Why did fitting the model not work?\n",
        "4) What should be done before trying to fit a model."
      ]
    },
    {
      "cell_type": "code",
      "execution_count": null,
      "id": "bafa7012-06c5-40a2-9b90-3679b7d4e142",
      "metadata": {
        "tags": [
          "placeholder"
        ],
        "id": "bafa7012-06c5-40a2-9b90-3679b7d4e142"
      },
      "outputs": [],
      "source": []
    },
    {
      "cell_type": "markdown",
      "id": "92354b82-40f3-4b13-931e-01fb59b834da",
      "metadata": {
        "id": "92354b82-40f3-4b13-931e-01fb59b834da"
      },
      "source": [
        "### Preliminary data inspection"
      ]
    },
    {
      "cell_type": "markdown",
      "id": "e24f00f5-9256-4525-859d-8d0c58e7080d",
      "metadata": {
        "id": "e24f00f5-9256-4525-859d-8d0c58e7080d"
      },
      "source": [
        "1. Which variables are numbers? (**hint**: use `select_dtypes` and [`numpy`'s data type](https://numpy.org/doc/stable/user/basics.types.html) `number` )\n",
        "1. Which variables contain empty values? How many NAs are there for each variable? (**hint**: you can use the `pandas` function `isna`)\n",
        "1. How many variables (in percent) do we loose if we only use numeric variables?\n",
        "1. How many variables (in percent) do we loose if we drop all variables that have NAs?\n",
        "1. How many samples do we loose (in percent) if we drop all samples that contain NAs?\n",
        "1. How many variables do we have left if we only use numeric variables and drop all variables with NAs?"
      ]
    },
    {
      "cell_type": "code",
      "execution_count": null,
      "id": "68056088-0f14-47c0-8cc4-647ae4c505d2",
      "metadata": {
        "tags": [
          "placeholder"
        ],
        "id": "68056088-0f14-47c0-8cc4-647ae4c505d2"
      },
      "outputs": [],
      "source": []
    },
    {
      "cell_type": "markdown",
      "id": "948e6f8d-3b07-486b-af8a-3ff999c5e747",
      "metadata": {
        "id": "948e6f8d-3b07-486b-af8a-3ff999c5e747"
      },
      "source": [
        "### Try to fit the model again"
      ]
    },
    {
      "cell_type": "markdown",
      "id": "ed53fbe2-bf1d-476c-8dfe-b9f76481d235",
      "metadata": {
        "id": "ed53fbe2-bf1d-476c-8dfe-b9f76481d235"
      },
      "source": [
        "1. Select only numeric variables and drop all variables with NAs\n",
        "2. Try to fit the model on this \"clean\" data\n",
        "3. Predict the house prices based on the cleaned data\n",
        "4. Calculate the mean and standard devitation of the absolute difference of your predictions to the real prices\n"
      ]
    },
    {
      "cell_type": "code",
      "execution_count": null,
      "id": "5e165bb4-5f9f-4c89-a9d0-46a57621965b",
      "metadata": {
        "tags": [
          "placeholder"
        ],
        "id": "5e165bb4-5f9f-4c89-a9d0-46a57621965b"
      },
      "outputs": [],
      "source": []
    },
    {
      "cell_type": "markdown",
      "id": "42b5c6a2-1749-4783-9bb4-d87bb4475f96",
      "metadata": {
        "id": "42b5c6a2-1749-4783-9bb4-d87bb4475f96"
      },
      "source": [
        "### Optimize"
      ]
    },
    {
      "cell_type": "markdown",
      "id": "e3a93b4d-149d-469d-a0ec-b39f344cbe31",
      "metadata": {
        "id": "e3a93b4d-149d-469d-a0ec-b39f344cbe31"
      },
      "source": [
        "\n",
        "1. Try different regularization methods ([ridge](https://scikit-learn.org/stable/modules/generated/sklearn.linear_model.Ridge.html), or [Lasso](https://scikit-learn.org/stable/modules/generated/sklearn.linear_model.Lasso.html)).\n",
        "2. Try normalizing the features (use [`StandardScaler`](https://scikit-learn.org/stable/modules/generated/sklearn.preprocessing.StandardScaler.html) and [`make_pipeline`](https://scikit-learn.org/stable/modules/generated/sklearn.pipeline.make_pipeline.html)).\n",
        "3. Do the result change?"
      ]
    },
    {
      "cell_type": "code",
      "execution_count": null,
      "id": "3569d64b-a737-413c-b323-3e725a71bcc8",
      "metadata": {
        "tags": [
          "placeholder"
        ],
        "id": "3569d64b-a737-413c-b323-3e725a71bcc8"
      },
      "outputs": [],
      "source": []
    },
    {
      "cell_type": "markdown",
      "id": "c019b410-90bc-42c4-82aa-2b4648b3a179",
      "metadata": {
        "id": "c019b410-90bc-42c4-82aa-2b4648b3a179"
      },
      "source": [
        "### Introspection"
      ]
    },
    {
      "cell_type": "markdown",
      "id": "d3a0756e-09ec-4fd5-8398-f5d851da8ea0",
      "metadata": {
        "id": "d3a0756e-09ec-4fd5-8398-f5d851da8ea0"
      },
      "source": [
        "1. Discuss whether the predictions you had are good or bad."
      ]
    },
    {
      "cell_type": "code",
      "execution_count": null,
      "id": "30f67279-4a50-4b41-b606-9cc5de100012",
      "metadata": {
        "tags": [
          "placeholder"
        ],
        "id": "30f67279-4a50-4b41-b606-9cc5de100012"
      },
      "outputs": [],
      "source": []
    },
    {
      "cell_type": "markdown",
      "id": "73c9d6de-c00f-4d54-a13d-26d15bd76b57",
      "metadata": {
        "id": "73c9d6de-c00f-4d54-a13d-26d15bd76b57"
      },
      "source": [
        "2. Do you think, our evaluation of the model is OK?"
      ]
    },
    {
      "cell_type": "code",
      "execution_count": null,
      "id": "4442b957-9164-4abf-905e-5a083ba08cdd",
      "metadata": {
        "tags": [
          "placeholder"
        ],
        "id": "4442b957-9164-4abf-905e-5a083ba08cdd"
      },
      "outputs": [],
      "source": []
    },
    {
      "cell_type": "markdown",
      "id": "d556b9bc-1a5e-4bee-8533-dc3c3f68ec89",
      "metadata": {
        "id": "d556b9bc-1a5e-4bee-8533-dc3c3f68ec89"
      },
      "source": [
        "2. Discuss whether dropping features, as we did is a good idea or not."
      ]
    },
    {
      "cell_type": "code",
      "execution_count": null,
      "id": "689c4c0c-ba31-4515-8845-157af4696f6e",
      "metadata": {
        "tags": [
          "placeholder"
        ],
        "id": "689c4c0c-ba31-4515-8845-157af4696f6e"
      },
      "outputs": [],
      "source": []
    },
    {
      "cell_type": "markdown",
      "id": "cb122d33-737a-40ab-8fb7-bda4c9316bf9",
      "metadata": {
        "id": "cb122d33-737a-40ab-8fb7-bda4c9316bf9"
      },
      "source": [
        "3. Look at the data again (and its description), and check whether including the variables as numeric input features makes sense."
      ]
    },
    {
      "cell_type": "code",
      "execution_count": null,
      "id": "4331a6d1-ba33-431c-aac0-4614cbee8c43",
      "metadata": {
        "tags": [
          "placeholder"
        ],
        "id": "4331a6d1-ba33-431c-aac0-4614cbee8c43"
      },
      "outputs": [],
      "source": []
    },
    {
      "cell_type": "markdown",
      "id": "f8977d5e-134f-47e4-abb0-b6b7655cefba",
      "metadata": {
        "id": "f8977d5e-134f-47e4-abb0-b6b7655cefba"
      },
      "source": [
        "4. What should we have done before fitting a model?"
      ]
    },
    {
      "cell_type": "code",
      "execution_count": null,
      "id": "6aacd6e4-84b1-4829-846d-3f9e31ab0ace",
      "metadata": {
        "tags": [
          "placeholder"
        ],
        "id": "6aacd6e4-84b1-4829-846d-3f9e31ab0ace"
      },
      "outputs": [],
      "source": []
    },
    {
      "cell_type": "markdown",
      "id": "78e042aa-17f0-488e-a5fe-c43d0f71cc81",
      "metadata": {
        "id": "78e042aa-17f0-488e-a5fe-c43d0f71cc81"
      },
      "source": [
        "5. What would be our next steps?"
      ]
    },
    {
      "cell_type": "code",
      "execution_count": null,
      "id": "a2fab569-2a14-4e34-95d0-ba286934ca8d",
      "metadata": {
        "tags": [
          "placeholder"
        ],
        "id": "a2fab569-2a14-4e34-95d0-ba286934ca8d"
      },
      "outputs": [],
      "source": []
    },
    {
      "cell_type": "markdown",
      "id": "f8af1426-7ea8-42cd-9e23-91b1f8a0600f",
      "metadata": {
        "id": "f8af1426-7ea8-42cd-9e23-91b1f8a0600f"
      },
      "source": [
        "### BONUS"
      ]
    },
    {
      "cell_type": "markdown",
      "id": "2af5f92e-d36a-4d43-8d78-cdb91ba7059f",
      "metadata": {
        "id": "2af5f92e-d36a-4d43-8d78-cdb91ba7059f"
      },
      "source": [
        "Try to optimize your predictions."
      ]
    }
  ],
  "metadata": {
    "kernelspec": {
      "display_name": "teaching-datascience",
      "language": "python",
      "name": "teaching-datascience"
    },
    "language_info": {
      "codemirror_mode": {
        "name": "ipython",
        "version": 3
      },
      "file_extension": ".py",
      "mimetype": "text/x-python",
      "name": "python",
      "nbconvert_exporter": "python",
      "pygments_lexer": "ipython3",
      "version": "3.10.6"
    },
    "colab": {
      "provenance": []
    }
  },
  "nbformat": 4,
  "nbformat_minor": 5
}