{
 "cells": [
  {
   "cell_type": "markdown",
   "id": "53ad851c-e846-46f8-bfb0-bdcc5a8abb71",
   "metadata": {},
   "source": [
    "# An immune clock of human pregnancy (2)"
   ]
  },
  {
   "cell_type": "markdown",
   "metadata": {},
   "source": [
    "## Load the data"
   ]
  },
  {
   "cell_type": "code",
   "execution_count": null,
   "metadata": {},
   "outputs": [],
   "source": [
    "# code for loading the data\n",
    "# NOTE: Make sure to install `pandas<2.0.0`\n",
    "\n",
    "import numpy as np\n",
    "import pickle\n",
    "\n",
    "with open(\"part1_multiomics_data.pickle\", \"rb\") as file:\n",
    "    data_multiomics = pickle.load(file)\n",
    "    \n",
    "data_multiomics.head(5)"
   ]
  },
  {
   "cell_type": "markdown",
   "id": "1e208e6c-6b53-4a94-a4d9-eea2545378a1",
   "metadata": {},
   "source": [
    "## Task 1: Use proper evaluation techniques to evaluate your models\n",
    "\n",
    "For this we need to implement nested leave one group out cross validation ourselves because `scikit-learn` is missing functionality. \n",
    "\n",
    "**Note:** We do not need to set aside a test set because there is an extra validation dataset that you currently don't have access to."
   ]
  },
  {
   "cell_type": "code",
   "execution_count": null,
   "id": "72f7cbc5-5d8e-4f45-aaa4-b2d90cfbfdf1",
   "metadata": {},
   "outputs": [],
   "source": [
    "# groups are the patient ids\n",
    "from sklearn.pipeline import make_pipeline\n",
    "\n",
    "\n",
    "groups = np.unique(data_multiomics[\"Gates ID\"])\n",
    "\n",
    "# keep track of predictions  here\n",
    "results_outer = {\n",
    "    \"y_true\": [],\n",
    "    \"y_pred\": [],\n",
    "}\n",
    "\n",
    "# define a model pipeline with a StandardScaler and Ridge regression\n",
    "pipeline = make_pipeline(...) \n",
    "\n",
    "# outer cross validation loop\n",
    "for g_outer in groups:\n",
    "    X_train = # `immune_system` features for all available patients excluding patient g_outer\n",
    "    y_train = # gestational_age for all available patients excluding patient g_outer\n",
    "    X_val = # `immune_system` features for patient g_outer\n",
    "    y_val = # gestational_age patient g_outer\n",
    "\n",
    "    # parameters to try for the model\n",
    "    # for Ridge regression, the regularization parameter is alpha\n",
    "    parameters = [{\"alpha\": 0.1}, {\"alpha\": 1}, {\"alpha\": 10}]\n",
    "\n",
    "    results_params = []\n",
    "\n",
    "    for param in parameters:\n",
    "\n",
    "        results_inner = {\n",
    "            \"y_true\": [],\n",
    "            \"y_pred\": [],\n",
    "        }\n",
    "\n",
    "        # inner cross validation loop for hyperparameter optimization\n",
    "        for g_inner in [g for g in groups if g != g_outer]:\n",
    "            X_train_inner = # `immune_system` features for all available patients excluding patient g_inner and g_outer\n",
    "            y_train_inner = # gestational_age for all available patients excluding patient g_inner and g_outer\n",
    "            X_val_inner = # `immune_system` features for patient g_inner\n",
    "            y_val_inner = # gestational_age patient g_inner\n",
    "            \n",
    "            # fit the model\n",
    "\n",
    "            # predict on the validation set\n",
    "\n",
    "            # store the results (y_true, y_pred) in results_inner\n",
    "\n",
    "        # calculate the error across all inner folds\n",
    "        # store the results (y_true, y_pred) in results_params\n",
    "    \n",
    "    # select the best model based on results in result_params\n",
    "\n",
    "    # predict on the validation set\n",
    "\n",
    "    # store the results (y_true, y_pred) in results_outer\n",
    "\n",
    "# calculate the error across all outer folds using either MSE, MAE, as well as `scipy.stats.spearmanr`"
   ]
  },
  {
   "cell_type": "code",
   "execution_count": null,
   "metadata": {},
   "outputs": [],
   "source": [
    "# plot the results\n",
    "import seaborn as sns\n",
    "sns.regplot(x=results_outer[\"y_true\"], y=results_outer[\"y_pred\"])"
   ]
  },
  {
   "cell_type": "markdown",
   "metadata": {},
   "source": [
    "## Task 2: Try to get the best predictions"
   ]
  },
  {
   "cell_type": "markdown",
   "metadata": {},
   "source": [
    "You can check the paper for inspiration on which models to try."
   ]
  },
  {
   "cell_type": "markdown",
   "id": "58877194-bff2-462f-bbfc-c64b9ccf3f91",
   "metadata": {},
   "source": [
    "## Task 3: Questions"
   ]
  },
  {
   "cell_type": "markdown",
   "metadata": {},
   "source": [
    "1. Why are we using leave one **Group** out cross validation?\n",
    "2. Is the code above doing grid search or random search for hyper parameter optimization"
   ]
  },
  {
   "cell_type": "markdown",
   "id": "52ad8f7a-958f-44ec-8281-831e324b568d",
   "metadata": {},
   "source": [
    "## Bonus: Sex of the baby"
   ]
  },
  {
   "cell_type": "markdown",
   "id": "5b3a9325-f608-4833-8795-b831fa02b603",
   "metadata": {},
   "source": [
    "Repeat the same with the sex of the baby and/or neural networks using PyTorch."
   ]
  }
 ],
 "metadata": {
  "kernelspec": {
   "display_name": "teaching-datascience-2023ws",
   "language": "python",
   "name": "python3"
  },
  "language_info": {
   "codemirror_mode": {
    "name": "ipython",
    "version": 3
   },
   "file_extension": ".py",
   "mimetype": "text/x-python",
   "name": "python",
   "nbconvert_exporter": "python",
   "pygments_lexer": "ipython3",
   "version": "3.10.13"
  },
  "toc-autonumbering": true
 },
 "nbformat": 4,
 "nbformat_minor": 5
}
