{
 "cells": [
  {
   "cell_type": "markdown",
   "id": "d2019575-8123-44a0-8cda-6ef7187e1ae1",
   "metadata": {},
   "source": [
    "# Exercise 1: Introduction to Python and Jupyter Lab"
   ]
  },
  {
   "cell_type": "markdown",
   "id": "20f726eb-1d25-4a7c-a00b-c0f490538421",
   "metadata": {
    "tags": []
   },
   "source": [
    "## Basic Python"
   ]
  },
  {
   "cell_type": "markdown",
   "id": "b7215a40-ffb1-4397-b6ae-e660731c0055",
   "metadata": {},
   "source": [
    "Check the tutorial `exercise_01_intro-python_tutorial.ipynb` before you start working on these exercises."
   ]
  },
  {
   "cell_type": "markdown",
   "id": "8549d49e-cd70-4291-8890-08b1ba1821bd",
   "metadata": {},
   "source": [
    "### Use Python as a calculator to compute 256²"
   ]
  },
  {
   "cell_type": "code",
   "execution_count": null,
   "id": "65548a5d-87f6-4c37-a2e5-28387d05eee6",
   "metadata": {},
   "outputs": [],
   "source": []
  },
  {
   "cell_type": "markdown",
   "id": "796e67f6-add2-400f-915c-37255b0e35a9",
   "metadata": {},
   "source": [
    "### Create a list that contains the 4 strings \"alpha\", \"beta\", \"gamma\", and \"delta\". Add \"epsilon\" to the end of this list"
   ]
  },
  {
   "cell_type": "code",
   "execution_count": null,
   "id": "718837d8-264f-4332-b22a-9987324cefb1",
   "metadata": {},
   "outputs": [],
   "source": []
  },
  {
   "cell_type": "markdown",
   "id": "22f2ad0e-c11c-46e3-8050-fe312bbf9097",
   "metadata": {},
   "source": [
    "### Create a sublist with the first three elements of this list\n"
   ]
  },
  {
   "cell_type": "code",
   "execution_count": null,
   "id": "0b89085b-b045-41e2-8c83-caf67b6290ba",
   "metadata": {},
   "outputs": [],
   "source": []
  },
  {
   "cell_type": "markdown",
   "id": "8b2b8421-fbfc-49df-8307-f42a274291ba",
   "metadata": {},
   "source": [
    "### Write a Python program to construct the following pattern using for loops"
   ]
  },
  {
   "cell_type": "code",
   "execution_count": null,
   "id": "51f32eaa-9883-44c0-bf2a-6ef56edb82e8",
   "metadata": {},
   "outputs": [],
   "source": [
    "* \n",
    "* * \n",
    "* * * \n",
    "* * * * \n",
    "* * * * * \n",
    "* * * * \n",
    "* * * \n",
    "* * \n",
    "*"
   ]
  },
  {
   "cell_type": "code",
   "execution_count": null,
   "id": "ed48f57d-d7c8-4e91-8e2a-e0f151bbeece",
   "metadata": {},
   "outputs": [],
   "source": []
  },
  {
   "cell_type": "markdown",
   "id": "70312636-b1ff-41d6-889d-873e9d048471",
   "metadata": {},
   "source": [
    "### Write a function that takes 3 input parameters and returns the product of these values"
   ]
  },
  {
   "cell_type": "code",
   "execution_count": null,
   "id": "4863bfd6-95fe-42aa-a680-136c962a7a45",
   "metadata": {},
   "outputs": [],
   "source": []
  },
  {
   "cell_type": "markdown",
   "id": "56d39b56-d594-44f3-ada8-51d422263d26",
   "metadata": {},
   "source": [
    "### Write a Python function that takes an int as a parameter and checks if the number is prime or not."
   ]
  },
  {
   "cell_type": "code",
   "execution_count": null,
   "id": "98883f70-686d-4831-8e1f-681caf5efcda",
   "metadata": {},
   "outputs": [],
   "source": []
  },
  {
   "cell_type": "markdown",
   "id": "20ac68fc-30e1-4bb8-a758-f60772d588dd",
   "metadata": {},
   "source": [
    "### Use your function to create a list that contains all primes from 2 to 100"
   ]
  },
  {
   "cell_type": "code",
   "execution_count": null,
   "id": "b4c221b8-9944-43ab-93d1-e4458806b52f",
   "metadata": {},
   "outputs": [],
   "source": []
  },
  {
   "cell_type": "markdown",
   "id": "3b4c7acf-a017-4f40-ae6f-3a55edf5bff2",
   "metadata": {},
   "source": [
    "### Write a function that simulates dice rolls (6-sided dices)\n",
    "- Write a function that has the number of dice rolls as the input parameter\n",
    "- The output is a map with the counts how often each result of a roll (1-6) occurred\n",
    "- You can use the randomint() function from the random package"
   ]
  },
  {
   "cell_type": "code",
   "execution_count": null,
   "id": "199fda56-3238-48d3-889a-3a043e04f88e",
   "metadata": {},
   "outputs": [],
   "source": [
    "# load the random package\n",
    "import random"
   ]
  },
  {
   "cell_type": "code",
   "execution_count": null,
   "id": "7e622e39-d1ab-437a-9319-020727d1c48b",
   "metadata": {},
   "outputs": [],
   "source": []
  },
  {
   "cell_type": "markdown",
   "id": "a1e47dde-6e38-4668-a962-3a2fb9b783e0",
   "metadata": {},
   "source": [
    "### Combine two dictionaries by adding values for common keys.\n",
    "d1 = {'a': 100, 'b': 200, 'c':300}\n",
    "\n",
    "d2 = {'a': 300, 'b': 200, 'd':400}\n",
    "\n",
    "Sample output: {'a': 400, 'b': 400, 'd': 400, 'c': 300}"
   ]
  },
  {
   "cell_type": "code",
   "execution_count": null,
   "id": "ce2de309-bf49-44dd-a9ca-83d9d20e6918",
   "metadata": {},
   "outputs": [],
   "source": []
  },
  {
   "cell_type": "markdown",
   "id": "3acc1c3f-be2a-4a2f-a950-f6e88a480278",
   "metadata": {},
   "source": [
    "### Create a list of lists. Then, write a list comprehension that creates a list with the lengths of each (sub)list in the primary list"
   ]
  },
  {
   "cell_type": "code",
   "execution_count": null,
   "id": "2b5b5793-df44-41a1-b890-a78f1e94cfc4",
   "metadata": {},
   "outputs": [],
   "source": []
  },
  {
   "cell_type": "markdown",
   "id": "1112b85d-aa4f-482c-8b23-18c89d9eb489",
   "metadata": {},
   "source": [
    "### Exceptions\n",
    "\n",
    "Write your own function *my_division* that gets two variables a and b and returns a divided by b. Catch the ZeroDivisionError that occurs if b equals 0 and return 1 in this case.\n",
    "\n",
    "How could the same behavior be achieved without catching an exception?"
   ]
  },
  {
   "cell_type": "code",
   "execution_count": null,
   "id": "6ecc7bf0-6f39-48d9-961c-c9d19f14ba9f",
   "metadata": {},
   "outputs": [],
   "source": []
  },
  {
   "cell_type": "markdown",
   "id": "2109c903-0838-4fd4-b358-f50b24f04cb5",
   "metadata": {},
   "source": [
    "### File handling\n",
    "\n",
    "Write a function that gets a letter and the path to a (text-)file on your harddrive as input parameters and computes a list as its output. The list should contain one number for each line. The i-th line shows, how often the given letter occurs in line number i in the text file. Test your function on \"ftest.txt\", which was provided in this exercise!"
   ]
  },
  {
   "cell_type": "code",
   "execution_count": null,
   "id": "d981c0cf-8761-42fb-9a3b-2d25bc165053",
   "metadata": {},
   "outputs": [],
   "source": []
  },
  {
   "cell_type": "markdown",
   "id": "2186eb5d-4547-4a45-a7e8-7e4d124802ea",
   "metadata": {},
   "source": [
    "## Numpy\n",
    "\n",
    "In this last set of tasks, you will have to work with [numpy](https://numpy.org/), the the fundamental package for scientific computing with Python.\n",
    "Make sure to execute the cell below to import the package, we will usually use the abbreviation np for numpy to obtain shorter code."
   ]
  },
  {
   "cell_type": "code",
   "execution_count": 23,
   "id": "720f6b80-8830-48bb-b76c-08628745d322",
   "metadata": {},
   "outputs": [],
   "source": [
    "import numpy as np"
   ]
  },
  {
   "cell_type": "markdown",
   "id": "f8a4c99f-1ec5-47bf-9f39-9b0da4838ecb",
   "metadata": {},
   "source": [
    "### Create a numpy array with 20 rows and 10 columns, where all values are set to zero"
   ]
  },
  {
   "cell_type": "code",
   "execution_count": null,
   "id": "8e035f33-904c-414d-b4ce-04016d8425a8",
   "metadata": {},
   "outputs": [],
   "source": []
  },
  {
   "cell_type": "markdown",
   "id": "c3b7fa97-c0dd-42af-be96-6c9ee3a18273",
   "metadata": {},
   "source": [
    "### Create an array with the same shape containing all natural numbers 0-199"
   ]
  },
  {
   "cell_type": "code",
   "execution_count": null,
   "id": "4020da1d-7463-4b95-b675-ad8958af6882",
   "metadata": {},
   "outputs": [],
   "source": []
  },
  {
   "cell_type": "markdown",
   "id": "8d41870d-164f-4a72-9ca7-c9c0965f9000",
   "metadata": {},
   "source": [
    "### Create a 4-dimensional array with exactly 16 elements and set all values to a random integer smaller than 5"
   ]
  },
  {
   "cell_type": "code",
   "execution_count": null,
   "id": "64d65c53-8dfc-490d-ae44-74c40e4dcdda",
   "metadata": {},
   "outputs": [],
   "source": []
  },
  {
   "cell_type": "markdown",
   "id": "d07b914f-8caf-4180-9134-63f08d654c2a",
   "metadata": {},
   "source": [
    "### What is the mean of all values contained in this array?"
   ]
  },
  {
   "cell_type": "code",
   "execution_count": null,
   "id": "82ad759f-8c1a-4abf-bf92-f17bc6280426",
   "metadata": {},
   "outputs": [],
   "source": []
  },
  {
   "cell_type": "markdown",
   "id": "4d5087de-7f2d-4e9a-9f1a-c84eb4bd2019",
   "metadata": {},
   "source": [
    "### Select a sub-array containing exactly two elements of that array!"
   ]
  },
  {
   "cell_type": "code",
   "execution_count": null,
   "id": "01556c1f-d86e-42f9-9fb6-6bfb78ccbb97",
   "metadata": {},
   "outputs": [],
   "source": []
  },
  {
   "cell_type": "markdown",
   "id": "7501a465-9803-4158-9714-4fbc2190cf8e",
   "metadata": {},
   "source": [
    "### Given a numpy array, return a new numpy array that contains only the elements that are greater than 100"
   ]
  },
  {
   "cell_type": "code",
   "execution_count": null,
   "id": "f3838a6f-2481-4957-8261-c7f6dd9b1a4f",
   "metadata": {},
   "outputs": [],
   "source": []
  },
  {
   "cell_type": "markdown",
   "id": "3cd641ad-4ac5-437a-8b64-5e96ee744d1f",
   "metadata": {},
   "source": [
    "## Pandas"
   ]
  },
  {
   "cell_type": "markdown",
   "id": "d8e26d1b-98e8-400b-9d89-d4fbaf8b779a",
   "metadata": {},
   "source": [
    "> **pandas** is a fast, powerful, flexible and easy to use open source data analysis and manipulation tool,\n",
    "built on top of the Python programming language.<br/>[(source)](https://pandas.pydata.org/)\n",
    "\n",
    "We will do a couple of simple things here. For more material see:\n",
    "* [10 minutes to pandas](https://pandas.pydata.org/docs/user_guide/10min.html) (this is probably more than ten minutes ;))\n",
    "* [Pandas tutorial by Kaggle](https://www.kaggle.com/learn/pandas)"
   ]
  },
  {
   "cell_type": "code",
   "execution_count": 8,
   "id": "4c3ff186-c04c-4875-a6df-55b0cd4fa799",
   "metadata": {},
   "outputs": [],
   "source": [
    "import pandas as pd"
   ]
  },
  {
   "cell_type": "markdown",
   "id": "d133d6e5-4a71-455f-8eb8-fe20dcbb571b",
   "metadata": {},
   "source": [
    "### Read the CSV file `exercise_01_titanic.csv` using pandas."
   ]
  },
  {
   "cell_type": "markdown",
   "id": "793a3313-a813-4abb-8634-6c7ac442b3dc",
   "metadata": {},
   "source": [
    "* see [`read_csv` documentation](https://pandas.pydata.org/docs/reference/api/pandas.read_csv.html) for an example\n",
    "* make sure the `index` is set to the `PassengerId`"
   ]
  },
  {
   "cell_type": "code",
   "execution_count": null,
   "id": "9896d2ae-aee9-4d3a-9a85-9c115df82eb1",
   "metadata": {},
   "outputs": [],
   "source": []
  },
  {
   "cell_type": "markdown",
   "id": "c3e8698a-3926-494d-a6ff-c103faad7376",
   "metadata": {},
   "source": [
    "### Display the first/last five rows the dataset you loaded"
   ]
  },
  {
   "cell_type": "code",
   "execution_count": null,
   "id": "59a835b1-ff1b-4121-b4ed-dc38c6c13ea2",
   "metadata": {},
   "outputs": [],
   "source": []
  },
  {
   "cell_type": "markdown",
   "id": "671ef93c-f34b-4e34-b6a9-c374ef89412c",
   "metadata": {},
   "source": [
    "### Use the `describe` method to look at the features in the dataset."
   ]
  },
  {
   "cell_type": "code",
   "execution_count": null,
   "id": "6b910a50-98d0-4601-ae06-0c4bfcbd7c36",
   "metadata": {},
   "outputs": [],
   "source": []
  },
  {
   "cell_type": "markdown",
   "id": "1b2a0d28-210d-49ee-a0be-cef663ac31ca",
   "metadata": {},
   "source": [
    "### Select the `Survived` variable and store it in `y`"
   ]
  },
  {
   "cell_type": "code",
   "execution_count": null,
   "id": "7ab7a94c-8b61-4b0b-b0bb-eac716c57135",
   "metadata": {},
   "outputs": [],
   "source": []
  },
  {
   "cell_type": "markdown",
   "id": "ce42e6ef-3972-4fa8-bafc-44245f683cc7",
   "metadata": {},
   "source": [
    "### Select all variables of type `numeric` except `Survived` and store it in `X`"
   ]
  },
  {
   "cell_type": "markdown",
   "id": "4b3452c3-661c-4a99-a90a-5dba6f56012e",
   "metadata": {},
   "source": [
    "*Hint*: Use panda's `select_dtypes`."
   ]
  },
  {
   "cell_type": "code",
   "execution_count": null,
   "id": "6ca8a836-82b8-480d-92f8-3d399f2e5599",
   "metadata": {},
   "outputs": [],
   "source": []
  },
  {
   "cell_type": "markdown",
   "id": "a05012dd-2f7b-4947-8596-ced06325f09b",
   "metadata": {},
   "source": [
    "### Calculate the number of NAs (not defined values) for each variables in `X`"
   ]
  },
  {
   "cell_type": "code",
   "execution_count": null,
   "id": "3322d658-5032-457e-8cd6-7f88ee3d236c",
   "metadata": {},
   "outputs": [],
   "source": []
  },
  {
   "cell_type": "markdown",
   "id": "d814d2dc-59d3-4e4f-b833-96481b621211",
   "metadata": {},
   "source": [
    "Also, which variable has the most NAs?"
   ]
  },
  {
   "cell_type": "markdown",
   "id": "5ef9797d-e9d2-4dfb-9a81-040e0c2a3438",
   "metadata": {},
   "source": [
    "### Calculate the mean, standard deviation, size and the number of defined values for the `Age` for each `Pclass`"
   ]
  },
  {
   "cell_type": "markdown",
   "id": "e0456532-a0db-459c-8cbd-39c75543ad1e",
   "metadata": {},
   "source": [
    "*Hint*: Use `groupby`"
   ]
  },
  {
   "cell_type": "code",
   "execution_count": null,
   "id": "c61f52bf-2926-4eb6-a7e2-ef4493b54bcb",
   "metadata": {},
   "outputs": [],
   "source": []
  },
  {
   "cell_type": "markdown",
   "id": "e3b5fea1-f07e-48fb-85fd-152a60462f04",
   "metadata": {},
   "source": [
    "## Plotting"
   ]
  },
  {
   "cell_type": "markdown",
   "id": "1ebe72a9-1f20-407d-8ab3-3efd8d56a1ab",
   "metadata": {},
   "source": [
    "The `matplotlib` library is one of the main libraries for visualziations in Python. `seaborn` builds on `matplotlib` and provides easier access to common plotting scenarios."
   ]
  },
  {
   "cell_type": "markdown",
   "id": "f9b15c93-d901-4827-8fc7-38f65d8655d8",
   "metadata": {},
   "source": [
    "### Matplotlib"
   ]
  },
  {
   "cell_type": "markdown",
   "id": "ce59f5a3-88e3-46c0-8e36-2e2745195b2e",
   "metadata": {},
   "source": [
    "1) Follow the [pyplot tutorial](https://matplotlib.org/stable/tutorials/introductory/pyplot.html) including *\"Plotting with categorical variables\"*.\n",
    "2) Apply at least one of the plots to the titanic dataset from above.\n",
    "\n",
    "*Note*: It makes sense to eventually learn the \"object oriented\" `matplotlib` API (also see [here](https://matplotlib.org/stable/tutorials/introductory/pyplot.html))."
   ]
  },
  {
   "cell_type": "code",
   "execution_count": null,
   "id": "90937345-6be6-4e4f-8503-661ffcd0362f",
   "metadata": {
    "tags": []
   },
   "outputs": [],
   "source": []
  },
  {
   "cell_type": "markdown",
   "id": "2100aff6-04e0-4443-bb7b-6bf747988cf2",
   "metadata": {},
   "source": [
    "### Seaborn"
   ]
  },
  {
   "cell_type": "markdown",
   "id": "70d1336f-64a4-41c8-a2b3-d5f6b4f9a851",
   "metadata": {},
   "source": [
    "1) Follow the [`seaborn` introduction](https://seaborn.pydata.org/tutorial/introduction.html) until *\"Plots for categorical data\"*.\n",
    "2) Apply at least one of the plots to the titanic dataset from above."
   ]
  },
  {
   "cell_type": "code",
   "execution_count": null,
   "id": "576e1a69-23d7-4b28-a41c-7d00ee80e185",
   "metadata": {},
   "outputs": [],
   "source": []
  },
  {
   "cell_type": "markdown",
   "id": "936b1ff5-11ce-439d-a4e0-92773b8d121d",
   "metadata": {},
   "source": [
    "## Bonus"
   ]
  },
  {
   "cell_type": "markdown",
   "id": "c027862d-61f2-475f-8fe0-b924c457802e",
   "metadata": {},
   "source": [
    "* Fit a model that predicts whether a passenger `Survived` using [Scikit-Learn](https://scikit-learn.org/stable/). See the [supervised machine learning tutorial](https://scikit-learn.org/stable/tutorial/statistical_inference/supervised_learning.html) for reference.\n",
    "* Evaluate the performance of your model.\n",
    "* Try to optimize your model."
   ]
  },
  {
   "cell_type": "code",
   "execution_count": null,
   "id": "2ecf7ca2-cf69-4328-bb3e-58c3faf9a32a",
   "metadata": {},
   "outputs": [],
   "source": []
  }
 ],
 "metadata": {
  "kernelspec": {
   "display_name": "nalab-telomeres",
   "language": "python",
   "name": "nalab-telomeres"
  },
  "language_info": {
   "codemirror_mode": {
    "name": "ipython",
    "version": 3
   },
   "file_extension": ".py",
   "mimetype": "text/x-python",
   "name": "python",
   "nbconvert_exporter": "python",
   "pygments_lexer": "ipython3",
   "version": "3.10.6"
  },
  "toc-autonumbering": true
 },
 "nbformat": 4,
 "nbformat_minor": 5
}
