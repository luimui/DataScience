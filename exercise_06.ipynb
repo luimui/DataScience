{
 "cells": [
  {
   "cell_type": "markdown",
   "id": "e330f2c4-c934-49ef-ab7c-f5e66c0b7703",
   "metadata": {
    "editable": true,
    "slideshow": {
     "slide_type": ""
    },
    "tags": []
   },
   "source": [
    "# Exercise 6"
   ]
  },
  {
   "cell_type": "markdown",
   "id": "3990b085",
   "metadata": {},
   "source": [
    "## Recall"
   ]
  },
  {
   "cell_type": "markdown",
   "id": "cd1ca58d",
   "metadata": {
    "editable": true,
    "slideshow": {
     "slide_type": ""
    },
    "tags": []
   },
   "source": [
    "Basics: List four typical methods applied in the context of Knowledge Discovery from Databases (KDD) applications and briefly describe them!"
   ]
  },
  {
   "cell_type": "markdown",
   "id": "aa0633bc",
   "metadata": {
    "editable": true,
    "slideshow": {
     "slide_type": ""
    },
    "tags": []
   },
   "source": [
    "Basics: List and describe the 6 phases of the CRISP-DM model!"
   ]
  },
  {
   "cell_type": "markdown",
   "id": "e6e1b037",
   "metadata": {
    "editable": true,
    "slideshow": {
     "slide_type": ""
    },
    "tags": []
   },
   "source": [
    "Basics: What should happen during the evaluation phase?"
   ]
  },
  {
   "cell_type": "markdown",
   "id": "7dc2bf7c",
   "metadata": {
    "editable": true,
    "slideshow": {
     "slide_type": ""
    },
    "tags": []
   },
   "source": [
    "Evaluation: Define the accuracy measure."
   ]
  },
  {
   "cell_type": "markdown",
   "id": "943f1f96",
   "metadata": {
    "editable": true,
    "slideshow": {
     "slide_type": ""
    },
    "tags": []
   },
   "source": [
    "Evaluation: What is class imbalance and why can it cause a high accuracy even though the classifier is bad? Give an example."
   ]
  },
  {
   "cell_type": "markdown",
   "id": "046badf3",
   "metadata": {
    "editable": true,
    "slideshow": {
     "slide_type": ""
    },
    "tags": []
   },
   "source": [
    "Evaluation: In what applications is precision more important than recall, and in which applications is recall more important than precision?"
   ]
  },
  {
   "cell_type": "markdown",
   "id": "b0c173c9",
   "metadata": {
    "editable": true,
    "slideshow": {
     "slide_type": ""
    },
    "tags": []
   },
   "source": [
    "Evaluation: What is grouped cross validation and when should you use it? Come up with an example and iterate all splits."
   ]
  },
  {
   "cell_type": "markdown",
   "id": "e8d7b18e",
   "metadata": {
    "editable": true,
    "slideshow": {
     "slide_type": ""
    },
    "tags": []
   },
   "source": [
    "Statistics: Multiple hypothesis comparison"
   ]
  },
  {
   "cell_type": "markdown",
   "id": "7dc8025c",
   "metadata": {
    "editable": true,
    "slideshow": {
     "slide_type": ""
    },
    "tags": []
   },
   "source": [
    "1) Explain what the multiple hypothesis comparison is and why it is a problem (refer to p-values in the process).\n",
    "2) What is a way to correct for multiple hypothesis comparison. Give a concrete example.\n",
    "3) What is the difference between an $\\alpha$-value and a p-value?"
   ]
  },
  {
   "cell_type": "markdown",
   "id": "97b3db1f-d56e-47fc-8abe-4257b0ac7830",
   "metadata": {
    "editable": true,
    "slideshow": {
     "slide_type": ""
    },
    "tags": [],
    "vscode": {
     "languageId": "plaintext"
    }
   },
   "source": [
    "## Univariate analysis"
   ]
  },
  {
   "cell_type": "markdown",
   "id": "4ac48d38-7346-4428-b3a7-189c322e119d",
   "metadata": {
    "editable": true,
    "slideshow": {
     "slide_type": ""
    },
    "tags": []
   },
   "source": [
    "### Load the data"
   ]
  },
  {
   "cell_type": "code",
   "execution_count": 2,
   "id": "114e302d-5cbb-4121-913b-cb8221521d41",
   "metadata": {
    "editable": true,
    "slideshow": {
     "slide_type": ""
    },
    "tags": []
   },
   "outputs": [],
   "source": [
    "# imports\n",
    "import numpy as np\n",
    "import pandas as pd\n",
    "\n",
    "from sklearn.model_selection import train_test_split, cross_validate, StratifiedKFold, RepeatedStratifiedKFold\n",
    "\n",
    "from sklearn.pipeline import make_pipeline\n",
    "\n",
    "from sklearn.impute import SimpleImputer\n",
    "from sklearn.preprocessing import StandardScaler\n",
    "\n",
    "from sklearn.linear_model import LogisticRegression\n",
    "from sklearn.ensemble import RandomForestClassifier\n",
    "from sklearn.tree import DecisionTreeClassifier\n",
    "from sklearn.svm import LinearSVC\n",
    "\n",
    "import matplotlib.pyplot as plt\n",
    "import seaborn as sns"
   ]
  },
  {
   "cell_type": "code",
   "execution_count": 3,
   "id": "b2911d33-ef82-40ce-a633-c355ed690932",
   "metadata": {
    "editable": true,
    "slideshow": {
     "slide_type": ""
    },
    "tags": []
   },
   "outputs": [],
   "source": [
    "# load data\n",
    "data_titanic = pd.read_csv(\"exercise_01_intro-to-python_titanic.csv\", index_col=\"PassengerId\")"
   ]
  },
  {
   "cell_type": "code",
   "execution_count": 4,
   "id": "dc9ed22f-63e0-425d-9250-fb875d9c683d",
   "metadata": {
    "editable": true,
    "slideshow": {
     "slide_type": ""
    },
    "tags": []
   },
   "outputs": [],
   "source": [
    "def extract_features(data):\n",
    "    \"\"\"Extract features from existing variables\"\"\"\n",
    "    \n",
    "    data_extract = data.copy()\n",
    "    \n",
    "    # name\n",
    "    name_only = data_extract[\"Name\"].str.replace(r\"\\(.*\\)\", \"\", regex=True)\n",
    "    first_name = name_only.str.split(\", \", expand=True).iloc[:,1]\n",
    "    title = first_name.str.split(\".\", expand=True).iloc[:,0]\n",
    "    data_extract[\"Title\"] = title\n",
    "        \n",
    "    # ticket\n",
    "    \n",
    "    # ...\n",
    "    \n",
    "    return data_extract\n",
    "    \n",
    "data_extract = extract_features(data_titanic)"
   ]
  },
  {
   "cell_type": "code",
   "execution_count": 5,
   "id": "6048ef31-61ef-41a2-80f3-9d19c095646f",
   "metadata": {
    "editable": true,
    "slideshow": {
     "slide_type": ""
    },
    "tags": []
   },
   "outputs": [],
   "source": [
    "def preprocess(data):\n",
    "    \"\"\"Convert features into numeric variables readable by our models.\"\"\" \n",
    "    \n",
    "    data_preprocessed = data.copy()\n",
    "    \n",
    "    # Sex\n",
    "    \n",
    "    data_preprocessed = pd.get_dummies(data_preprocessed, columns=[\"Sex\"], drop_first=True)\n",
    "    \n",
    "    # Embarked\n",
    "    \n",
    "    data_preprocessed = pd.get_dummies(data_preprocessed, columns=[\"Embarked\"], dummy_na=True)\n",
    "    \n",
    "    # Title\n",
    "    title = data_preprocessed[\"Title\"]\n",
    "    title_counts = title.value_counts()\n",
    "    higher_titles = title_counts[title_counts < 50]\n",
    "    title_groups = [\"higher\" if t in higher_titles else t for t in title]\n",
    "    data_preprocessed[\"Title\"] = title_groups\n",
    "    data_preprocessed = pd.get_dummies(data_preprocessed, columns=[\"Title\"])\n",
    "    \n",
    "    # drop the rest\n",
    "    data_preprocessed.drop(columns=[\"Name\", \"Cabin\", \"Ticket\"], inplace=True)\n",
    "    \n",
    "    return data_preprocessed\n",
    "\n",
    "data_preprocessed = preprocess(data_extract)"
   ]
  },
  {
   "cell_type": "code",
   "execution_count": 6,
   "id": "41a7ba31-efc9-439d-b5e8-e2e441678fc7",
   "metadata": {
    "editable": true,
    "slideshow": {
     "slide_type": ""
    },
    "tags": []
   },
   "outputs": [],
   "source": [
    "# before inspecting the data, selecting and building models, etc. \n",
    "# FIRST split data into train and test data (we set the test data size to 30%)\n",
    "\n",
    "X = data_preprocessed.drop(columns=\"Survived\")\n",
    "y = data_preprocessed[\"Survived\"]"
   ]
  },
  {
   "cell_type": "code",
   "execution_count": 7,
   "id": "22b12288-9c3f-4945-9102-78ea93d869db",
   "metadata": {
    "editable": true,
    "slideshow": {
     "slide_type": ""
    },
    "tags": []
   },
   "outputs": [
    {
     "data": {
      "text/html": [
       "<div>\n",
       "<style scoped>\n",
       "    .dataframe tbody tr th:only-of-type {\n",
       "        vertical-align: middle;\n",
       "    }\n",
       "\n",
       "    .dataframe tbody tr th {\n",
       "        vertical-align: top;\n",
       "    }\n",
       "\n",
       "    .dataframe thead th {\n",
       "        text-align: right;\n",
       "    }\n",
       "</style>\n",
       "<table border=\"1\" class=\"dataframe\">\n",
       "  <thead>\n",
       "    <tr style=\"text-align: right;\">\n",
       "      <th></th>\n",
       "      <th>Pclass</th>\n",
       "      <th>Age</th>\n",
       "      <th>SibSp</th>\n",
       "      <th>Parch</th>\n",
       "      <th>Fare</th>\n",
       "      <th>Sex_male</th>\n",
       "      <th>Embarked_C</th>\n",
       "      <th>Embarked_Q</th>\n",
       "      <th>Embarked_S</th>\n",
       "      <th>Embarked_nan</th>\n",
       "      <th>Title_Miss</th>\n",
       "      <th>Title_Mr</th>\n",
       "      <th>Title_Mrs</th>\n",
       "      <th>Title_higher</th>\n",
       "    </tr>\n",
       "    <tr>\n",
       "      <th>PassengerId</th>\n",
       "      <th></th>\n",
       "      <th></th>\n",
       "      <th></th>\n",
       "      <th></th>\n",
       "      <th></th>\n",
       "      <th></th>\n",
       "      <th></th>\n",
       "      <th></th>\n",
       "      <th></th>\n",
       "      <th></th>\n",
       "      <th></th>\n",
       "      <th></th>\n",
       "      <th></th>\n",
       "      <th></th>\n",
       "    </tr>\n",
       "  </thead>\n",
       "  <tbody>\n",
       "    <tr>\n",
       "      <th>1</th>\n",
       "      <td>3</td>\n",
       "      <td>22.0</td>\n",
       "      <td>1</td>\n",
       "      <td>0</td>\n",
       "      <td>7.2500</td>\n",
       "      <td>True</td>\n",
       "      <td>False</td>\n",
       "      <td>False</td>\n",
       "      <td>True</td>\n",
       "      <td>False</td>\n",
       "      <td>False</td>\n",
       "      <td>True</td>\n",
       "      <td>False</td>\n",
       "      <td>False</td>\n",
       "    </tr>\n",
       "    <tr>\n",
       "      <th>2</th>\n",
       "      <td>1</td>\n",
       "      <td>38.0</td>\n",
       "      <td>1</td>\n",
       "      <td>0</td>\n",
       "      <td>71.2833</td>\n",
       "      <td>False</td>\n",
       "      <td>True</td>\n",
       "      <td>False</td>\n",
       "      <td>False</td>\n",
       "      <td>False</td>\n",
       "      <td>False</td>\n",
       "      <td>False</td>\n",
       "      <td>True</td>\n",
       "      <td>False</td>\n",
       "    </tr>\n",
       "    <tr>\n",
       "      <th>3</th>\n",
       "      <td>3</td>\n",
       "      <td>26.0</td>\n",
       "      <td>0</td>\n",
       "      <td>0</td>\n",
       "      <td>7.9250</td>\n",
       "      <td>False</td>\n",
       "      <td>False</td>\n",
       "      <td>False</td>\n",
       "      <td>True</td>\n",
       "      <td>False</td>\n",
       "      <td>True</td>\n",
       "      <td>False</td>\n",
       "      <td>False</td>\n",
       "      <td>False</td>\n",
       "    </tr>\n",
       "  </tbody>\n",
       "</table>\n",
       "</div>"
      ],
      "text/plain": [
       "             Pclass   Age  SibSp  Parch     Fare  Sex_male  Embarked_C  \\\n",
       "PassengerId                                                              \n",
       "1                 3  22.0      1      0   7.2500      True       False   \n",
       "2                 1  38.0      1      0  71.2833     False        True   \n",
       "3                 3  26.0      0      0   7.9250     False       False   \n",
       "\n",
       "             Embarked_Q  Embarked_S  Embarked_nan  Title_Miss  Title_Mr  \\\n",
       "PassengerId                                                               \n",
       "1                 False        True         False       False      True   \n",
       "2                 False       False         False       False     False   \n",
       "3                 False        True         False        True     False   \n",
       "\n",
       "             Title_Mrs  Title_higher  \n",
       "PassengerId                           \n",
       "1                False         False  \n",
       "2                 True         False  \n",
       "3                False         False  "
      ]
     },
     "execution_count": 7,
     "metadata": {},
     "output_type": "execute_result"
    }
   ],
   "source": [
    "X.head(3)"
   ]
  },
  {
   "cell_type": "markdown",
   "id": "50f51122-4b44-474f-8299-f08af8e10b03",
   "metadata": {
    "editable": true,
    "slideshow": {
     "slide_type": ""
    },
    "tags": []
   },
   "source": [
    "### Univariate comparison"
   ]
  },
  {
   "cell_type": "code",
   "execution_count": 8,
   "id": "a3f4cc13-67f9-43c6-9cac-0cd3e52d0c62",
   "metadata": {
    "editable": true,
    "slideshow": {
     "slide_type": ""
    },
    "tags": []
   },
   "outputs": [],
   "source": [
    "from scipy.stats import spearmanr, mannwhitneyu, ranksums"
   ]
  },
  {
   "cell_type": "code",
   "execution_count": 9,
   "id": "fc22332e-3191-4712-9a76-dd6273673672",
   "metadata": {
    "editable": true,
    "slideshow": {
     "slide_type": ""
    },
    "tags": []
   },
   "outputs": [
    {
     "data": {
      "text/plain": [
       "{}"
      ]
     },
     "execution_count": 9,
     "metadata": {},
     "output_type": "execute_result"
    }
   ],
   "source": [
    "# for each feature calculate whether there is a statistical difference between survivors (1) and victims (0)\n",
    "tests = {}\n",
    "for c in X.columns:\n",
    "    # TODO: fill this in by computing the test statistic for each feature columns!\n",
    "    # tests[c] = mannwhitneyu()\n",
    "    pass\n",
    "tests"
   ]
  },
  {
   "cell_type": "markdown",
   "id": "ad6da4c9-8727-4bd5-a6e6-2610c707a12a",
   "metadata": {
    "editable": true,
    "slideshow": {
     "slide_type": ""
    },
    "tags": []
   },
   "source": [
    "Which is the feature most associated with surviving?"
   ]
  },
  {
   "cell_type": "markdown",
   "id": "28beb73a-88c6-41cf-abbb-84a80aa94d6d",
   "metadata": {
    "editable": true,
    "slideshow": {
     "slide_type": ""
    },
    "tags": []
   },
   "source": [
    "Is the association with `Survived` positive or negative?"
   ]
  },
  {
   "cell_type": "code",
   "execution_count": 12,
   "id": "6c7a3b4f-d904-4039-ba52-40c11da7b543",
   "metadata": {
    "editable": true,
    "slideshow": {
     "slide_type": ""
    },
    "tags": []
   },
   "outputs": [
    {
     "data": {
      "text/plain": [
       "{}"
      ]
     },
     "execution_count": 12,
     "metadata": {},
     "output_type": "execute_result"
    }
   ],
   "source": [
    "# calculate the spearman correlation between all features\n",
    "tests = {}\n",
    "for c1 in X.columns:\n",
    "    for c2 in X.columns:\n",
    "        # TODO: fill this on\n",
    "        # tests[(c1, c2)] = spearmanr()\n",
    "        pass\n",
    "tests"
   ]
  },
  {
   "cell_type": "code",
   "execution_count": 14,
   "id": "9712f768-e221-4700-adef-cd0f653ddd3e",
   "metadata": {
    "editable": true,
    "slideshow": {
     "slide_type": ""
    },
    "tags": []
   },
   "outputs": [],
   "source": [
    "# we can do the same with a pandas function:\n",
    "corr = X.corr(method=\"spearman\")"
   ]
  },
  {
   "cell_type": "code",
   "execution_count": 15,
   "id": "56c650ec-ec5f-4cb4-b879-ffb6c7481c32",
   "metadata": {
    "editable": true,
    "slideshow": {
     "slide_type": ""
    },
    "tags": []
   },
   "outputs": [
    {
     "data": {
      "text/plain": [
       "<Axes: >"
      ]
     },
     "execution_count": 15,
     "metadata": {},
     "output_type": "execute_result"
    },
    {
     "data": {
      "image/png": "[encoded data removed]",
      "text/plain": [
       "<Figure size 640x480 with 2 Axes>"
      ]
     },
     "metadata": {},
     "output_type": "display_data"
    }
   ],
   "source": [
    "# and plot it\n",
    "sns.heatmap(corr, center=0, vmin=-1, vmax=1)"
   ]
  },
  {
   "cell_type": "markdown",
   "id": "1adc867e-8134-4a57-a9f5-03e5d8fc793a",
   "metadata": {
    "editable": true,
    "slideshow": {
     "slide_type": ""
    },
    "tags": []
   },
   "source": [
    "What is the maximum and minimum value of the Spearman correlation coefficient and what do they mean?"
   ]
  },
  {
   "cell_type": "markdown",
   "id": "1db4f0a1-5564-4f8c-9f73-27119bc6c105",
   "metadata": {
    "editable": true,
    "slideshow": {
     "slide_type": ""
    },
    "tags": []
   },
   "source": [
    "> **Answer:** -1 (strong negative correlation) and 1 (strong positive correlation)"
   ]
  },
  {
   "cell_type": "markdown",
   "id": "e8e2949f-841f-4c9b-846d-ed3a63c2b2c5",
   "metadata": {
    "editable": true,
    "slideshow": {
     "slide_type": ""
    },
    "tags": []
   },
   "source": [
    "What is the strongest correlation of all feature pairs?"
   ]
  },
  {
   "cell_type": "markdown",
   "id": "5e30bbcb-7fa2-4b9b-9cef-6e369ed26a11",
   "metadata": {
    "editable": true,
    "slideshow": {
     "slide_type": ""
    },
    "tags": []
   },
   "source": [
    "> **Answer:** Check `tests`"
   ]
  },
  {
   "cell_type": "markdown",
   "id": "acbd09f2-9d35-4e54-b379-fe2219c85341",
   "metadata": {
    "editable": true,
    "slideshow": {
     "slide_type": ""
    },
    "tags": []
   },
   "source": [
    "## BONUS:"
   ]
  },
  {
   "cell_type": "markdown",
   "id": "6152ac03-b86c-406a-8cb1-cd261619a86f",
   "metadata": {
    "editable": true,
    "slideshow": {
     "slide_type": ""
    },
    "tags": []
   },
   "source": [
    "Plot a scatter plot with each point representing a feature (e.g., using t-SNE for dimensionality reduction), the size represention the assciation to `Survived`, the color corresponding to the direction of the association, and ines between the features if their absolute correlation exceeds 0.5."
   ]
  },
  {
   "cell_type": "code",
   "execution_count": null,
   "id": "83702aea-bd9a-463b-8334-04f8eb6d9261",
   "metadata": {
    "editable": true,
    "slideshow": {
     "slide_type": ""
    },
    "tags": []
   },
   "outputs": [],
   "source": []
  }
 ],
 "metadata": {
  "kernelspec": {
   "display_name": "Python 3 (ipykernel)",
   "language": "python",
   "name": "python3"
  },
  "language_info": {
   "codemirror_mode": {
    "name": "ipython",
    "version": 3
   },
   "file_extension": ".py",
   "mimetype": "text/x-python",
   "name": "python",
   "nbconvert_exporter": "python",
   "pygments_lexer": "ipython3",
   "version": "3.11.5"
  },
  "toc-autonumbering": true
 },
 "nbformat": 4,
 "nbformat_minor": 5
}
